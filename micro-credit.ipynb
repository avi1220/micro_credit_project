{
  "nbformat": 4,
  "nbformat_minor": 0,
  "metadata": {
    "kernelspec": {
      "display_name": "Python 3",
      "language": "python",
      "name": "python3"
    },
    "language_info": {
      "codemirror_mode": {
        "name": "ipython",
        "version": 3
      },
      "file_extension": ".py",
      "mimetype": "text/x-python",
      "name": "python",
      "nbconvert_exporter": "python",
      "pygments_lexer": "ipython3",
      "version": "3.7.4"
    },
    "colab": {
      "name": "micro.ipynb",
      "provenance": []
    }
  },
  "cells": [
    {
      "cell_type": "code",
      "metadata": {
        "id": "Vz54yDbRHxfd"
      },
      "source": [
        "import numpy as np\n",
        "import pandas as pd\n",
        "import warnings \n",
        "warnings.filterwarnings('ignore')\n",
        "import seaborn as sns\n",
        "import matplotlib.pyplot as plt\n",
        "from sklearn.metrics import confusion_matrix,classification_report,accuracy_score,f1_score,precision_score,roc_auc_score,roc_curve,auc\n"
      ],
      "execution_count": 1,
      "outputs": []
    },
    {
      "cell_type": "code",
      "metadata": {
        "id": "JKkcYhPZHxfp",
        "outputId": "637c314a-e27c-4d80-9587-35c8e8a33695",
        "colab": {
          "base_uri": "https://localhost:8080/",
          "height": 316
        }
      },
      "source": [
        "df=pd.read_csv(\"/content/drive/My Drive/Dataset/micro credit/Data file.csv\")\n",
        "df.head()"
      ],
      "execution_count": 2,
      "outputs": [
        {
          "output_type": "execute_result",
          "data": {
            "text/html": [
              "<div>\n",
              "<style scoped>\n",
              "    .dataframe tbody tr th:only-of-type {\n",
              "        vertical-align: middle;\n",
              "    }\n",
              "\n",
              "    .dataframe tbody tr th {\n",
              "        vertical-align: top;\n",
              "    }\n",
              "\n",
              "    .dataframe thead th {\n",
              "        text-align: right;\n",
              "    }\n",
              "</style>\n",
              "<table border=\"1\" class=\"dataframe\">\n",
              "  <thead>\n",
              "    <tr style=\"text-align: right;\">\n",
              "      <th></th>\n",
              "      <th>Unnamed: 0</th>\n",
              "      <th>label</th>\n",
              "      <th>msisdn</th>\n",
              "      <th>aon</th>\n",
              "      <th>daily_decr30</th>\n",
              "      <th>daily_decr90</th>\n",
              "      <th>rental30</th>\n",
              "      <th>rental90</th>\n",
              "      <th>last_rech_date_ma</th>\n",
              "      <th>last_rech_date_da</th>\n",
              "      <th>last_rech_amt_ma</th>\n",
              "      <th>cnt_ma_rech30</th>\n",
              "      <th>fr_ma_rech30</th>\n",
              "      <th>sumamnt_ma_rech30</th>\n",
              "      <th>medianamnt_ma_rech30</th>\n",
              "      <th>medianmarechprebal30</th>\n",
              "      <th>cnt_ma_rech90</th>\n",
              "      <th>fr_ma_rech90</th>\n",
              "      <th>sumamnt_ma_rech90</th>\n",
              "      <th>medianamnt_ma_rech90</th>\n",
              "      <th>medianmarechprebal90</th>\n",
              "      <th>cnt_da_rech30</th>\n",
              "      <th>fr_da_rech30</th>\n",
              "      <th>cnt_da_rech90</th>\n",
              "      <th>fr_da_rech90</th>\n",
              "      <th>cnt_loans30</th>\n",
              "      <th>amnt_loans30</th>\n",
              "      <th>maxamnt_loans30</th>\n",
              "      <th>medianamnt_loans30</th>\n",
              "      <th>cnt_loans90</th>\n",
              "      <th>amnt_loans90</th>\n",
              "      <th>maxamnt_loans90</th>\n",
              "      <th>medianamnt_loans90</th>\n",
              "      <th>payback30</th>\n",
              "      <th>payback90</th>\n",
              "      <th>pcircle</th>\n",
              "      <th>pdate</th>\n",
              "    </tr>\n",
              "  </thead>\n",
              "  <tbody>\n",
              "    <tr>\n",
              "      <th>0</th>\n",
              "      <td>1</td>\n",
              "      <td>0</td>\n",
              "      <td>21408I70789</td>\n",
              "      <td>272.0</td>\n",
              "      <td>3055.050000</td>\n",
              "      <td>3065.150000</td>\n",
              "      <td>220.13</td>\n",
              "      <td>260.13</td>\n",
              "      <td>2.0</td>\n",
              "      <td>0.0</td>\n",
              "      <td>1539</td>\n",
              "      <td>2</td>\n",
              "      <td>21.0</td>\n",
              "      <td>3078.0</td>\n",
              "      <td>1539.0</td>\n",
              "      <td>7.50</td>\n",
              "      <td>2</td>\n",
              "      <td>21</td>\n",
              "      <td>3078</td>\n",
              "      <td>1539.0</td>\n",
              "      <td>7.50</td>\n",
              "      <td>0.0</td>\n",
              "      <td>0.0</td>\n",
              "      <td>0</td>\n",
              "      <td>0</td>\n",
              "      <td>2</td>\n",
              "      <td>12</td>\n",
              "      <td>6.0</td>\n",
              "      <td>0.0</td>\n",
              "      <td>2.0</td>\n",
              "      <td>12</td>\n",
              "      <td>6</td>\n",
              "      <td>0.0</td>\n",
              "      <td>29.000000</td>\n",
              "      <td>29.000000</td>\n",
              "      <td>UPW</td>\n",
              "      <td>2016-07-20</td>\n",
              "    </tr>\n",
              "    <tr>\n",
              "      <th>1</th>\n",
              "      <td>2</td>\n",
              "      <td>1</td>\n",
              "      <td>76462I70374</td>\n",
              "      <td>712.0</td>\n",
              "      <td>12122.000000</td>\n",
              "      <td>12124.750000</td>\n",
              "      <td>3691.26</td>\n",
              "      <td>3691.26</td>\n",
              "      <td>20.0</td>\n",
              "      <td>0.0</td>\n",
              "      <td>5787</td>\n",
              "      <td>1</td>\n",
              "      <td>0.0</td>\n",
              "      <td>5787.0</td>\n",
              "      <td>5787.0</td>\n",
              "      <td>61.04</td>\n",
              "      <td>1</td>\n",
              "      <td>0</td>\n",
              "      <td>5787</td>\n",
              "      <td>5787.0</td>\n",
              "      <td>61.04</td>\n",
              "      <td>0.0</td>\n",
              "      <td>0.0</td>\n",
              "      <td>0</td>\n",
              "      <td>0</td>\n",
              "      <td>1</td>\n",
              "      <td>12</td>\n",
              "      <td>12.0</td>\n",
              "      <td>0.0</td>\n",
              "      <td>1.0</td>\n",
              "      <td>12</td>\n",
              "      <td>12</td>\n",
              "      <td>0.0</td>\n",
              "      <td>0.000000</td>\n",
              "      <td>0.000000</td>\n",
              "      <td>UPW</td>\n",
              "      <td>2016-08-10</td>\n",
              "    </tr>\n",
              "    <tr>\n",
              "      <th>2</th>\n",
              "      <td>3</td>\n",
              "      <td>1</td>\n",
              "      <td>17943I70372</td>\n",
              "      <td>535.0</td>\n",
              "      <td>1398.000000</td>\n",
              "      <td>1398.000000</td>\n",
              "      <td>900.13</td>\n",
              "      <td>900.13</td>\n",
              "      <td>3.0</td>\n",
              "      <td>0.0</td>\n",
              "      <td>1539</td>\n",
              "      <td>1</td>\n",
              "      <td>0.0</td>\n",
              "      <td>1539.0</td>\n",
              "      <td>1539.0</td>\n",
              "      <td>66.32</td>\n",
              "      <td>1</td>\n",
              "      <td>0</td>\n",
              "      <td>1539</td>\n",
              "      <td>1539.0</td>\n",
              "      <td>66.32</td>\n",
              "      <td>0.0</td>\n",
              "      <td>0.0</td>\n",
              "      <td>0</td>\n",
              "      <td>0</td>\n",
              "      <td>1</td>\n",
              "      <td>6</td>\n",
              "      <td>6.0</td>\n",
              "      <td>0.0</td>\n",
              "      <td>1.0</td>\n",
              "      <td>6</td>\n",
              "      <td>6</td>\n",
              "      <td>0.0</td>\n",
              "      <td>0.000000</td>\n",
              "      <td>0.000000</td>\n",
              "      <td>UPW</td>\n",
              "      <td>2016-08-19</td>\n",
              "    </tr>\n",
              "    <tr>\n",
              "      <th>3</th>\n",
              "      <td>4</td>\n",
              "      <td>1</td>\n",
              "      <td>55773I70781</td>\n",
              "      <td>241.0</td>\n",
              "      <td>21.228000</td>\n",
              "      <td>21.228000</td>\n",
              "      <td>159.42</td>\n",
              "      <td>159.42</td>\n",
              "      <td>41.0</td>\n",
              "      <td>0.0</td>\n",
              "      <td>947</td>\n",
              "      <td>0</td>\n",
              "      <td>0.0</td>\n",
              "      <td>0.0</td>\n",
              "      <td>0.0</td>\n",
              "      <td>0.00</td>\n",
              "      <td>1</td>\n",
              "      <td>0</td>\n",
              "      <td>947</td>\n",
              "      <td>947.0</td>\n",
              "      <td>2.50</td>\n",
              "      <td>0.0</td>\n",
              "      <td>0.0</td>\n",
              "      <td>0</td>\n",
              "      <td>0</td>\n",
              "      <td>2</td>\n",
              "      <td>12</td>\n",
              "      <td>6.0</td>\n",
              "      <td>0.0</td>\n",
              "      <td>2.0</td>\n",
              "      <td>12</td>\n",
              "      <td>6</td>\n",
              "      <td>0.0</td>\n",
              "      <td>0.000000</td>\n",
              "      <td>0.000000</td>\n",
              "      <td>UPW</td>\n",
              "      <td>2016-06-06</td>\n",
              "    </tr>\n",
              "    <tr>\n",
              "      <th>4</th>\n",
              "      <td>5</td>\n",
              "      <td>1</td>\n",
              "      <td>03813I82730</td>\n",
              "      <td>947.0</td>\n",
              "      <td>150.619333</td>\n",
              "      <td>150.619333</td>\n",
              "      <td>1098.90</td>\n",
              "      <td>1098.90</td>\n",
              "      <td>4.0</td>\n",
              "      <td>0.0</td>\n",
              "      <td>2309</td>\n",
              "      <td>7</td>\n",
              "      <td>2.0</td>\n",
              "      <td>20029.0</td>\n",
              "      <td>2309.0</td>\n",
              "      <td>29.00</td>\n",
              "      <td>8</td>\n",
              "      <td>2</td>\n",
              "      <td>23496</td>\n",
              "      <td>2888.0</td>\n",
              "      <td>35.00</td>\n",
              "      <td>0.0</td>\n",
              "      <td>0.0</td>\n",
              "      <td>0</td>\n",
              "      <td>0</td>\n",
              "      <td>7</td>\n",
              "      <td>42</td>\n",
              "      <td>6.0</td>\n",
              "      <td>0.0</td>\n",
              "      <td>7.0</td>\n",
              "      <td>42</td>\n",
              "      <td>6</td>\n",
              "      <td>0.0</td>\n",
              "      <td>2.333333</td>\n",
              "      <td>2.333333</td>\n",
              "      <td>UPW</td>\n",
              "      <td>2016-06-22</td>\n",
              "    </tr>\n",
              "  </tbody>\n",
              "</table>\n",
              "</div>"
            ],
            "text/plain": [
              "   Unnamed: 0  label       msisdn  ...  payback90  pcircle       pdate\n",
              "0           1      0  21408I70789  ...  29.000000      UPW  2016-07-20\n",
              "1           2      1  76462I70374  ...   0.000000      UPW  2016-08-10\n",
              "2           3      1  17943I70372  ...   0.000000      UPW  2016-08-19\n",
              "3           4      1  55773I70781  ...   0.000000      UPW  2016-06-06\n",
              "4           5      1  03813I82730  ...   2.333333      UPW  2016-06-22\n",
              "\n",
              "[5 rows x 37 columns]"
            ]
          },
          "metadata": {
            "tags": []
          },
          "execution_count": 2
        }
      ]
    },
    {
      "cell_type": "code",
      "metadata": {
        "id": "Db0XeQ6cHxfu",
        "outputId": "aecb0b8d-70ac-4ffd-e921-e43a12bff120",
        "colab": {
          "base_uri": "https://localhost:8080/"
        }
      },
      "source": [
        "df.info()"
      ],
      "execution_count": 3,
      "outputs": [
        {
          "output_type": "stream",
          "text": [
            "<class 'pandas.core.frame.DataFrame'>\n",
            "RangeIndex: 209593 entries, 0 to 209592\n",
            "Data columns (total 37 columns):\n",
            " #   Column                Non-Null Count   Dtype  \n",
            "---  ------                --------------   -----  \n",
            " 0   Unnamed: 0            209593 non-null  int64  \n",
            " 1   label                 209593 non-null  int64  \n",
            " 2   msisdn                209593 non-null  object \n",
            " 3   aon                   209593 non-null  float64\n",
            " 4   daily_decr30          209593 non-null  float64\n",
            " 5   daily_decr90          209593 non-null  float64\n",
            " 6   rental30              209593 non-null  float64\n",
            " 7   rental90              209593 non-null  float64\n",
            " 8   last_rech_date_ma     209593 non-null  float64\n",
            " 9   last_rech_date_da     209593 non-null  float64\n",
            " 10  last_rech_amt_ma      209593 non-null  int64  \n",
            " 11  cnt_ma_rech30         209593 non-null  int64  \n",
            " 12  fr_ma_rech30          209593 non-null  float64\n",
            " 13  sumamnt_ma_rech30     209593 non-null  float64\n",
            " 14  medianamnt_ma_rech30  209593 non-null  float64\n",
            " 15  medianmarechprebal30  209593 non-null  float64\n",
            " 16  cnt_ma_rech90         209593 non-null  int64  \n",
            " 17  fr_ma_rech90          209593 non-null  int64  \n",
            " 18  sumamnt_ma_rech90     209593 non-null  int64  \n",
            " 19  medianamnt_ma_rech90  209593 non-null  float64\n",
            " 20  medianmarechprebal90  209593 non-null  float64\n",
            " 21  cnt_da_rech30         209593 non-null  float64\n",
            " 22  fr_da_rech30          209593 non-null  float64\n",
            " 23  cnt_da_rech90         209593 non-null  int64  \n",
            " 24  fr_da_rech90          209593 non-null  int64  \n",
            " 25  cnt_loans30           209593 non-null  int64  \n",
            " 26  amnt_loans30          209593 non-null  int64  \n",
            " 27  maxamnt_loans30       209593 non-null  float64\n",
            " 28  medianamnt_loans30    209593 non-null  float64\n",
            " 29  cnt_loans90           209593 non-null  float64\n",
            " 30  amnt_loans90          209593 non-null  int64  \n",
            " 31  maxamnt_loans90       209593 non-null  int64  \n",
            " 32  medianamnt_loans90    209593 non-null  float64\n",
            " 33  payback30             209593 non-null  float64\n",
            " 34  payback90             209593 non-null  float64\n",
            " 35  pcircle               209593 non-null  object \n",
            " 36  pdate                 209593 non-null  object \n",
            "dtypes: float64(21), int64(13), object(3)\n",
            "memory usage: 59.2+ MB\n"
          ],
          "name": "stdout"
        }
      ]
    },
    {
      "cell_type": "markdown",
      "metadata": {
        "id": "Yl4HPKxQJBh4"
      },
      "source": [
        "# ***EDA***"
      ]
    },
    {
      "cell_type": "code",
      "metadata": {
        "id": "q0zPnZ1fHxfy",
        "outputId": "164a1d15-73da-482b-d1c0-d3a0a261f738",
        "colab": {
          "base_uri": "https://localhost:8080/"
        }
      },
      "source": [
        "df['label'].value_counts()"
      ],
      "execution_count": 4,
      "outputs": [
        {
          "output_type": "execute_result",
          "data": {
            "text/plain": [
              "1    183431\n",
              "0     26162\n",
              "Name: label, dtype: int64"
            ]
          },
          "metadata": {
            "tags": []
          },
          "execution_count": 4
        }
      ]
    },
    {
      "cell_type": "code",
      "metadata": {
        "id": "LElfaF20Hxf1",
        "outputId": "ee25385c-64b3-4408-8c6c-62767bb3f850",
        "colab": {
          "base_uri": "https://localhost:8080/",
          "height": 296
        }
      },
      "source": [
        "sns.countplot(df['label'])"
      ],
      "execution_count": 5,
      "outputs": [
        {
          "output_type": "execute_result",
          "data": {
            "text/plain": [
              "<matplotlib.axes._subplots.AxesSubplot at 0x7f19f6f6c2b0>"
            ]
          },
          "metadata": {
            "tags": []
          },
          "execution_count": 5
        },
        {
          "output_type": "display_data",
          "data": {
            "image/png": "[encoded data removed]",
            "text/plain": [
              "<Figure size 432x288 with 1 Axes>"
            ]
          },
          "metadata": {
            "tags": [],
            "needs_background": "light"
          }
        }
      ]
    },
    {
      "cell_type": "code",
      "metadata": {
        "id": "oeMfYlBHHxf6"
      },
      "source": [
        "data = [df]\n",
        "for column in data:\n",
        "    column.loc[column[\"rental30\"] <= 0,  'balance_group'] = 'no balance'\n",
        "    column.loc[(column[\"rental30\"] > 0) & (column[\"rental30\"] <= 19766), 'balance_group'] = 'low balance'\n",
        "    column.loc[(column[\"rental30\"] > 19766) & (column[\"rental30\"] <= 118572), 'balance_group'] = 'average balance'\n",
        "    column.loc[(column[\"rental30\"] > 118572), 'balance_group'] = 'high balance'"
      ],
      "execution_count": 6,
      "outputs": []
    },
    {
      "cell_type": "code",
      "metadata": {
        "id": "AlvDAH3OHxf-"
      },
      "source": [
        "count_balance = pd.crosstab(df['label'],df['balance_group']).apply(lambda x: x/x.sum() * 100)\n",
        "count_balance = count_balance.transpose()\n"
      ],
      "execution_count": 7,
      "outputs": []
    },
    {
      "cell_type": "code",
      "metadata": {
        "id": "Vy-5AfUMHxgC"
      },
      "source": [
        "balance = pd.DataFrame(df['balance_group'].value_counts())\n",
        "balance['% Subscription'] = count_balance[1]\n",
        "balance.drop('balance_group',axis = 1,inplace = True)\n",
        "\n",
        "balance['balance'] = [1,2,0,3]\n",
        "balance = balance.sort_values('balance',ascending = True)\n"
      ],
      "execution_count": 8,
      "outputs": []
    },
    {
      "cell_type": "code",
      "metadata": {
        "id": "e3zGGYuCHxgG",
        "outputId": "376671a0-d397-4ef3-ea21-96099202e8ae",
        "colab": {
          "base_uri": "https://localhost:8080/",
          "height": 404
        }
      },
      "source": [
        "plot_balance = balance['% Subscription'].plot(kind = 'bar',color = ('yellow'),figsize = (8,6))\n",
        "plt.title('Average main balance account vs loan pay back rate with in 5 days')\n",
        "plt.ylabel('Loan pay back rate with in 5 days')\n",
        "plt.xlabel('Balance Category (rental30)')\n",
        "plt.xticks(rotation = 'horizontal')\n",
        "\n",
        "# label the bar\n",
        "for rec, label in zip(plot_balance.patches,\n",
        "                      balance['% Subscription'].round(1).astype(str)):\n",
        "    plot_balance.text(rec.get_x() + rec.get_width()/2, rec.get_height() + 1,label+'%',ha ='center',color='black')\n",
        "    "
      ],
      "execution_count": 9,
      "outputs": [
        {
          "output_type": "display_data",
          "data": {
            "image/png": "[encoded data removed]",
            "text/plain": [
              "<Figure size 576x432 with 1 Axes>"
            ]
          },
          "metadata": {
            "tags": [],
            "needs_background": "light"
          }
        }
      ]
    },
    {
      "cell_type": "markdown",
      "metadata": {
        "id": "CzxO7mN_HxgJ"
      },
      "source": [
        "From above bar plot we can observe that how customers with different main balance levels are paying back the loan with in five days. The high balance level people are with 100% rate i.e they are paying loan within 5 days. Coming to the average and low balance people it is observed that around 10%-12% of people are not paying the loan within 5 days.\n",
        "Coming to low balance level people, it is observed that around 30% of people are not paying back the loan with in 5 days of time. The 30% of people with no balance or negative balance people are creating a major loss to the company without paying back the loan within five days of time."
      ]
    },
    {
      "cell_type": "code",
      "metadata": {
        "id": "ZT6vq8msHxgK"
      },
      "source": [
        "data = [df]\n",
        "for column in data:\n",
        "    column.loc[column[\"fr_ma_rech30\"] <=0,  'frequency_group'] = 'no frequency'\n",
        "    column.loc[(column['fr_ma_rech30'] > 0) & (column['fr_ma_rech30'] <=1 ), 'frequency_group'] = 'low frequency'\n",
        "    column.loc[(column['fr_ma_rech30'] >1) & (column['fr_ma_rech30'] <=2), 'frequency_group'] = 'medium frequency'\n",
        "    column.loc[(column['fr_ma_rech30'] >2), 'frequency_group'] = 'high frequency'"
      ],
      "execution_count": 10,
      "outputs": []
    },
    {
      "cell_type": "code",
      "metadata": {
        "id": "3AZKqJWWHxgO"
      },
      "source": [
        "count_fre = pd.crosstab(df['label'],df['frequency_group']).apply(lambda x: x/x.sum() * 100)\n",
        "count_fre = count_fre.transpose()"
      ],
      "execution_count": 11,
      "outputs": []
    },
    {
      "cell_type": "code",
      "metadata": {
        "id": "ReCv3NAoHxgU"
      },
      "source": [
        "fre = pd.DataFrame(df['frequency_group'].value_counts())\n",
        "fre['% Subscription'] = count_fre[1]\n",
        "fre.drop('frequency_group',axis = 1,inplace = True)\n",
        "\n",
        "fre['fre'] = [1,2,0,3]\n",
        "fre= fre.sort_values('fre',ascending = True)\n"
      ],
      "execution_count": 12,
      "outputs": []
    },
    {
      "cell_type": "code",
      "metadata": {
        "id": "_6-ndpyHHxgY",
        "outputId": "7a97474f-d379-492b-cdea-ad36aa289499",
        "colab": {
          "base_uri": "https://localhost:8080/",
          "height": 405
        }
      },
      "source": [
        "plot_fre = fre['% Subscription'].plot(kind = 'bar',color = ('red'),figsize = (8,6))\n",
        "\n",
        "plt.title('Frequency of main account recharged in last 30 days vs loan pay back rate with in 5 days')\n",
        "plt.ylabel('Loan pay back rate with in 5 days')\n",
        "plt.xlabel('Frequency Category (fr_ma_rech30)')\n",
        "plt.xticks(rotation = 'horizontal')\n",
        "\n",
        "# label the bar\n",
        "for rec, label in zip(plot_fre.patches,\n",
        "                      fre['% Subscription'].round(1).astype(str)):\n",
        "    plot_fre.text(rec.get_x() + rec.get_width()/2, rec.get_height() + 1, label+'%',  ha = 'center',color = 'black')"
      ],
      "execution_count": 13,
      "outputs": [
        {
          "output_type": "display_data",
          "data": {
            "image/png": "[encoded data removed]",
            "text/plain": [
              "<Figure size 576x432 with 1 Axes>"
            ]
          },
          "metadata": {
            "tags": [],
            "needs_background": "light"
          }
        }
      ]
    },
    {
      "cell_type": "markdown",
      "metadata": {
        "id": "RunnfskqHxgc"
      },
      "source": [
        "From above bar plot we can observe that how customers with different frequency levels (main account recharge) are paying back the loan within five days. The is no 100% rate in any of the frequency levels to pay back the loan within 5 days. Coming to the average and low & medium frequency people it is observed that around 5%-6% of people are not paying the loan within 5 days.\n",
        "Coming to low frequency level people, it is observed that around 25% of people are not paying back the loan with in stipulated 5 days of time. The 25% people who are not getting their main account recharge for 30 days creating a major loss to the company without paying back the loan within five days of time."
      ]
    },
    {
      "cell_type": "code",
      "metadata": {
        "id": "6tCWauH6Hxgc"
      },
      "source": [
        "dat = [df]\n",
        "for column in data:\n",
        "    column.loc[column[\"cnt_loans30\"] <=0,  'loan_frequency_group'] = 'no loans'\n",
        "    column.loc[(column['cnt_loans30'] > 0) & (column['cnt_loans30'] <=1 ), 'loan_frequency_group'] = 'low num of loans'\n",
        "    column.loc[(column['cnt_loans30'] >1) & (column['cnt_loans30'] <=4), 'loan_frequency_group'] = 'medium num of loans'\n",
        "    column.loc[(column['cnt_loans30'] >4), 'loan_frequency_group'] = 'high num of loans'"
      ],
      "execution_count": 14,
      "outputs": []
    },
    {
      "cell_type": "code",
      "metadata": {
        "id": "vkWjctN8Hxgg"
      },
      "source": [
        "count_loan = pd.crosstab(df['label'],df['loan_frequency_group']).apply(lambda x: x/x.sum() * 100)\n",
        "count_loan= count_loan.transpose()"
      ],
      "execution_count": 15,
      "outputs": []
    },
    {
      "cell_type": "code",
      "metadata": {
        "id": "7GNIWOWIHxgk"
      },
      "source": [
        "fre = pd.DataFrame(df['loan_frequency_group'].value_counts())\n",
        "fre['% Subscription'] = count_loan[1]\n",
        "fre.drop('loan_frequency_group',axis = 1,inplace = True)\n",
        "\n",
        "fre['fre'] = [1,2,0,3]\n",
        "fre= fre.sort_values('fre',ascending = True)"
      ],
      "execution_count": 16,
      "outputs": []
    },
    {
      "cell_type": "code",
      "metadata": {
        "id": "QHincy55Hxgo",
        "outputId": "acf23c56-72e7-4587-9bd3-04381a68115a",
        "colab": {
          "base_uri": "https://localhost:8080/",
          "height": 404
        }
      },
      "source": [
        "plot_fre = fre['% Subscription'].plot(kind = 'barh', color = ('blue'), figsize = (8,6))\n",
        "                                              \n",
        "plt.title('Number of loans taken by user in last 30 days vs loan pay back rate with in 5 days')\n",
        "plt.ylabel('Number of loans (cnt_loans30)')\n",
        "plt.xlabel('Loan pay back rate with in 5 days')\n",
        "plt.xticks(rotation = 'horizontal')\n",
        "\n",
        "# label the bar\n",
        "for rec, label in zip(plot_fre.patches,\n",
        "                      fre['% Subscription'].round(1).sort_values(ascending = True).round(1).astype(str)):\n",
        "    plot_fre.text(rec.get_width()+5,rec.get_y()+ rec.get_height()-0.3,label+'%',ha = 'center',va='bottom') \n",
        "    "
      ],
      "execution_count": 17,
      "outputs": [
        {
          "output_type": "display_data",
          "data": {
            "image/png": "[encoded data removed]",
            "text/plain": [
              "<Figure size 576x432 with 1 Axes>"
            ]
          },
          "metadata": {
            "tags": [],
            "needs_background": "light"
          }
        }
      ]
    },
    {
      "cell_type": "markdown",
      "metadata": {
        "id": "3TvA_CB5Hxgr"
      },
      "source": [
        "From above bar plot we can observe that how customers with different loans levels taken are paying back the loan within five days. In the data set people not taken loans are labelled as ‘1’. So we should not consider the people with no loans labelled in the above graph.Considering the remaining levels, there is no 100% rate in any of the loan levels to pay back the loan within 5 days. Coming to the high number of loan level people it is observed that around 25% of people are not paying the loan within 5 days. Only 2% of the people from low number of loans category are not paying the loan within 5 days. This is followed by the people with medium number of loans having defaulters of 7% approximately."
      ]
    },
    {
      "cell_type": "code",
      "metadata": {
        "id": "3tCrd6fdHxgs"
      },
      "source": [
        "data = [df]\n",
        "for column in data:\n",
        "    column.loc[column[\"amnt_loans30\"] <=0,  'loanamnt_frequency_group'] = 'no loans'\n",
        "    column.loc[(column['amnt_loans30'] > 0) & (column['amnt_loans30'] <=6 ), 'loanamnt_frequency_group'] = 'low amnt of loans'\n",
        "    column.loc[(column['amnt_loans30'] >6) & (column['amnt_loans30'] <=24), 'loanamnt_frequency_group'] = 'medium amnt of loans'\n",
        "    column.loc[(column['amnt_loans30'] >24), 'loanamnt_frequency_group'] = 'high amnt of loans'"
      ],
      "execution_count": 18,
      "outputs": []
    },
    {
      "cell_type": "code",
      "metadata": {
        "id": "j0u5Y8suHxgw"
      },
      "source": [
        "count_loanamnt = pd.crosstab(df['label'],df['loanamnt_frequency_group']).apply(lambda x: x/x.sum() * 100)\n",
        "count_loanamnt = count_loanamnt.transpose()"
      ],
      "execution_count": 19,
      "outputs": []
    },
    {
      "cell_type": "code",
      "metadata": {
        "id": "rR3iFxd6Hxg2"
      },
      "source": [
        "fre= pd.DataFrame(df['loanamnt_frequency_group'].value_counts())\n",
        "fre['% Subscription'] = count_loanamnt[1]\n",
        "fre.drop('loanamnt_frequency_group',axis = 1,inplace = True)\n",
        "\n",
        "fre['fre'] = [1,2,0,3]\n",
        "fre= fre.sort_values('fre',ascending = True)"
      ],
      "execution_count": 20,
      "outputs": []
    },
    {
      "cell_type": "code",
      "metadata": {
        "id": "3u2OwenlHxg5",
        "outputId": "d062966e-899e-43b4-c59f-124690fa2771",
        "colab": {
          "base_uri": "https://localhost:8080/",
          "height": 405
        }
      },
      "source": [
        "plot_fre = fre['% Subscription'].plot(kind = 'bar',color = ('grey'), figsize = (8,6))\n",
        "                                               \n",
        "plt.title('Total amount of loans taken by user in last 30 days vs loan pay back rate with in 5 days')\n",
        "plt.ylabel('Loan pay back rate with in 5 days')\n",
        "plt.xlabel('Total amount of loans (amnt_loans30)')\n",
        "plt.xticks(rotation = 'horizontal')\n",
        "\n",
        "# label the bar\n",
        "for rec, label in zip(plot_fre.patches,\n",
        "                      fre['% Subscription'].round(1).astype(str)):\n",
        "    plot_fre.text(rec.get_x() + rec.get_width()/2,rec.get_height() + 1,label+'%',ha = 'center', color = 'black') \n",
        "                                         "
      ],
      "execution_count": 21,
      "outputs": [
        {
          "output_type": "display_data",
          "data": {
            "image/png": "[encoded data removed]",
            "text/plain": [
              "<Figure size 576x432 with 1 Axes>"
            ]
          },
          "metadata": {
            "tags": [],
            "needs_background": "light"
          }
        }
      ]
    },
    {
      "cell_type": "markdown",
      "metadata": {
        "id": "z2DrjbIBHxg8"
      },
      "source": [
        "The above bar plot infers us how customers with different loans levels taken are paying back the loan within five days. In the data set people not taken loans are labelled as ‘1’. So we should not consider the people with no loans labelled in the above graph.\n",
        "Considering the remaining levels, there is no 100% rate in any of the loan levels to pay back the loan within 5 days. Coming to the low amount level people it is observed that around 25% of people are not paying the loan within 5 days. Only 2% of the people taken high amount of loans are not paying the loan within 5 days. This is followed by the people with medium number of loans having defaulters of 7% approximately."
      ]
    },
    {
      "cell_type": "code",
      "metadata": {
        "id": "av8GcEX4Hxg9",
        "outputId": "51d6da0a-91dc-4691-dc58-1a6597ce0ecf",
        "colab": {
          "base_uri": "https://localhost:8080/"
        }
      },
      "source": [
        "df['pcircle'].unique()"
      ],
      "execution_count": 22,
      "outputs": [
        {
          "output_type": "execute_result",
          "data": {
            "text/plain": [
              "array(['UPW'], dtype=object)"
            ]
          },
          "metadata": {
            "tags": []
          },
          "execution_count": 22
        }
      ]
    },
    {
      "cell_type": "code",
      "metadata": {
        "id": "wdyxBr8FHxhB",
        "outputId": "603fba62-16bf-4e19-c5ce-61d4226ee8b1",
        "colab": {
          "base_uri": "https://localhost:8080/",
          "height": 215
        }
      },
      "source": [
        "# As 'Unnamed: 0','msisdn', 'pcircle', 'pdate' features are not having much importance, we can ignore them. \n",
        "# And also removing the extra columns created for the visualization part\n",
        "\n",
        "df.drop(['Unnamed: 0','msisdn', 'pcircle', 'pdate','balance_group','frequency_group','loan_frequency_group','loanamnt_frequency_group'],axis=1,inplace=True)\n",
        "df.head()"
      ],
      "execution_count": 23,
      "outputs": [
        {
          "output_type": "execute_result",
          "data": {
            "text/html": [
              "<div>\n",
              "<style scoped>\n",
              "    .dataframe tbody tr th:only-of-type {\n",
              "        vertical-align: middle;\n",
              "    }\n",
              "\n",
              "    .dataframe tbody tr th {\n",
              "        vertical-align: top;\n",
              "    }\n",
              "\n",
              "    .dataframe thead th {\n",
              "        text-align: right;\n",
              "    }\n",
              "</style>\n",
              "<table border=\"1\" class=\"dataframe\">\n",
              "  <thead>\n",
              "    <tr style=\"text-align: right;\">\n",
              "      <th></th>\n",
              "      <th>label</th>\n",
              "      <th>aon</th>\n",
              "      <th>daily_decr30</th>\n",
              "      <th>daily_decr90</th>\n",
              "      <th>rental30</th>\n",
              "      <th>rental90</th>\n",
              "      <th>last_rech_date_ma</th>\n",
              "      <th>last_rech_date_da</th>\n",
              "      <th>last_rech_amt_ma</th>\n",
              "      <th>cnt_ma_rech30</th>\n",
              "      <th>fr_ma_rech30</th>\n",
              "      <th>sumamnt_ma_rech30</th>\n",
              "      <th>medianamnt_ma_rech30</th>\n",
              "      <th>medianmarechprebal30</th>\n",
              "      <th>cnt_ma_rech90</th>\n",
              "      <th>fr_ma_rech90</th>\n",
              "      <th>sumamnt_ma_rech90</th>\n",
              "      <th>medianamnt_ma_rech90</th>\n",
              "      <th>medianmarechprebal90</th>\n",
              "      <th>cnt_da_rech30</th>\n",
              "      <th>fr_da_rech30</th>\n",
              "      <th>cnt_da_rech90</th>\n",
              "      <th>fr_da_rech90</th>\n",
              "      <th>cnt_loans30</th>\n",
              "      <th>amnt_loans30</th>\n",
              "      <th>maxamnt_loans30</th>\n",
              "      <th>medianamnt_loans30</th>\n",
              "      <th>cnt_loans90</th>\n",
              "      <th>amnt_loans90</th>\n",
              "      <th>maxamnt_loans90</th>\n",
              "      <th>medianamnt_loans90</th>\n",
              "      <th>payback30</th>\n",
              "      <th>payback90</th>\n",
              "    </tr>\n",
              "  </thead>\n",
              "  <tbody>\n",
              "    <tr>\n",
              "      <th>0</th>\n",
              "      <td>0</td>\n",
              "      <td>272.0</td>\n",
              "      <td>3055.050000</td>\n",
              "      <td>3065.150000</td>\n",
              "      <td>220.13</td>\n",
              "      <td>260.13</td>\n",
              "      <td>2.0</td>\n",
              "      <td>0.0</td>\n",
              "      <td>1539</td>\n",
              "      <td>2</td>\n",
              "      <td>21.0</td>\n",
              "      <td>3078.0</td>\n",
              "      <td>1539.0</td>\n",
              "      <td>7.50</td>\n",
              "      <td>2</td>\n",
              "      <td>21</td>\n",
              "      <td>3078</td>\n",
              "      <td>1539.0</td>\n",
              "      <td>7.50</td>\n",
              "      <td>0.0</td>\n",
              "      <td>0.0</td>\n",
              "      <td>0</td>\n",
              "      <td>0</td>\n",
              "      <td>2</td>\n",
              "      <td>12</td>\n",
              "      <td>6.0</td>\n",
              "      <td>0.0</td>\n",
              "      <td>2.0</td>\n",
              "      <td>12</td>\n",
              "      <td>6</td>\n",
              "      <td>0.0</td>\n",
              "      <td>29.000000</td>\n",
              "      <td>29.000000</td>\n",
              "    </tr>\n",
              "    <tr>\n",
              "      <th>1</th>\n",
              "      <td>1</td>\n",
              "      <td>712.0</td>\n",
              "      <td>12122.000000</td>\n",
              "      <td>12124.750000</td>\n",
              "      <td>3691.26</td>\n",
              "      <td>3691.26</td>\n",
              "      <td>20.0</td>\n",
              "      <td>0.0</td>\n",
              "      <td>5787</td>\n",
              "      <td>1</td>\n",
              "      <td>0.0</td>\n",
              "      <td>5787.0</td>\n",
              "      <td>5787.0</td>\n",
              "      <td>61.04</td>\n",
              "      <td>1</td>\n",
              "      <td>0</td>\n",
              "      <td>5787</td>\n",
              "      <td>5787.0</td>\n",
              "      <td>61.04</td>\n",
              "      <td>0.0</td>\n",
              "      <td>0.0</td>\n",
              "      <td>0</td>\n",
              "      <td>0</td>\n",
              "      <td>1</td>\n",
              "      <td>12</td>\n",
              "      <td>12.0</td>\n",
              "      <td>0.0</td>\n",
              "      <td>1.0</td>\n",
              "      <td>12</td>\n",
              "      <td>12</td>\n",
              "      <td>0.0</td>\n",
              "      <td>0.000000</td>\n",
              "      <td>0.000000</td>\n",
              "    </tr>\n",
              "    <tr>\n",
              "      <th>2</th>\n",
              "      <td>1</td>\n",
              "      <td>535.0</td>\n",
              "      <td>1398.000000</td>\n",
              "      <td>1398.000000</td>\n",
              "      <td>900.13</td>\n",
              "      <td>900.13</td>\n",
              "      <td>3.0</td>\n",
              "      <td>0.0</td>\n",
              "      <td>1539</td>\n",
              "      <td>1</td>\n",
              "      <td>0.0</td>\n",
              "      <td>1539.0</td>\n",
              "      <td>1539.0</td>\n",
              "      <td>66.32</td>\n",
              "      <td>1</td>\n",
              "      <td>0</td>\n",
              "      <td>1539</td>\n",
              "      <td>1539.0</td>\n",
              "      <td>66.32</td>\n",
              "      <td>0.0</td>\n",
              "      <td>0.0</td>\n",
              "      <td>0</td>\n",
              "      <td>0</td>\n",
              "      <td>1</td>\n",
              "      <td>6</td>\n",
              "      <td>6.0</td>\n",
              "      <td>0.0</td>\n",
              "      <td>1.0</td>\n",
              "      <td>6</td>\n",
              "      <td>6</td>\n",
              "      <td>0.0</td>\n",
              "      <td>0.000000</td>\n",
              "      <td>0.000000</td>\n",
              "    </tr>\n",
              "    <tr>\n",
              "      <th>3</th>\n",
              "      <td>1</td>\n",
              "      <td>241.0</td>\n",
              "      <td>21.228000</td>\n",
              "      <td>21.228000</td>\n",
              "      <td>159.42</td>\n",
              "      <td>159.42</td>\n",
              "      <td>41.0</td>\n",
              "      <td>0.0</td>\n",
              "      <td>947</td>\n",
              "      <td>0</td>\n",
              "      <td>0.0</td>\n",
              "      <td>0.0</td>\n",
              "      <td>0.0</td>\n",
              "      <td>0.00</td>\n",
              "      <td>1</td>\n",
              "      <td>0</td>\n",
              "      <td>947</td>\n",
              "      <td>947.0</td>\n",
              "      <td>2.50</td>\n",
              "      <td>0.0</td>\n",
              "      <td>0.0</td>\n",
              "      <td>0</td>\n",
              "      <td>0</td>\n",
              "      <td>2</td>\n",
              "      <td>12</td>\n",
              "      <td>6.0</td>\n",
              "      <td>0.0</td>\n",
              "      <td>2.0</td>\n",
              "      <td>12</td>\n",
              "      <td>6</td>\n",
              "      <td>0.0</td>\n",
              "      <td>0.000000</td>\n",
              "      <td>0.000000</td>\n",
              "    </tr>\n",
              "    <tr>\n",
              "      <th>4</th>\n",
              "      <td>1</td>\n",
              "      <td>947.0</td>\n",
              "      <td>150.619333</td>\n",
              "      <td>150.619333</td>\n",
              "      <td>1098.90</td>\n",
              "      <td>1098.90</td>\n",
              "      <td>4.0</td>\n",
              "      <td>0.0</td>\n",
              "      <td>2309</td>\n",
              "      <td>7</td>\n",
              "      <td>2.0</td>\n",
              "      <td>20029.0</td>\n",
              "      <td>2309.0</td>\n",
              "      <td>29.00</td>\n",
              "      <td>8</td>\n",
              "      <td>2</td>\n",
              "      <td>23496</td>\n",
              "      <td>2888.0</td>\n",
              "      <td>35.00</td>\n",
              "      <td>0.0</td>\n",
              "      <td>0.0</td>\n",
              "      <td>0</td>\n",
              "      <td>0</td>\n",
              "      <td>7</td>\n",
              "      <td>42</td>\n",
              "      <td>6.0</td>\n",
              "      <td>0.0</td>\n",
              "      <td>7.0</td>\n",
              "      <td>42</td>\n",
              "      <td>6</td>\n",
              "      <td>0.0</td>\n",
              "      <td>2.333333</td>\n",
              "      <td>2.333333</td>\n",
              "    </tr>\n",
              "  </tbody>\n",
              "</table>\n",
              "</div>"
            ],
            "text/plain": [
              "   label    aon  daily_decr30  ...  medianamnt_loans90  payback30  payback90\n",
              "0      0  272.0   3055.050000  ...                 0.0  29.000000  29.000000\n",
              "1      1  712.0  12122.000000  ...                 0.0   0.000000   0.000000\n",
              "2      1  535.0   1398.000000  ...                 0.0   0.000000   0.000000\n",
              "3      1  241.0     21.228000  ...                 0.0   0.000000   0.000000\n",
              "4      1  947.0    150.619333  ...                 0.0   2.333333   2.333333\n",
              "\n",
              "[5 rows x 33 columns]"
            ]
          },
          "metadata": {
            "tags": []
          },
          "execution_count": 23
        }
      ]
    },
    {
      "cell_type": "markdown",
      "metadata": {
        "id": "upoE35dzHxhF"
      },
      "source": [
        "# Check for the correlation with the dependent variable 'Label'"
      ]
    },
    {
      "cell_type": "code",
      "metadata": {
        "id": "e5L17lLhHxhG",
        "outputId": "fe1403dd-91fb-460f-b550-baa645c090d0",
        "colab": {
          "base_uri": "https://localhost:8080/",
          "height": 1000
        }
      },
      "source": [
        "corr_data = df\n",
        "corr = corr_data.corr()\n",
        "corr"
      ],
      "execution_count": 24,
      "outputs": [
        {
          "output_type": "execute_result",
          "data": {
            "text/html": [
              "<div>\n",
              "<style scoped>\n",
              "    .dataframe tbody tr th:only-of-type {\n",
              "        vertical-align: middle;\n",
              "    }\n",
              "\n",
              "    .dataframe tbody tr th {\n",
              "        vertical-align: top;\n",
              "    }\n",
              "\n",
              "    .dataframe thead th {\n",
              "        text-align: right;\n",
              "    }\n",
              "</style>\n",
              "<table border=\"1\" class=\"dataframe\">\n",
              "  <thead>\n",
              "    <tr style=\"text-align: right;\">\n",
              "      <th></th>\n",
              "      <th>label</th>\n",
              "      <th>aon</th>\n",
              "      <th>daily_decr30</th>\n",
              "      <th>daily_decr90</th>\n",
              "      <th>rental30</th>\n",
              "      <th>rental90</th>\n",
              "      <th>last_rech_date_ma</th>\n",
              "      <th>last_rech_date_da</th>\n",
              "      <th>last_rech_amt_ma</th>\n",
              "      <th>cnt_ma_rech30</th>\n",
              "      <th>fr_ma_rech30</th>\n",
              "      <th>sumamnt_ma_rech30</th>\n",
              "      <th>medianamnt_ma_rech30</th>\n",
              "      <th>medianmarechprebal30</th>\n",
              "      <th>cnt_ma_rech90</th>\n",
              "      <th>fr_ma_rech90</th>\n",
              "      <th>sumamnt_ma_rech90</th>\n",
              "      <th>medianamnt_ma_rech90</th>\n",
              "      <th>medianmarechprebal90</th>\n",
              "      <th>cnt_da_rech30</th>\n",
              "      <th>fr_da_rech30</th>\n",
              "      <th>cnt_da_rech90</th>\n",
              "      <th>fr_da_rech90</th>\n",
              "      <th>cnt_loans30</th>\n",
              "      <th>amnt_loans30</th>\n",
              "      <th>maxamnt_loans30</th>\n",
              "      <th>medianamnt_loans30</th>\n",
              "      <th>cnt_loans90</th>\n",
              "      <th>amnt_loans90</th>\n",
              "      <th>maxamnt_loans90</th>\n",
              "      <th>medianamnt_loans90</th>\n",
              "      <th>payback30</th>\n",
              "      <th>payback90</th>\n",
              "    </tr>\n",
              "  </thead>\n",
              "  <tbody>\n",
              "    <tr>\n",
              "      <th>label</th>\n",
              "      <td>1.000000</td>\n",
              "      <td>-0.003785</td>\n",
              "      <td>0.168298</td>\n",
              "      <td>0.166150</td>\n",
              "      <td>0.058085</td>\n",
              "      <td>0.075521</td>\n",
              "      <td>0.003728</td>\n",
              "      <td>0.001711</td>\n",
              "      <td>0.131804</td>\n",
              "      <td>0.237331</td>\n",
              "      <td>0.001330</td>\n",
              "      <td>0.202828</td>\n",
              "      <td>0.141490</td>\n",
              "      <td>-0.004829</td>\n",
              "      <td>0.236392</td>\n",
              "      <td>0.084385</td>\n",
              "      <td>0.205793</td>\n",
              "      <td>0.120855</td>\n",
              "      <td>0.039300</td>\n",
              "      <td>0.003827</td>\n",
              "      <td>-0.000027</td>\n",
              "      <td>0.002999</td>\n",
              "      <td>-0.005418</td>\n",
              "      <td>0.196283</td>\n",
              "      <td>0.197272</td>\n",
              "      <td>0.000248</td>\n",
              "      <td>0.044589</td>\n",
              "      <td>0.004733</td>\n",
              "      <td>0.199788</td>\n",
              "      <td>0.084144</td>\n",
              "      <td>0.035747</td>\n",
              "      <td>0.048336</td>\n",
              "      <td>0.049183</td>\n",
              "    </tr>\n",
              "    <tr>\n",
              "      <th>aon</th>\n",
              "      <td>-0.003785</td>\n",
              "      <td>1.000000</td>\n",
              "      <td>0.001104</td>\n",
              "      <td>0.000374</td>\n",
              "      <td>-0.000960</td>\n",
              "      <td>-0.000790</td>\n",
              "      <td>0.001692</td>\n",
              "      <td>-0.001693</td>\n",
              "      <td>0.004256</td>\n",
              "      <td>-0.003148</td>\n",
              "      <td>-0.001163</td>\n",
              "      <td>0.000707</td>\n",
              "      <td>0.004306</td>\n",
              "      <td>0.003930</td>\n",
              "      <td>-0.002725</td>\n",
              "      <td>0.004401</td>\n",
              "      <td>0.001011</td>\n",
              "      <td>0.004909</td>\n",
              "      <td>-0.000859</td>\n",
              "      <td>0.001564</td>\n",
              "      <td>0.000892</td>\n",
              "      <td>0.001121</td>\n",
              "      <td>0.005395</td>\n",
              "      <td>-0.001826</td>\n",
              "      <td>-0.001726</td>\n",
              "      <td>-0.002764</td>\n",
              "      <td>0.004664</td>\n",
              "      <td>-0.000611</td>\n",
              "      <td>-0.002319</td>\n",
              "      <td>-0.001191</td>\n",
              "      <td>0.002771</td>\n",
              "      <td>0.001940</td>\n",
              "      <td>0.002203</td>\n",
              "    </tr>\n",
              "    <tr>\n",
              "      <th>daily_decr30</th>\n",
              "      <td>0.168298</td>\n",
              "      <td>0.001104</td>\n",
              "      <td>1.000000</td>\n",
              "      <td>0.977704</td>\n",
              "      <td>0.442066</td>\n",
              "      <td>0.458977</td>\n",
              "      <td>0.000487</td>\n",
              "      <td>-0.001636</td>\n",
              "      <td>0.275837</td>\n",
              "      <td>0.451385</td>\n",
              "      <td>-0.000577</td>\n",
              "      <td>0.636536</td>\n",
              "      <td>0.295356</td>\n",
              "      <td>-0.001153</td>\n",
              "      <td>0.587338</td>\n",
              "      <td>-0.078299</td>\n",
              "      <td>0.762981</td>\n",
              "      <td>0.257847</td>\n",
              "      <td>0.037495</td>\n",
              "      <td>0.000700</td>\n",
              "      <td>-0.001499</td>\n",
              "      <td>0.038814</td>\n",
              "      <td>0.020673</td>\n",
              "      <td>0.366116</td>\n",
              "      <td>0.471492</td>\n",
              "      <td>-0.000028</td>\n",
              "      <td>-0.011610</td>\n",
              "      <td>0.008962</td>\n",
              "      <td>0.563496</td>\n",
              "      <td>0.400199</td>\n",
              "      <td>-0.037305</td>\n",
              "      <td>0.026915</td>\n",
              "      <td>0.047175</td>\n",
              "    </tr>\n",
              "    <tr>\n",
              "      <th>daily_decr90</th>\n",
              "      <td>0.166150</td>\n",
              "      <td>0.000374</td>\n",
              "      <td>0.977704</td>\n",
              "      <td>1.000000</td>\n",
              "      <td>0.434685</td>\n",
              "      <td>0.471730</td>\n",
              "      <td>0.000908</td>\n",
              "      <td>-0.001886</td>\n",
              "      <td>0.264131</td>\n",
              "      <td>0.426707</td>\n",
              "      <td>-0.000343</td>\n",
              "      <td>0.603886</td>\n",
              "      <td>0.282960</td>\n",
              "      <td>-0.000746</td>\n",
              "      <td>0.593069</td>\n",
              "      <td>-0.079530</td>\n",
              "      <td>0.768817</td>\n",
              "      <td>0.250518</td>\n",
              "      <td>0.036382</td>\n",
              "      <td>0.000661</td>\n",
              "      <td>-0.001570</td>\n",
              "      <td>0.031155</td>\n",
              "      <td>0.016437</td>\n",
              "      <td>0.340387</td>\n",
              "      <td>0.447869</td>\n",
              "      <td>0.000025</td>\n",
              "      <td>-0.005591</td>\n",
              "      <td>0.009446</td>\n",
              "      <td>0.567204</td>\n",
              "      <td>0.397251</td>\n",
              "      <td>-0.034686</td>\n",
              "      <td>0.019400</td>\n",
              "      <td>0.040800</td>\n",
              "    </tr>\n",
              "    <tr>\n",
              "      <th>rental30</th>\n",
              "      <td>0.058085</td>\n",
              "      <td>-0.000960</td>\n",
              "      <td>0.442066</td>\n",
              "      <td>0.434685</td>\n",
              "      <td>1.000000</td>\n",
              "      <td>0.955237</td>\n",
              "      <td>-0.001095</td>\n",
              "      <td>0.003261</td>\n",
              "      <td>0.127271</td>\n",
              "      <td>0.233343</td>\n",
              "      <td>-0.001219</td>\n",
              "      <td>0.272649</td>\n",
              "      <td>0.129853</td>\n",
              "      <td>-0.001415</td>\n",
              "      <td>0.312118</td>\n",
              "      <td>-0.033530</td>\n",
              "      <td>0.342306</td>\n",
              "      <td>0.110356</td>\n",
              "      <td>0.027170</td>\n",
              "      <td>-0.001105</td>\n",
              "      <td>-0.002558</td>\n",
              "      <td>0.072255</td>\n",
              "      <td>0.046761</td>\n",
              "      <td>0.180203</td>\n",
              "      <td>0.233453</td>\n",
              "      <td>-0.000864</td>\n",
              "      <td>-0.016482</td>\n",
              "      <td>0.004012</td>\n",
              "      <td>0.298943</td>\n",
              "      <td>0.234211</td>\n",
              "      <td>-0.035489</td>\n",
              "      <td>0.072974</td>\n",
              "      <td>0.095147</td>\n",
              "    </tr>\n",
              "    <tr>\n",
              "      <th>rental90</th>\n",
              "      <td>0.075521</td>\n",
              "      <td>-0.000790</td>\n",
              "      <td>0.458977</td>\n",
              "      <td>0.471730</td>\n",
              "      <td>0.955237</td>\n",
              "      <td>1.000000</td>\n",
              "      <td>-0.001688</td>\n",
              "      <td>0.002794</td>\n",
              "      <td>0.121416</td>\n",
              "      <td>0.230260</td>\n",
              "      <td>-0.000503</td>\n",
              "      <td>0.259709</td>\n",
              "      <td>0.120242</td>\n",
              "      <td>-0.001237</td>\n",
              "      <td>0.345293</td>\n",
              "      <td>-0.036524</td>\n",
              "      <td>0.360601</td>\n",
              "      <td>0.103151</td>\n",
              "      <td>0.029547</td>\n",
              "      <td>-0.000548</td>\n",
              "      <td>-0.002345</td>\n",
              "      <td>0.056282</td>\n",
              "      <td>0.036886</td>\n",
              "      <td>0.171595</td>\n",
              "      <td>0.231906</td>\n",
              "      <td>-0.001411</td>\n",
              "      <td>-0.009467</td>\n",
              "      <td>0.005141</td>\n",
              "      <td>0.327436</td>\n",
              "      <td>0.251029</td>\n",
              "      <td>-0.034122</td>\n",
              "      <td>0.067110</td>\n",
              "      <td>0.099501</td>\n",
              "    </tr>\n",
              "    <tr>\n",
              "      <th>last_rech_date_ma</th>\n",
              "      <td>0.003728</td>\n",
              "      <td>0.001692</td>\n",
              "      <td>0.000487</td>\n",
              "      <td>0.000908</td>\n",
              "      <td>-0.001095</td>\n",
              "      <td>-0.001688</td>\n",
              "      <td>1.000000</td>\n",
              "      <td>0.001790</td>\n",
              "      <td>-0.000147</td>\n",
              "      <td>0.004311</td>\n",
              "      <td>-0.001629</td>\n",
              "      <td>0.002105</td>\n",
              "      <td>-0.001358</td>\n",
              "      <td>0.004071</td>\n",
              "      <td>0.004263</td>\n",
              "      <td>0.001414</td>\n",
              "      <td>0.002243</td>\n",
              "      <td>-0.000726</td>\n",
              "      <td>-0.001086</td>\n",
              "      <td>-0.003467</td>\n",
              "      <td>-0.003626</td>\n",
              "      <td>-0.003538</td>\n",
              "      <td>-0.002395</td>\n",
              "      <td>0.001193</td>\n",
              "      <td>0.000903</td>\n",
              "      <td>0.000928</td>\n",
              "      <td>0.001835</td>\n",
              "      <td>-0.000225</td>\n",
              "      <td>0.000870</td>\n",
              "      <td>-0.001123</td>\n",
              "      <td>0.002771</td>\n",
              "      <td>-0.002233</td>\n",
              "      <td>-0.001583</td>\n",
              "    </tr>\n",
              "    <tr>\n",
              "      <th>last_rech_date_da</th>\n",
              "      <td>0.001711</td>\n",
              "      <td>-0.001693</td>\n",
              "      <td>-0.001636</td>\n",
              "      <td>-0.001886</td>\n",
              "      <td>0.003261</td>\n",
              "      <td>0.002794</td>\n",
              "      <td>0.001790</td>\n",
              "      <td>1.000000</td>\n",
              "      <td>-0.000149</td>\n",
              "      <td>0.001549</td>\n",
              "      <td>0.001158</td>\n",
              "      <td>0.000046</td>\n",
              "      <td>0.001037</td>\n",
              "      <td>0.002849</td>\n",
              "      <td>0.001272</td>\n",
              "      <td>0.000798</td>\n",
              "      <td>-0.000414</td>\n",
              "      <td>0.000219</td>\n",
              "      <td>0.004158</td>\n",
              "      <td>-0.003628</td>\n",
              "      <td>-0.000074</td>\n",
              "      <td>-0.001859</td>\n",
              "      <td>-0.000203</td>\n",
              "      <td>0.000380</td>\n",
              "      <td>0.000536</td>\n",
              "      <td>0.000503</td>\n",
              "      <td>0.000061</td>\n",
              "      <td>-0.000972</td>\n",
              "      <td>0.000519</td>\n",
              "      <td>0.001524</td>\n",
              "      <td>-0.002239</td>\n",
              "      <td>0.000077</td>\n",
              "      <td>0.000417</td>\n",
              "    </tr>\n",
              "    <tr>\n",
              "      <th>last_rech_amt_ma</th>\n",
              "      <td>0.131804</td>\n",
              "      <td>0.004256</td>\n",
              "      <td>0.275837</td>\n",
              "      <td>0.264131</td>\n",
              "      <td>0.127271</td>\n",
              "      <td>0.121416</td>\n",
              "      <td>-0.000147</td>\n",
              "      <td>-0.000149</td>\n",
              "      <td>1.000000</td>\n",
              "      <td>-0.002662</td>\n",
              "      <td>0.002876</td>\n",
              "      <td>0.440821</td>\n",
              "      <td>0.794646</td>\n",
              "      <td>-0.002342</td>\n",
              "      <td>0.016707</td>\n",
              "      <td>0.106267</td>\n",
              "      <td>0.418735</td>\n",
              "      <td>0.818734</td>\n",
              "      <td>0.124646</td>\n",
              "      <td>-0.001837</td>\n",
              "      <td>-0.003230</td>\n",
              "      <td>0.014779</td>\n",
              "      <td>0.016042</td>\n",
              "      <td>-0.027612</td>\n",
              "      <td>0.008502</td>\n",
              "      <td>0.001000</td>\n",
              "      <td>0.028370</td>\n",
              "      <td>0.000093</td>\n",
              "      <td>0.014067</td>\n",
              "      <td>0.148460</td>\n",
              "      <td>0.021004</td>\n",
              "      <td>-0.027369</td>\n",
              "      <td>-0.014260</td>\n",
              "    </tr>\n",
              "    <tr>\n",
              "      <th>cnt_ma_rech30</th>\n",
              "      <td>0.237331</td>\n",
              "      <td>-0.003148</td>\n",
              "      <td>0.451385</td>\n",
              "      <td>0.426707</td>\n",
              "      <td>0.233343</td>\n",
              "      <td>0.230260</td>\n",
              "      <td>0.004311</td>\n",
              "      <td>0.001549</td>\n",
              "      <td>-0.002662</td>\n",
              "      <td>1.000000</td>\n",
              "      <td>0.001669</td>\n",
              "      <td>0.656986</td>\n",
              "      <td>-0.011792</td>\n",
              "      <td>0.000082</td>\n",
              "      <td>0.886433</td>\n",
              "      <td>-0.152759</td>\n",
              "      <td>0.584060</td>\n",
              "      <td>-0.051347</td>\n",
              "      <td>0.013463</td>\n",
              "      <td>0.002306</td>\n",
              "      <td>-0.002732</td>\n",
              "      <td>0.011981</td>\n",
              "      <td>0.006989</td>\n",
              "      <td>0.765802</td>\n",
              "      <td>0.752296</td>\n",
              "      <td>0.000109</td>\n",
              "      <td>-0.067011</td>\n",
              "      <td>0.014703</td>\n",
              "      <td>0.685257</td>\n",
              "      <td>0.174104</td>\n",
              "      <td>-0.071451</td>\n",
              "      <td>0.043617</td>\n",
              "      <td>0.017362</td>\n",
              "    </tr>\n",
              "    <tr>\n",
              "      <th>fr_ma_rech30</th>\n",
              "      <td>0.001330</td>\n",
              "      <td>-0.001163</td>\n",
              "      <td>-0.000577</td>\n",
              "      <td>-0.000343</td>\n",
              "      <td>-0.001219</td>\n",
              "      <td>-0.000503</td>\n",
              "      <td>-0.001629</td>\n",
              "      <td>0.001158</td>\n",
              "      <td>0.002876</td>\n",
              "      <td>0.001669</td>\n",
              "      <td>1.000000</td>\n",
              "      <td>0.000714</td>\n",
              "      <td>-0.000579</td>\n",
              "      <td>0.002613</td>\n",
              "      <td>0.001220</td>\n",
              "      <td>-0.001245</td>\n",
              "      <td>-0.000571</td>\n",
              "      <td>-0.001573</td>\n",
              "      <td>-0.002826</td>\n",
              "      <td>-0.000511</td>\n",
              "      <td>-0.001715</td>\n",
              "      <td>0.001574</td>\n",
              "      <td>-0.001925</td>\n",
              "      <td>0.002666</td>\n",
              "      <td>0.002470</td>\n",
              "      <td>-0.001100</td>\n",
              "      <td>-0.000331</td>\n",
              "      <td>0.003368</td>\n",
              "      <td>0.002634</td>\n",
              "      <td>-0.001890</td>\n",
              "      <td>-0.001292</td>\n",
              "      <td>0.001455</td>\n",
              "      <td>0.000998</td>\n",
              "    </tr>\n",
              "    <tr>\n",
              "      <th>sumamnt_ma_rech30</th>\n",
              "      <td>0.202828</td>\n",
              "      <td>0.000707</td>\n",
              "      <td>0.636536</td>\n",
              "      <td>0.603886</td>\n",
              "      <td>0.272649</td>\n",
              "      <td>0.259709</td>\n",
              "      <td>0.002105</td>\n",
              "      <td>0.000046</td>\n",
              "      <td>0.440821</td>\n",
              "      <td>0.656986</td>\n",
              "      <td>0.000714</td>\n",
              "      <td>1.000000</td>\n",
              "      <td>0.489200</td>\n",
              "      <td>0.000007</td>\n",
              "      <td>0.596478</td>\n",
              "      <td>-0.071089</td>\n",
              "      <td>0.889989</td>\n",
              "      <td>0.422009</td>\n",
              "      <td>0.090502</td>\n",
              "      <td>0.002537</td>\n",
              "      <td>-0.001578</td>\n",
              "      <td>0.019213</td>\n",
              "      <td>0.017255</td>\n",
              "      <td>0.491864</td>\n",
              "      <td>0.531079</td>\n",
              "      <td>0.001633</td>\n",
              "      <td>-0.034460</td>\n",
              "      <td>0.009419</td>\n",
              "      <td>0.484761</td>\n",
              "      <td>0.257705</td>\n",
              "      <td>-0.042244</td>\n",
              "      <td>0.000112</td>\n",
              "      <td>-0.012596</td>\n",
              "    </tr>\n",
              "    <tr>\n",
              "      <th>medianamnt_ma_rech30</th>\n",
              "      <td>0.141490</td>\n",
              "      <td>0.004306</td>\n",
              "      <td>0.295356</td>\n",
              "      <td>0.282960</td>\n",
              "      <td>0.129853</td>\n",
              "      <td>0.120242</td>\n",
              "      <td>-0.001358</td>\n",
              "      <td>0.001037</td>\n",
              "      <td>0.794646</td>\n",
              "      <td>-0.011792</td>\n",
              "      <td>-0.000579</td>\n",
              "      <td>0.489200</td>\n",
              "      <td>1.000000</td>\n",
              "      <td>-0.000737</td>\n",
              "      <td>0.005309</td>\n",
              "      <td>0.149655</td>\n",
              "      <td>0.449012</td>\n",
              "      <td>0.864846</td>\n",
              "      <td>0.156028</td>\n",
              "      <td>-0.000060</td>\n",
              "      <td>-0.001479</td>\n",
              "      <td>0.016727</td>\n",
              "      <td>0.013734</td>\n",
              "      <td>-0.029789</td>\n",
              "      <td>0.007125</td>\n",
              "      <td>0.001985</td>\n",
              "      <td>0.032477</td>\n",
              "      <td>-0.001143</td>\n",
              "      <td>0.014546</td>\n",
              "      <td>0.159613</td>\n",
              "      <td>0.022692</td>\n",
              "      <td>-0.018398</td>\n",
              "      <td>-0.002861</td>\n",
              "    </tr>\n",
              "    <tr>\n",
              "      <th>medianmarechprebal30</th>\n",
              "      <td>-0.004829</td>\n",
              "      <td>0.003930</td>\n",
              "      <td>-0.001153</td>\n",
              "      <td>-0.000746</td>\n",
              "      <td>-0.001415</td>\n",
              "      <td>-0.001237</td>\n",
              "      <td>0.004071</td>\n",
              "      <td>0.002849</td>\n",
              "      <td>-0.002342</td>\n",
              "      <td>0.000082</td>\n",
              "      <td>0.002613</td>\n",
              "      <td>0.000007</td>\n",
              "      <td>-0.000737</td>\n",
              "      <td>1.000000</td>\n",
              "      <td>0.000899</td>\n",
              "      <td>-0.000902</td>\n",
              "      <td>-0.000665</td>\n",
              "      <td>-0.001459</td>\n",
              "      <td>0.000529</td>\n",
              "      <td>-0.003404</td>\n",
              "      <td>0.000742</td>\n",
              "      <td>-0.003064</td>\n",
              "      <td>-0.001412</td>\n",
              "      <td>-0.000211</td>\n",
              "      <td>0.000134</td>\n",
              "      <td>-0.002176</td>\n",
              "      <td>-0.002289</td>\n",
              "      <td>0.001342</td>\n",
              "      <td>0.000736</td>\n",
              "      <td>-0.002141</td>\n",
              "      <td>-0.001927</td>\n",
              "      <td>0.001516</td>\n",
              "      <td>0.001811</td>\n",
              "    </tr>\n",
              "    <tr>\n",
              "      <th>cnt_ma_rech90</th>\n",
              "      <td>0.236392</td>\n",
              "      <td>-0.002725</td>\n",
              "      <td>0.587338</td>\n",
              "      <td>0.593069</td>\n",
              "      <td>0.312118</td>\n",
              "      <td>0.345293</td>\n",
              "      <td>0.004263</td>\n",
              "      <td>0.001272</td>\n",
              "      <td>0.016707</td>\n",
              "      <td>0.886433</td>\n",
              "      <td>0.001220</td>\n",
              "      <td>0.596478</td>\n",
              "      <td>0.005309</td>\n",
              "      <td>0.000899</td>\n",
              "      <td>1.000000</td>\n",
              "      <td>-0.149068</td>\n",
              "      <td>0.687054</td>\n",
              "      <td>-0.035497</td>\n",
              "      <td>0.015461</td>\n",
              "      <td>0.002895</td>\n",
              "      <td>-0.002795</td>\n",
              "      <td>0.004090</td>\n",
              "      <td>0.002865</td>\n",
              "      <td>0.689002</td>\n",
              "      <td>0.707558</td>\n",
              "      <td>-0.000573</td>\n",
              "      <td>-0.053637</td>\n",
              "      <td>0.015754</td>\n",
              "      <td>0.783419</td>\n",
              "      <td>0.244602</td>\n",
              "      <td>-0.072481</td>\n",
              "      <td>0.011943</td>\n",
              "      <td>-0.003141</td>\n",
              "    </tr>\n",
              "    <tr>\n",
              "      <th>fr_ma_rech90</th>\n",
              "      <td>0.084385</td>\n",
              "      <td>0.004401</td>\n",
              "      <td>-0.078299</td>\n",
              "      <td>-0.079530</td>\n",
              "      <td>-0.033530</td>\n",
              "      <td>-0.036524</td>\n",
              "      <td>0.001414</td>\n",
              "      <td>0.000798</td>\n",
              "      <td>0.106267</td>\n",
              "      <td>-0.152759</td>\n",
              "      <td>-0.001245</td>\n",
              "      <td>-0.071089</td>\n",
              "      <td>0.149655</td>\n",
              "      <td>-0.000902</td>\n",
              "      <td>-0.149068</td>\n",
              "      <td>1.000000</td>\n",
              "      <td>-0.065566</td>\n",
              "      <td>0.138503</td>\n",
              "      <td>0.004347</td>\n",
              "      <td>0.002230</td>\n",
              "      <td>-0.000081</td>\n",
              "      <td>-0.006727</td>\n",
              "      <td>-0.003822</td>\n",
              "      <td>-0.119083</td>\n",
              "      <td>-0.123664</td>\n",
              "      <td>0.001635</td>\n",
              "      <td>0.020626</td>\n",
              "      <td>-0.002756</td>\n",
              "      <td>-0.132035</td>\n",
              "      <td>-0.045780</td>\n",
              "      <td>0.016964</td>\n",
              "      <td>0.036817</td>\n",
              "      <td>0.077529</td>\n",
              "    </tr>\n",
              "    <tr>\n",
              "      <th>sumamnt_ma_rech90</th>\n",
              "      <td>0.205793</td>\n",
              "      <td>0.001011</td>\n",
              "      <td>0.762981</td>\n",
              "      <td>0.768817</td>\n",
              "      <td>0.342306</td>\n",
              "      <td>0.360601</td>\n",
              "      <td>0.002243</td>\n",
              "      <td>-0.000414</td>\n",
              "      <td>0.418735</td>\n",
              "      <td>0.584060</td>\n",
              "      <td>-0.000571</td>\n",
              "      <td>0.889989</td>\n",
              "      <td>0.449012</td>\n",
              "      <td>-0.000665</td>\n",
              "      <td>0.687054</td>\n",
              "      <td>-0.065566</td>\n",
              "      <td>1.000000</td>\n",
              "      <td>0.429274</td>\n",
              "      <td>0.096385</td>\n",
              "      <td>0.003002</td>\n",
              "      <td>-0.001566</td>\n",
              "      <td>0.012465</td>\n",
              "      <td>0.013136</td>\n",
              "      <td>0.442766</td>\n",
              "      <td>0.508599</td>\n",
              "      <td>0.001152</td>\n",
              "      <td>-0.022133</td>\n",
              "      <td>0.011306</td>\n",
              "      <td>0.562609</td>\n",
              "      <td>0.321739</td>\n",
              "      <td>-0.042386</td>\n",
              "      <td>-0.026409</td>\n",
              "      <td>-0.029997</td>\n",
              "    </tr>\n",
              "    <tr>\n",
              "      <th>medianamnt_ma_rech90</th>\n",
              "      <td>0.120855</td>\n",
              "      <td>0.004909</td>\n",
              "      <td>0.257847</td>\n",
              "      <td>0.250518</td>\n",
              "      <td>0.110356</td>\n",
              "      <td>0.103151</td>\n",
              "      <td>-0.000726</td>\n",
              "      <td>0.000219</td>\n",
              "      <td>0.818734</td>\n",
              "      <td>-0.051347</td>\n",
              "      <td>-0.001573</td>\n",
              "      <td>0.422009</td>\n",
              "      <td>0.864846</td>\n",
              "      <td>-0.001459</td>\n",
              "      <td>-0.035497</td>\n",
              "      <td>0.138503</td>\n",
              "      <td>0.429274</td>\n",
              "      <td>1.000000</td>\n",
              "      <td>0.209096</td>\n",
              "      <td>-0.002425</td>\n",
              "      <td>-0.002289</td>\n",
              "      <td>0.017533</td>\n",
              "      <td>0.019677</td>\n",
              "      <td>-0.060766</td>\n",
              "      <td>-0.025307</td>\n",
              "      <td>0.001016</td>\n",
              "      <td>0.036475</td>\n",
              "      <td>-0.000123</td>\n",
              "      <td>-0.023450</td>\n",
              "      <td>0.134139</td>\n",
              "      <td>0.031696</td>\n",
              "      <td>-0.035640</td>\n",
              "      <td>-0.023022</td>\n",
              "    </tr>\n",
              "    <tr>\n",
              "      <th>medianmarechprebal90</th>\n",
              "      <td>0.039300</td>\n",
              "      <td>-0.000859</td>\n",
              "      <td>0.037495</td>\n",
              "      <td>0.036382</td>\n",
              "      <td>0.027170</td>\n",
              "      <td>0.029547</td>\n",
              "      <td>-0.001086</td>\n",
              "      <td>0.004158</td>\n",
              "      <td>0.124646</td>\n",
              "      <td>0.013463</td>\n",
              "      <td>-0.002826</td>\n",
              "      <td>0.090502</td>\n",
              "      <td>0.156028</td>\n",
              "      <td>0.000529</td>\n",
              "      <td>0.015461</td>\n",
              "      <td>0.004347</td>\n",
              "      <td>0.096385</td>\n",
              "      <td>0.209096</td>\n",
              "      <td>1.000000</td>\n",
              "      <td>0.001130</td>\n",
              "      <td>-0.001893</td>\n",
              "      <td>0.007077</td>\n",
              "      <td>0.008492</td>\n",
              "      <td>-0.043381</td>\n",
              "      <td>-0.033878</td>\n",
              "      <td>0.001884</td>\n",
              "      <td>0.030534</td>\n",
              "      <td>-0.000926</td>\n",
              "      <td>-0.036412</td>\n",
              "      <td>0.027130</td>\n",
              "      <td>0.032453</td>\n",
              "      <td>-0.031760</td>\n",
              "      <td>-0.031210</td>\n",
              "    </tr>\n",
              "    <tr>\n",
              "      <th>cnt_da_rech30</th>\n",
              "      <td>0.003827</td>\n",
              "      <td>0.001564</td>\n",
              "      <td>0.000700</td>\n",
              "      <td>0.000661</td>\n",
              "      <td>-0.001105</td>\n",
              "      <td>-0.000548</td>\n",
              "      <td>-0.003467</td>\n",
              "      <td>-0.003628</td>\n",
              "      <td>-0.001837</td>\n",
              "      <td>0.002306</td>\n",
              "      <td>-0.000511</td>\n",
              "      <td>0.002537</td>\n",
              "      <td>-0.000060</td>\n",
              "      <td>-0.003404</td>\n",
              "      <td>0.002895</td>\n",
              "      <td>0.002230</td>\n",
              "      <td>0.003002</td>\n",
              "      <td>-0.002425</td>\n",
              "      <td>0.001130</td>\n",
              "      <td>1.000000</td>\n",
              "      <td>0.005203</td>\n",
              "      <td>0.002153</td>\n",
              "      <td>0.000088</td>\n",
              "      <td>0.001852</td>\n",
              "      <td>0.001487</td>\n",
              "      <td>-0.000394</td>\n",
              "      <td>0.000049</td>\n",
              "      <td>-0.001986</td>\n",
              "      <td>0.003369</td>\n",
              "      <td>-0.000647</td>\n",
              "      <td>-0.001365</td>\n",
              "      <td>-0.000471</td>\n",
              "      <td>0.000382</td>\n",
              "    </tr>\n",
              "    <tr>\n",
              "      <th>fr_da_rech30</th>\n",
              "      <td>-0.000027</td>\n",
              "      <td>0.000892</td>\n",
              "      <td>-0.001499</td>\n",
              "      <td>-0.001570</td>\n",
              "      <td>-0.002558</td>\n",
              "      <td>-0.002345</td>\n",
              "      <td>-0.003626</td>\n",
              "      <td>-0.000074</td>\n",
              "      <td>-0.003230</td>\n",
              "      <td>-0.002732</td>\n",
              "      <td>-0.001715</td>\n",
              "      <td>-0.001578</td>\n",
              "      <td>-0.001479</td>\n",
              "      <td>0.000742</td>\n",
              "      <td>-0.002795</td>\n",
              "      <td>-0.000081</td>\n",
              "      <td>-0.001566</td>\n",
              "      <td>-0.002289</td>\n",
              "      <td>-0.001893</td>\n",
              "      <td>0.005203</td>\n",
              "      <td>1.000000</td>\n",
              "      <td>0.000770</td>\n",
              "      <td>0.005505</td>\n",
              "      <td>-0.003212</td>\n",
              "      <td>-0.003395</td>\n",
              "      <td>-0.001070</td>\n",
              "      <td>-0.001141</td>\n",
              "      <td>-0.001623</td>\n",
              "      <td>-0.001593</td>\n",
              "      <td>-0.001069</td>\n",
              "      <td>-0.001623</td>\n",
              "      <td>0.001709</td>\n",
              "      <td>-0.000725</td>\n",
              "    </tr>\n",
              "    <tr>\n",
              "      <th>cnt_da_rech90</th>\n",
              "      <td>0.002999</td>\n",
              "      <td>0.001121</td>\n",
              "      <td>0.038814</td>\n",
              "      <td>0.031155</td>\n",
              "      <td>0.072255</td>\n",
              "      <td>0.056282</td>\n",
              "      <td>-0.003538</td>\n",
              "      <td>-0.001859</td>\n",
              "      <td>0.014779</td>\n",
              "      <td>0.011981</td>\n",
              "      <td>0.001574</td>\n",
              "      <td>0.019213</td>\n",
              "      <td>0.016727</td>\n",
              "      <td>-0.003064</td>\n",
              "      <td>0.004090</td>\n",
              "      <td>-0.006727</td>\n",
              "      <td>0.012465</td>\n",
              "      <td>0.017533</td>\n",
              "      <td>0.007077</td>\n",
              "      <td>0.002153</td>\n",
              "      <td>0.000770</td>\n",
              "      <td>1.000000</td>\n",
              "      <td>0.348885</td>\n",
              "      <td>0.017976</td>\n",
              "      <td>0.026249</td>\n",
              "      <td>-0.001855</td>\n",
              "      <td>-0.003351</td>\n",
              "      <td>0.000907</td>\n",
              "      <td>0.020909</td>\n",
              "      <td>0.038019</td>\n",
              "      <td>-0.003094</td>\n",
              "      <td>0.013430</td>\n",
              "      <td>0.024046</td>\n",
              "    </tr>\n",
              "    <tr>\n",
              "      <th>fr_da_rech90</th>\n",
              "      <td>-0.005418</td>\n",
              "      <td>0.005395</td>\n",
              "      <td>0.020673</td>\n",
              "      <td>0.016437</td>\n",
              "      <td>0.046761</td>\n",
              "      <td>0.036886</td>\n",
              "      <td>-0.002395</td>\n",
              "      <td>-0.000203</td>\n",
              "      <td>0.016042</td>\n",
              "      <td>0.006989</td>\n",
              "      <td>-0.001925</td>\n",
              "      <td>0.017255</td>\n",
              "      <td>0.013734</td>\n",
              "      <td>-0.001412</td>\n",
              "      <td>0.002865</td>\n",
              "      <td>-0.003822</td>\n",
              "      <td>0.013136</td>\n",
              "      <td>0.019677</td>\n",
              "      <td>0.008492</td>\n",
              "      <td>0.000088</td>\n",
              "      <td>0.005505</td>\n",
              "      <td>0.348885</td>\n",
              "      <td>1.000000</td>\n",
              "      <td>0.010021</td>\n",
              "      <td>0.014935</td>\n",
              "      <td>-0.000754</td>\n",
              "      <td>-0.002234</td>\n",
              "      <td>0.001993</td>\n",
              "      <td>0.011501</td>\n",
              "      <td>0.021785</td>\n",
              "      <td>-0.000949</td>\n",
              "      <td>0.000354</td>\n",
              "      <td>0.001226</td>\n",
              "    </tr>\n",
              "    <tr>\n",
              "      <th>cnt_loans30</th>\n",
              "      <td>0.196283</td>\n",
              "      <td>-0.001826</td>\n",
              "      <td>0.366116</td>\n",
              "      <td>0.340387</td>\n",
              "      <td>0.180203</td>\n",
              "      <td>0.171595</td>\n",
              "      <td>0.001193</td>\n",
              "      <td>0.000380</td>\n",
              "      <td>-0.027612</td>\n",
              "      <td>0.765802</td>\n",
              "      <td>0.002666</td>\n",
              "      <td>0.491864</td>\n",
              "      <td>-0.029789</td>\n",
              "      <td>-0.000211</td>\n",
              "      <td>0.689002</td>\n",
              "      <td>-0.119083</td>\n",
              "      <td>0.442766</td>\n",
              "      <td>-0.060766</td>\n",
              "      <td>-0.043381</td>\n",
              "      <td>0.001852</td>\n",
              "      <td>-0.003212</td>\n",
              "      <td>0.017976</td>\n",
              "      <td>0.010021</td>\n",
              "      <td>1.000000</td>\n",
              "      <td>0.957742</td>\n",
              "      <td>0.000251</td>\n",
              "      <td>-0.093146</td>\n",
              "      <td>0.015595</td>\n",
              "      <td>0.852905</td>\n",
              "      <td>0.143590</td>\n",
              "      <td>-0.097871</td>\n",
              "      <td>0.067842</td>\n",
              "      <td>0.033369</td>\n",
              "    </tr>\n",
              "    <tr>\n",
              "      <th>amnt_loans30</th>\n",
              "      <td>0.197272</td>\n",
              "      <td>-0.001726</td>\n",
              "      <td>0.471492</td>\n",
              "      <td>0.447869</td>\n",
              "      <td>0.233453</td>\n",
              "      <td>0.231906</td>\n",
              "      <td>0.000903</td>\n",
              "      <td>0.000536</td>\n",
              "      <td>0.008502</td>\n",
              "      <td>0.752296</td>\n",
              "      <td>0.002470</td>\n",
              "      <td>0.531079</td>\n",
              "      <td>0.007125</td>\n",
              "      <td>0.000134</td>\n",
              "      <td>0.707558</td>\n",
              "      <td>-0.123664</td>\n",
              "      <td>0.508599</td>\n",
              "      <td>-0.025307</td>\n",
              "      <td>-0.033878</td>\n",
              "      <td>0.001487</td>\n",
              "      <td>-0.003395</td>\n",
              "      <td>0.026249</td>\n",
              "      <td>0.014935</td>\n",
              "      <td>0.957742</td>\n",
              "      <td>1.000000</td>\n",
              "      <td>-0.000073</td>\n",
              "      <td>-0.078531</td>\n",
              "      <td>0.014625</td>\n",
              "      <td>0.897961</td>\n",
              "      <td>0.329170</td>\n",
              "      <td>-0.087989</td>\n",
              "      <td>0.060425</td>\n",
              "      <td>0.030901</td>\n",
              "    </tr>\n",
              "    <tr>\n",
              "      <th>maxamnt_loans30</th>\n",
              "      <td>0.000248</td>\n",
              "      <td>-0.002764</td>\n",
              "      <td>-0.000028</td>\n",
              "      <td>0.000025</td>\n",
              "      <td>-0.000864</td>\n",
              "      <td>-0.001411</td>\n",
              "      <td>0.000928</td>\n",
              "      <td>0.000503</td>\n",
              "      <td>0.001000</td>\n",
              "      <td>0.000109</td>\n",
              "      <td>-0.001100</td>\n",
              "      <td>0.001633</td>\n",
              "      <td>0.001985</td>\n",
              "      <td>-0.002176</td>\n",
              "      <td>-0.000573</td>\n",
              "      <td>0.001635</td>\n",
              "      <td>0.001152</td>\n",
              "      <td>0.001016</td>\n",
              "      <td>0.001884</td>\n",
              "      <td>-0.000394</td>\n",
              "      <td>-0.001070</td>\n",
              "      <td>-0.001855</td>\n",
              "      <td>-0.000754</td>\n",
              "      <td>0.000251</td>\n",
              "      <td>-0.000073</td>\n",
              "      <td>1.000000</td>\n",
              "      <td>0.007782</td>\n",
              "      <td>0.003987</td>\n",
              "      <td>-0.001850</td>\n",
              "      <td>-0.000487</td>\n",
              "      <td>0.009330</td>\n",
              "      <td>-0.001512</td>\n",
              "      <td>-0.000915</td>\n",
              "    </tr>\n",
              "    <tr>\n",
              "      <th>medianamnt_loans30</th>\n",
              "      <td>0.044589</td>\n",
              "      <td>0.004664</td>\n",
              "      <td>-0.011610</td>\n",
              "      <td>-0.005591</td>\n",
              "      <td>-0.016482</td>\n",
              "      <td>-0.009467</td>\n",
              "      <td>0.001835</td>\n",
              "      <td>0.000061</td>\n",
              "      <td>0.028370</td>\n",
              "      <td>-0.067011</td>\n",
              "      <td>-0.000331</td>\n",
              "      <td>-0.034460</td>\n",
              "      <td>0.032477</td>\n",
              "      <td>-0.002289</td>\n",
              "      <td>-0.053637</td>\n",
              "      <td>0.020626</td>\n",
              "      <td>-0.022133</td>\n",
              "      <td>0.036475</td>\n",
              "      <td>0.030534</td>\n",
              "      <td>0.000049</td>\n",
              "      <td>-0.001141</td>\n",
              "      <td>-0.003351</td>\n",
              "      <td>-0.002234</td>\n",
              "      <td>-0.093146</td>\n",
              "      <td>-0.078531</td>\n",
              "      <td>0.007782</td>\n",
              "      <td>1.000000</td>\n",
              "      <td>-0.003670</td>\n",
              "      <td>-0.067580</td>\n",
              "      <td>0.058378</td>\n",
              "      <td>0.911604</td>\n",
              "      <td>-0.006007</td>\n",
              "      <td>0.003178</td>\n",
              "    </tr>\n",
              "    <tr>\n",
              "      <th>cnt_loans90</th>\n",
              "      <td>0.004733</td>\n",
              "      <td>-0.000611</td>\n",
              "      <td>0.008962</td>\n",
              "      <td>0.009446</td>\n",
              "      <td>0.004012</td>\n",
              "      <td>0.005141</td>\n",
              "      <td>-0.000225</td>\n",
              "      <td>-0.000972</td>\n",
              "      <td>0.000093</td>\n",
              "      <td>0.014703</td>\n",
              "      <td>0.003368</td>\n",
              "      <td>0.009419</td>\n",
              "      <td>-0.001143</td>\n",
              "      <td>0.001342</td>\n",
              "      <td>0.015754</td>\n",
              "      <td>-0.002756</td>\n",
              "      <td>0.011306</td>\n",
              "      <td>-0.000123</td>\n",
              "      <td>-0.000926</td>\n",
              "      <td>-0.001986</td>\n",
              "      <td>-0.001623</td>\n",
              "      <td>0.000907</td>\n",
              "      <td>0.001993</td>\n",
              "      <td>0.015595</td>\n",
              "      <td>0.014625</td>\n",
              "      <td>0.003987</td>\n",
              "      <td>-0.003670</td>\n",
              "      <td>1.000000</td>\n",
              "      <td>0.017697</td>\n",
              "      <td>0.001450</td>\n",
              "      <td>-0.002571</td>\n",
              "      <td>0.000587</td>\n",
              "      <td>-0.000476</td>\n",
              "    </tr>\n",
              "    <tr>\n",
              "      <th>amnt_loans90</th>\n",
              "      <td>0.199788</td>\n",
              "      <td>-0.002319</td>\n",
              "      <td>0.563496</td>\n",
              "      <td>0.567204</td>\n",
              "      <td>0.298943</td>\n",
              "      <td>0.327436</td>\n",
              "      <td>0.000870</td>\n",
              "      <td>0.000519</td>\n",
              "      <td>0.014067</td>\n",
              "      <td>0.685257</td>\n",
              "      <td>0.002634</td>\n",
              "      <td>0.484761</td>\n",
              "      <td>0.014546</td>\n",
              "      <td>0.000736</td>\n",
              "      <td>0.783419</td>\n",
              "      <td>-0.132035</td>\n",
              "      <td>0.562609</td>\n",
              "      <td>-0.023450</td>\n",
              "      <td>-0.036412</td>\n",
              "      <td>0.003369</td>\n",
              "      <td>-0.001593</td>\n",
              "      <td>0.020909</td>\n",
              "      <td>0.011501</td>\n",
              "      <td>0.852905</td>\n",
              "      <td>0.897961</td>\n",
              "      <td>-0.001850</td>\n",
              "      <td>-0.067580</td>\n",
              "      <td>0.017697</td>\n",
              "      <td>1.000000</td>\n",
              "      <td>0.323417</td>\n",
              "      <td>-0.095160</td>\n",
              "      <td>0.052142</td>\n",
              "      <td>0.029653</td>\n",
              "    </tr>\n",
              "    <tr>\n",
              "      <th>maxamnt_loans90</th>\n",
              "      <td>0.084144</td>\n",
              "      <td>-0.001191</td>\n",
              "      <td>0.400199</td>\n",
              "      <td>0.397251</td>\n",
              "      <td>0.234211</td>\n",
              "      <td>0.251029</td>\n",
              "      <td>-0.001123</td>\n",
              "      <td>0.001524</td>\n",
              "      <td>0.148460</td>\n",
              "      <td>0.174104</td>\n",
              "      <td>-0.001890</td>\n",
              "      <td>0.257705</td>\n",
              "      <td>0.159613</td>\n",
              "      <td>-0.002141</td>\n",
              "      <td>0.244602</td>\n",
              "      <td>-0.045780</td>\n",
              "      <td>0.321739</td>\n",
              "      <td>0.134139</td>\n",
              "      <td>0.027130</td>\n",
              "      <td>-0.000647</td>\n",
              "      <td>-0.001069</td>\n",
              "      <td>0.038019</td>\n",
              "      <td>0.021785</td>\n",
              "      <td>0.143590</td>\n",
              "      <td>0.329170</td>\n",
              "      <td>-0.000487</td>\n",
              "      <td>0.058378</td>\n",
              "      <td>0.001450</td>\n",
              "      <td>0.323417</td>\n",
              "      <td>1.000000</td>\n",
              "      <td>0.032256</td>\n",
              "      <td>0.013376</td>\n",
              "      <td>0.029679</td>\n",
              "    </tr>\n",
              "    <tr>\n",
              "      <th>medianamnt_loans90</th>\n",
              "      <td>0.035747</td>\n",
              "      <td>0.002771</td>\n",
              "      <td>-0.037305</td>\n",
              "      <td>-0.034686</td>\n",
              "      <td>-0.035489</td>\n",
              "      <td>-0.034122</td>\n",
              "      <td>0.002771</td>\n",
              "      <td>-0.002239</td>\n",
              "      <td>0.021004</td>\n",
              "      <td>-0.071451</td>\n",
              "      <td>-0.001292</td>\n",
              "      <td>-0.042244</td>\n",
              "      <td>0.022692</td>\n",
              "      <td>-0.001927</td>\n",
              "      <td>-0.072481</td>\n",
              "      <td>0.016964</td>\n",
              "      <td>-0.042386</td>\n",
              "      <td>0.031696</td>\n",
              "      <td>0.032453</td>\n",
              "      <td>-0.001365</td>\n",
              "      <td>-0.001623</td>\n",
              "      <td>-0.003094</td>\n",
              "      <td>-0.000949</td>\n",
              "      <td>-0.097871</td>\n",
              "      <td>-0.087989</td>\n",
              "      <td>0.009330</td>\n",
              "      <td>0.911604</td>\n",
              "      <td>-0.002571</td>\n",
              "      <td>-0.095160</td>\n",
              "      <td>0.032256</td>\n",
              "      <td>1.000000</td>\n",
              "      <td>-0.013388</td>\n",
              "      <td>-0.010443</td>\n",
              "    </tr>\n",
              "    <tr>\n",
              "      <th>payback30</th>\n",
              "      <td>0.048336</td>\n",
              "      <td>0.001940</td>\n",
              "      <td>0.026915</td>\n",
              "      <td>0.019400</td>\n",
              "      <td>0.072974</td>\n",
              "      <td>0.067110</td>\n",
              "      <td>-0.002233</td>\n",
              "      <td>0.000077</td>\n",
              "      <td>-0.027369</td>\n",
              "      <td>0.043617</td>\n",
              "      <td>0.001455</td>\n",
              "      <td>0.000112</td>\n",
              "      <td>-0.018398</td>\n",
              "      <td>0.001516</td>\n",
              "      <td>0.011943</td>\n",
              "      <td>0.036817</td>\n",
              "      <td>-0.026409</td>\n",
              "      <td>-0.035640</td>\n",
              "      <td>-0.031760</td>\n",
              "      <td>-0.000471</td>\n",
              "      <td>0.001709</td>\n",
              "      <td>0.013430</td>\n",
              "      <td>0.000354</td>\n",
              "      <td>0.067842</td>\n",
              "      <td>0.060425</td>\n",
              "      <td>-0.001512</td>\n",
              "      <td>-0.006007</td>\n",
              "      <td>0.000587</td>\n",
              "      <td>0.052142</td>\n",
              "      <td>0.013376</td>\n",
              "      <td>-0.013388</td>\n",
              "      <td>1.000000</td>\n",
              "      <td>0.830363</td>\n",
              "    </tr>\n",
              "    <tr>\n",
              "      <th>payback90</th>\n",
              "      <td>0.049183</td>\n",
              "      <td>0.002203</td>\n",
              "      <td>0.047175</td>\n",
              "      <td>0.040800</td>\n",
              "      <td>0.095147</td>\n",
              "      <td>0.099501</td>\n",
              "      <td>-0.001583</td>\n",
              "      <td>0.000417</td>\n",
              "      <td>-0.014260</td>\n",
              "      <td>0.017362</td>\n",
              "      <td>0.000998</td>\n",
              "      <td>-0.012596</td>\n",
              "      <td>-0.002861</td>\n",
              "      <td>0.001811</td>\n",
              "      <td>-0.003141</td>\n",
              "      <td>0.077529</td>\n",
              "      <td>-0.029997</td>\n",
              "      <td>-0.023022</td>\n",
              "      <td>-0.031210</td>\n",
              "      <td>0.000382</td>\n",
              "      <td>-0.000725</td>\n",
              "      <td>0.024046</td>\n",
              "      <td>0.001226</td>\n",
              "      <td>0.033369</td>\n",
              "      <td>0.030901</td>\n",
              "      <td>-0.000915</td>\n",
              "      <td>0.003178</td>\n",
              "      <td>-0.000476</td>\n",
              "      <td>0.029653</td>\n",
              "      <td>0.029679</td>\n",
              "      <td>-0.010443</td>\n",
              "      <td>0.830363</td>\n",
              "      <td>1.000000</td>\n",
              "    </tr>\n",
              "  </tbody>\n",
              "</table>\n",
              "</div>"
            ],
            "text/plain": [
              "                         label       aon  ...  payback30  payback90\n",
              "label                 1.000000 -0.003785  ...   0.048336   0.049183\n",
              "aon                  -0.003785  1.000000  ...   0.001940   0.002203\n",
              "daily_decr30          0.168298  0.001104  ...   0.026915   0.047175\n",
              "daily_decr90          0.166150  0.000374  ...   0.019400   0.040800\n",
              "rental30              0.058085 -0.000960  ...   0.072974   0.095147\n",
              "rental90              0.075521 -0.000790  ...   0.067110   0.099501\n",
              "last_rech_date_ma     0.003728  0.001692  ...  -0.002233  -0.001583\n",
              "last_rech_date_da     0.001711 -0.001693  ...   0.000077   0.000417\n",
              "last_rech_amt_ma      0.131804  0.004256  ...  -0.027369  -0.014260\n",
              "cnt_ma_rech30         0.237331 -0.003148  ...   0.043617   0.017362\n",
              "fr_ma_rech30          0.001330 -0.001163  ...   0.001455   0.000998\n",
              "sumamnt_ma_rech30     0.202828  0.000707  ...   0.000112  -0.012596\n",
              "medianamnt_ma_rech30  0.141490  0.004306  ...  -0.018398  -0.002861\n",
              "medianmarechprebal30 -0.004829  0.003930  ...   0.001516   0.001811\n",
              "cnt_ma_rech90         0.236392 -0.002725  ...   0.011943  -0.003141\n",
              "fr_ma_rech90          0.084385  0.004401  ...   0.036817   0.077529\n",
              "sumamnt_ma_rech90     0.205793  0.001011  ...  -0.026409  -0.029997\n",
              "medianamnt_ma_rech90  0.120855  0.004909  ...  -0.035640  -0.023022\n",
              "medianmarechprebal90  0.039300 -0.000859  ...  -0.031760  -0.031210\n",
              "cnt_da_rech30         0.003827  0.001564  ...  -0.000471   0.000382\n",
              "fr_da_rech30         -0.000027  0.000892  ...   0.001709  -0.000725\n",
              "cnt_da_rech90         0.002999  0.001121  ...   0.013430   0.024046\n",
              "fr_da_rech90         -0.005418  0.005395  ...   0.000354   0.001226\n",
              "cnt_loans30           0.196283 -0.001826  ...   0.067842   0.033369\n",
              "amnt_loans30          0.197272 -0.001726  ...   0.060425   0.030901\n",
              "maxamnt_loans30       0.000248 -0.002764  ...  -0.001512  -0.000915\n",
              "medianamnt_loans30    0.044589  0.004664  ...  -0.006007   0.003178\n",
              "cnt_loans90           0.004733 -0.000611  ...   0.000587  -0.000476\n",
              "amnt_loans90          0.199788 -0.002319  ...   0.052142   0.029653\n",
              "maxamnt_loans90       0.084144 -0.001191  ...   0.013376   0.029679\n",
              "medianamnt_loans90    0.035747  0.002771  ...  -0.013388  -0.010443\n",
              "payback30             0.048336  0.001940  ...   1.000000   0.830363\n",
              "payback90             0.049183  0.002203  ...   0.830363   1.000000\n",
              "\n",
              "[33 rows x 33 columns]"
            ]
          },
          "metadata": {
            "tags": []
          },
          "execution_count": 24
        }
      ]
    },
    {
      "cell_type": "code",
      "metadata": {
        "id": "n2WDlqZZHxhK",
        "outputId": "f7123cf7-71b8-4429-ff7e-6caf84bb4e9f",
        "colab": {
          "base_uri": "https://localhost:8080/",
          "height": 400
        }
      },
      "source": [
        "corr_data = df\n",
        "corr = corr_data.corr()\n",
        "sns.heatmap(corr,annot_kws={'size':10})"
      ],
      "execution_count": 25,
      "outputs": [
        {
          "output_type": "execute_result",
          "data": {
            "text/plain": [
              "<matplotlib.axes._subplots.AxesSubplot at 0x7f19f4a039b0>"
            ]
          },
          "metadata": {
            "tags": []
          },
          "execution_count": 25
        },
        {
          "output_type": "display_data",
          "data": {
            "image/png": "[encoded data removed]",
            "text/plain": [
              "<Figure size 432x288 with 2 Axes>"
            ]
          },
          "metadata": {
            "tags": [],
            "needs_background": "light"
          }
        }
      ]
    },
    {
      "cell_type": "code",
      "metadata": {
        "id": "YXAm2F6pHxhS",
        "outputId": "ea8305f8-2aa1-4bd2-f5eb-a09e8d2698fa",
        "colab": {
          "base_uri": "https://localhost:8080/"
        }
      },
      "source": [
        "from scipy.stats import zscore\n",
        "\n",
        "z_score=abs(zscore(df))\n",
        "print(df.shape)\n",
        "df_final=df.loc[(z_score<3).all(axis=1)]\n",
        "print(df_final.shape)"
      ],
      "execution_count": 26,
      "outputs": [
        {
          "output_type": "stream",
          "text": [
            "(209593, 33)\n",
            "(161465, 33)\n"
          ],
          "name": "stdout"
        }
      ]
    },
    {
      "cell_type": "code",
      "metadata": {
        "id": "FkH5Ed8pHxhV"
      },
      "source": [
        "from statsmodels.stats.outliers_influence import variance_inflation_factor"
      ],
      "execution_count": 27,
      "outputs": []
    },
    {
      "cell_type": "code",
      "metadata": {
        "id": "d55i2pX1HxhZ"
      },
      "source": [
        "vif= pd.DataFrame()\n",
        "vif['Features'] = df_final.columns\n",
        "vif['vif']=[variance_inflation_factor(df_final.values,i) for i in range(df_final.shape[1])]\n"
      ],
      "execution_count": 28,
      "outputs": []
    },
    {
      "cell_type": "code",
      "metadata": {
        "id": "AZiYxh6RHxhe",
        "outputId": "9c8d8238-d652-43e4-8b79-ae3271c1ba46",
        "colab": {
          "base_uri": "https://localhost:8080/",
          "height": 610
        }
      },
      "source": [
        "vif[vif['vif']>4]"
      ],
      "execution_count": 29,
      "outputs": [
        {
          "output_type": "execute_result",
          "data": {
            "text/html": [
              "<div>\n",
              "<style scoped>\n",
              "    .dataframe tbody tr th:only-of-type {\n",
              "        vertical-align: middle;\n",
              "    }\n",
              "\n",
              "    .dataframe tbody tr th {\n",
              "        vertical-align: top;\n",
              "    }\n",
              "\n",
              "    .dataframe thead th {\n",
              "        text-align: right;\n",
              "    }\n",
              "</style>\n",
              "<table border=\"1\" class=\"dataframe\">\n",
              "  <thead>\n",
              "    <tr style=\"text-align: right;\">\n",
              "      <th></th>\n",
              "      <th>Features</th>\n",
              "      <th>vif</th>\n",
              "    </tr>\n",
              "  </thead>\n",
              "  <tbody>\n",
              "    <tr>\n",
              "      <th>0</th>\n",
              "      <td>label</td>\n",
              "      <td>8.110744</td>\n",
              "    </tr>\n",
              "    <tr>\n",
              "      <th>2</th>\n",
              "      <td>daily_decr30</td>\n",
              "      <td>45.459952</td>\n",
              "    </tr>\n",
              "    <tr>\n",
              "      <th>3</th>\n",
              "      <td>daily_decr90</td>\n",
              "      <td>49.377839</td>\n",
              "    </tr>\n",
              "    <tr>\n",
              "      <th>4</th>\n",
              "      <td>rental30</td>\n",
              "      <td>18.855758</td>\n",
              "    </tr>\n",
              "    <tr>\n",
              "      <th>5</th>\n",
              "      <td>rental90</td>\n",
              "      <td>20.290152</td>\n",
              "    </tr>\n",
              "    <tr>\n",
              "      <th>8</th>\n",
              "      <td>last_rech_amt_ma</td>\n",
              "      <td>7.258202</td>\n",
              "    </tr>\n",
              "    <tr>\n",
              "      <th>9</th>\n",
              "      <td>cnt_ma_rech30</td>\n",
              "      <td>31.891545</td>\n",
              "    </tr>\n",
              "    <tr>\n",
              "      <th>11</th>\n",
              "      <td>sumamnt_ma_rech30</td>\n",
              "      <td>23.801974</td>\n",
              "    </tr>\n",
              "    <tr>\n",
              "      <th>12</th>\n",
              "      <td>medianamnt_ma_rech30</td>\n",
              "      <td>12.014572</td>\n",
              "    </tr>\n",
              "    <tr>\n",
              "      <th>14</th>\n",
              "      <td>cnt_ma_rech90</td>\n",
              "      <td>33.077747</td>\n",
              "    </tr>\n",
              "    <tr>\n",
              "      <th>16</th>\n",
              "      <td>sumamnt_ma_rech90</td>\n",
              "      <td>25.218051</td>\n",
              "    </tr>\n",
              "    <tr>\n",
              "      <th>17</th>\n",
              "      <td>medianamnt_ma_rech90</td>\n",
              "      <td>12.533559</td>\n",
              "    </tr>\n",
              "    <tr>\n",
              "      <th>23</th>\n",
              "      <td>cnt_loans30</td>\n",
              "      <td>1708.073333</td>\n",
              "    </tr>\n",
              "    <tr>\n",
              "      <th>24</th>\n",
              "      <td>amnt_loans30</td>\n",
              "      <td>1878.062332</td>\n",
              "    </tr>\n",
              "    <tr>\n",
              "      <th>27</th>\n",
              "      <td>cnt_loans90</td>\n",
              "      <td>2881.152379</td>\n",
              "    </tr>\n",
              "    <tr>\n",
              "      <th>28</th>\n",
              "      <td>amnt_loans90</td>\n",
              "      <td>3119.639750</td>\n",
              "    </tr>\n",
              "    <tr>\n",
              "      <th>29</th>\n",
              "      <td>maxamnt_loans90</td>\n",
              "      <td>11.154788</td>\n",
              "    </tr>\n",
              "    <tr>\n",
              "      <th>31</th>\n",
              "      <td>payback30</td>\n",
              "      <td>4.016944</td>\n",
              "    </tr>\n",
              "    <tr>\n",
              "      <th>32</th>\n",
              "      <td>payback90</td>\n",
              "      <td>4.012088</td>\n",
              "    </tr>\n",
              "  </tbody>\n",
              "</table>\n",
              "</div>"
            ],
            "text/plain": [
              "                Features          vif\n",
              "0                  label     8.110744\n",
              "2           daily_decr30    45.459952\n",
              "3           daily_decr90    49.377839\n",
              "4               rental30    18.855758\n",
              "5               rental90    20.290152\n",
              "8       last_rech_amt_ma     7.258202\n",
              "9          cnt_ma_rech30    31.891545\n",
              "11     sumamnt_ma_rech30    23.801974\n",
              "12  medianamnt_ma_rech30    12.014572\n",
              "14         cnt_ma_rech90    33.077747\n",
              "16     sumamnt_ma_rech90    25.218051\n",
              "17  medianamnt_ma_rech90    12.533559\n",
              "23           cnt_loans30  1708.073333\n",
              "24          amnt_loans30  1878.062332\n",
              "27           cnt_loans90  2881.152379\n",
              "28          amnt_loans90  3119.639750\n",
              "29       maxamnt_loans90    11.154788\n",
              "31             payback30     4.016944\n",
              "32             payback90     4.012088"
            ]
          },
          "metadata": {
            "tags": []
          },
          "execution_count": 29
        }
      ]
    },
    {
      "cell_type": "markdown",
      "metadata": {
        "id": "dGaez3yEHxhi"
      },
      "source": [
        "Using Variance Inflation Factor (VIF) is a measure of colinearity among predictor variables within a multiple regression. It is calculated by taking the the ratio of the variance of all a given model's betas divide by the variane of a single beta if it were fit alone.\n",
        "From the above results we can see that there are  many features having strong multicollinearity in the data set. This resembles that there is need to go for PCA (Principal Component Analysis).\n",
        "If we won’t perform PCA the noise or correlation between the independent variables will affect the model prediction and model results. More than 50% of the features are having vif >4 so it is mandatory to perform PCA in order to reduce the multicollinearity effect among the independent variables."
      ]
    },
    {
      "cell_type": "code",
      "metadata": {
        "id": "jNtxNjoUHxhi"
      },
      "source": [
        "from sklearn.decomposition import PCA"
      ],
      "execution_count": 30,
      "outputs": []
    },
    {
      "cell_type": "code",
      "metadata": {
        "id": "8C1u9S4dHxhq",
        "outputId": "c74635ae-3372-41a0-a9ed-918632085c9b",
        "colab": {
          "base_uri": "https://localhost:8080/"
        }
      },
      "source": [
        "pca=PCA()\n",
        "pca.fit(df_final)"
      ],
      "execution_count": 31,
      "outputs": [
        {
          "output_type": "execute_result",
          "data": {
            "text/plain": [
              "PCA(copy=True, iterated_power='auto', n_components=None, random_state=None,\n",
              "    svd_solver='auto', tol=0.0, whiten=False)"
            ]
          },
          "metadata": {
            "tags": []
          },
          "execution_count": 31
        }
      ]
    },
    {
      "cell_type": "code",
      "metadata": {
        "id": "GFcRlrlHHxhw"
      },
      "source": [
        "data_pca= pca.transform(df_final)"
      ],
      "execution_count": 32,
      "outputs": []
    },
    {
      "cell_type": "code",
      "metadata": {
        "id": "dTgCnIM7Hxhz",
        "outputId": "8c487be8-8b1d-4c10-fc11-bd11c34f5b11",
        "colab": {
          "base_uri": "https://localhost:8080/"
        }
      },
      "source": [
        "cumsum=np.cumsum(pca.explained_variance_ratio_)\n",
        "cumsum"
      ],
      "execution_count": 33,
      "outputs": [
        {
          "output_type": "execute_result",
          "data": {
            "text/plain": [
              "array([0.73812729, 0.882712  , 0.94109282, 0.96808773, 0.98988965,\n",
              "       0.9929759 , 0.99566909, 0.99714409, 0.99845931, 0.99949931,\n",
              "       0.99967523, 0.99983513, 0.99997468, 0.99999762, 0.99999867,\n",
              "       0.99999915, 0.99999945, 0.99999963, 0.99999977, 0.99999986,\n",
              "       0.99999994, 0.99999997, 0.99999999, 1.        , 1.        ,\n",
              "       1.        , 1.        , 1.        , 1.        , 1.        ,\n",
              "       1.        , 1.        , 1.        ])"
            ]
          },
          "metadata": {
            "tags": []
          },
          "execution_count": 33
        }
      ]
    },
    {
      "cell_type": "code",
      "metadata": {
        "id": "UT9sBUQZHxh2",
        "outputId": "5ed30e43-d1d5-4c8a-d7ca-7aaf9da8b0ce",
        "colab": {
          "base_uri": "https://localhost:8080/",
          "height": 388
        }
      },
      "source": [
        "plt.figure(figsize=(10,6))\n",
        "\n",
        "plt.plot(range(0,33), cumsum, color='k', lw=2)\n",
        "\n",
        "plt.xlabel('Number of components')\n",
        "plt.ylabel('Total explained variance')\n",
        "\n",
        "plt.axvline(8, c='b')\n",
        "plt.axhline(0.9, c='r')\n",
        "\n",
        "plt.show()\n"
      ],
      "execution_count": 34,
      "outputs": [
        {
          "output_type": "display_data",
          "data": {
            "image/png": "[encoded data removed]",
            "text/plain": [
              "<Figure size 720x432 with 1 Axes>"
            ]
          },
          "metadata": {
            "tags": [],
            "needs_background": "light"
          }
        }
      ]
    },
    {
      "cell_type": "code",
      "metadata": {
        "id": "Cv2ookj0Hxh5",
        "outputId": "c80199b3-3827-440e-c6a5-3a2697e8a3c0",
        "colab": {
          "base_uri": "https://localhost:8080/"
        }
      },
      "source": [
        "cov_matrix = np.cov(df_final.T)\n",
        "print('Covariance Matrix \\n%s', cov_matrix)"
      ],
      "execution_count": 35,
      "outputs": [
        {
          "output_type": "stream",
          "text": [
            "Covariance Matrix \n",
            "%s [[ 1.19484551e-01  1.48240101e+01  3.75039465e+02 ...  7.97561339e-04\n",
            "   2.07982077e-01  2.41539946e-01]\n",
            " [ 1.48240101e+01  2.46510384e+05  2.01485473e+05 ... -1.83035553e-01\n",
            "   4.50867556e+01  1.01402659e+02]\n",
            " [ 3.75039465e+02  2.01485473e+05  3.20456813e+07 ... -1.23297953e+01\n",
            "   3.55015475e+03  5.45421995e+03]\n",
            " ...\n",
            " [ 7.97561339e-04 -1.83035553e-01 -1.23297953e+01 ...  6.06785987e-03\n",
            "   2.59351828e-03  4.87621940e-03]\n",
            " [ 2.07982077e-01  4.50867556e+01  3.55015475e+03 ...  2.59351828e-03\n",
            "   1.78829563e+01  1.65668785e+01]\n",
            " [ 2.41539946e-01  1.01402659e+02  5.45421995e+03 ...  4.87621940e-03\n",
            "   1.65668785e+01  2.45413587e+01]]\n"
          ],
          "name": "stdout"
        }
      ]
    },
    {
      "cell_type": "code",
      "metadata": {
        "id": "9TZORRXwHxh9"
      },
      "source": [
        "eig_vals, eig_vecs = np.linalg.eig(cov_matrix)"
      ],
      "execution_count": 36,
      "outputs": []
    },
    {
      "cell_type": "code",
      "metadata": {
        "id": "CYdyZTz5HxiB"
      },
      "source": [
        "eigen_pairs = [(np.abs(eig_vals[i]), eig_vecs[ :, i]) for i in range(len(eig_vals))]\n"
      ],
      "execution_count": 37,
      "outputs": []
    },
    {
      "cell_type": "code",
      "metadata": {
        "id": "n0JF1TBuHxiF",
        "outputId": "182dd0d1-c4d4-4624-ab7f-2ab2551901ec",
        "colab": {
          "base_uri": "https://localhost:8080/"
        }
      },
      "source": [
        "tot = sum(eig_vals)\n",
        "var_exp = [( i /tot ) * 100 for i in sorted(eig_vals, reverse=True)]\n",
        "cum_var_exp = np.cumsum(var_exp)\n",
        "print(\"Cumulative Variance Explained\", cum_var_exp)"
      ],
      "execution_count": 38,
      "outputs": [
        {
          "output_type": "stream",
          "text": [
            "Cumulative Variance Explained [ 73.8127291   88.27119976  94.10928248  96.80877291  98.9889654\n",
            "  99.29759013  99.56690899  99.71440869  99.84593062  99.94993095\n",
            "  99.96752285  99.98351285  99.99746816  99.99976209  99.99986673\n",
            "  99.99991502  99.99994468  99.9999629   99.9999771   99.99998625\n",
            "  99.99999372  99.99999684  99.99999858  99.99999968  99.9999999\n",
            "  99.99999995  99.99999999  99.99999999 100.         100.\n",
            " 100.         100.         100.        ]\n"
          ],
          "name": "stdout"
        }
      ]
    },
    {
      "cell_type": "code",
      "metadata": {
        "id": "lUMD-Vm3HxiM",
        "outputId": "3d10999e-fb6d-4844-9da5-e4626ddb553c",
        "colab": {
          "base_uri": "https://localhost:8080/",
          "height": 297
        }
      },
      "source": [
        "plt.figure(figsize=(6 , 4))\n",
        "plt.bar(range(33), var_exp, alpha = 0.5, align = 'center', label = 'Individual explained variance')\n",
        "plt.step(range(33), cum_var_exp, where='mid', label = 'Cumulative explained variance')\n",
        "plt.ylabel('Explained Variance Ratio')\n",
        "plt.xlabel('Principal Components')\n",
        "plt.legend(loc = 'best')\n",
        "plt.tight_layout()\n",
        "plt.show()"
      ],
      "execution_count": 39,
      "outputs": [
        {
          "output_type": "display_data",
          "data": {
            "image/png": "[encoded data removed]",
            "text/plain": [
              "<Figure size 432x288 with 1 Axes>"
            ]
          },
          "metadata": {
            "tags": [],
            "needs_background": "light"
          }
        }
      ]
    },
    {
      "cell_type": "code",
      "metadata": {
        "id": "OnNG8k4UHxiQ",
        "outputId": "0a307236-b6d6-4739-ee25-ebbbac8d7e1a",
        "colab": {
          "base_uri": "https://localhost:8080/"
        }
      },
      "source": [
        "pca = PCA(n_components=13)\n",
        "pca.fit(df_final)\n",
        "data_pca = pd.DataFrame(pca.transform(df_final))\n",
        "data_pca.shape"
      ],
      "execution_count": 40,
      "outputs": [
        {
          "output_type": "execute_result",
          "data": {
            "text/plain": [
              "(161465, 13)"
            ]
          },
          "metadata": {
            "tags": []
          },
          "execution_count": 40
        }
      ]
    },
    {
      "cell_type": "code",
      "metadata": {
        "id": "DDljsBKZHxiU"
      },
      "source": [
        "x=data_pca\n",
        "y=df_final['label']"
      ],
      "execution_count": 41,
      "outputs": []
    },
    {
      "cell_type": "code",
      "metadata": {
        "id": "oosJZOZiHxiZ",
        "outputId": "455ce043-b566-4b7a-e941-508d0648517f",
        "colab": {
          "base_uri": "https://localhost:8080/"
        }
      },
      "source": [
        "from sklearn.model_selection import train_test_split,cross_val_score\n",
        "x_train, x_test, y_train, y_test = train_test_split(x, y, test_size=0.3, random_state=1)\n",
        "\n",
        "print(x_train.shape)\n",
        "print(x_test.shape)\n",
        "print(y_train.shape)\n",
        "print(y_test.shape)"
      ],
      "execution_count": 42,
      "outputs": [
        {
          "output_type": "stream",
          "text": [
            "(113025, 13)\n",
            "(48440, 13)\n",
            "(113025,)\n",
            "(48440,)\n"
          ],
          "name": "stdout"
        }
      ]
    },
    {
      "cell_type": "markdown",
      "metadata": {
        "id": "n1Tx6soXHxiy"
      },
      "source": [
        "# LogisticRegression"
      ]
    },
    {
      "cell_type": "code",
      "metadata": {
        "id": "SCh29zqEHxiy",
        "outputId": "b28ad957-4c8d-4cf5-f048-323ae5bd7ff1",
        "colab": {
          "base_uri": "https://localhost:8080/"
        }
      },
      "source": [
        "from sklearn.linear_model import LogisticRegression\n",
        "LR=LogisticRegression()\n",
        "LR.fit(x_train,y_train)\n",
        "pre=LR.predict(x_test)\n",
        "LR.score(x_test,y_test)"
      ],
      "execution_count": 43,
      "outputs": [
        {
          "output_type": "execute_result",
          "data": {
            "text/plain": [
              "0.8571428571428571"
            ]
          },
          "metadata": {
            "tags": []
          },
          "execution_count": 43
        }
      ]
    },
    {
      "cell_type": "code",
      "metadata": {
        "id": "8A7aUuv2Hxi1",
        "outputId": "719ab781-8b42-47c8-8555-203739b4ac0c",
        "colab": {
          "base_uri": "https://localhost:8080/"
        }
      },
      "source": [
        "score=cross_val_score(LR,x,y,cv=10)\n",
        "score.mean()\n"
      ],
      "execution_count": 44,
      "outputs": [
        {
          "output_type": "execute_result",
          "data": {
            "text/plain": [
              "0.7501941736199818"
            ]
          },
          "metadata": {
            "tags": []
          },
          "execution_count": 44
        }
      ]
    },
    {
      "cell_type": "code",
      "metadata": {
        "id": "mDskRSk3Hxi9",
        "outputId": "4280fd0e-b60e-4bcc-ad5a-232c5dfd4a87",
        "colab": {
          "base_uri": "https://localhost:8080/",
          "height": 298
        }
      },
      "source": [
        "cm=confusion_matrix(y_test,pre)\n",
        "sns.heatmap(cm,annot=True)\n",
        "print(cm)"
      ],
      "execution_count": 45,
      "outputs": [
        {
          "output_type": "stream",
          "text": [
            "[[ 2816  3853]\n",
            " [ 3067 38704]]\n"
          ],
          "name": "stdout"
        },
        {
          "output_type": "display_data",
          "data": {
            "image/png": "[encoded data removed]",
            "text/plain": [
              "<Figure size 432x288 with 2 Axes>"
            ]
          },
          "metadata": {
            "tags": [],
            "needs_background": "light"
          }
        }
      ]
    },
    {
      "cell_type": "code",
      "metadata": {
        "id": "Pzw1EP_lHxjD",
        "outputId": "78051145-180d-4eb4-d40d-aeb3701e3560",
        "colab": {
          "base_uri": "https://localhost:8080/"
        }
      },
      "source": [
        "false_positive_rate, true_positive_rate, thresholds = roc_curve(y_test,pre)\n",
        "roc_auc = auc(false_positive_rate, true_positive_rate)\n",
        "print (roc_auc)"
      ],
      "execution_count": 46,
      "outputs": [
        {
          "output_type": "stream",
          "text": [
            "0.674414032893663\n"
          ],
          "name": "stdout"
        }
      ]
    },
    {
      "cell_type": "code",
      "metadata": {
        "id": "TZTcuWfeHxjI",
        "outputId": "77f879c8-6dad-4215-d621-d7a1e58945e7",
        "colab": {
          "base_uri": "https://localhost:8080/",
          "height": 296
        }
      },
      "source": [
        "sns.lineplot(x=false_positive_rate,y=true_positive_rate,label='AUC = %0.2f'% roc_auc)\n",
        "plt.plot([0,1],[0,1],'r--')\n",
        "plt.ylabel('True Positive Rate')\n",
        "plt.xlabel('False Positive Rate')"
      ],
      "execution_count": 47,
      "outputs": [
        {
          "output_type": "execute_result",
          "data": {
            "text/plain": [
              "Text(0.5, 0, 'False Positive Rate')"
            ]
          },
          "metadata": {
            "tags": []
          },
          "execution_count": 47
        },
        {
          "output_type": "display_data",
          "data": {
            "image/png": "[encoded data removed]",
            "text/plain": [
              "<Figure size 432x288 with 1 Axes>"
            ]
          },
          "metadata": {
            "tags": [],
            "needs_background": "light"
          }
        }
      ]
    },
    {
      "cell_type": "markdown",
      "metadata": {
        "id": "BsXjjsxqHxjM"
      },
      "source": [
        "# GaussianNB"
      ]
    },
    {
      "cell_type": "code",
      "metadata": {
        "id": "tcwfn7FZHxjN",
        "outputId": "a300570c-aa2a-4005-fecb-557775b8d4e0",
        "colab": {
          "base_uri": "https://localhost:8080/"
        }
      },
      "source": [
        "from sklearn.naive_bayes import GaussianNB\n",
        "GB=GaussianNB()\n",
        "GB.fit(x_train,y_train)\n",
        "pre=GB.predict(x_test)\n",
        "GB.score(x_test,y_test)"
      ],
      "execution_count": 48,
      "outputs": [
        {
          "output_type": "execute_result",
          "data": {
            "text/plain": [
              "0.5684971098265896"
            ]
          },
          "metadata": {
            "tags": []
          },
          "execution_count": 48
        }
      ]
    },
    {
      "cell_type": "code",
      "metadata": {
        "id": "1rrg6S4HHxjQ",
        "outputId": "fb233e74-e3c9-4de5-8358-fc1da48fc68b",
        "colab": {
          "base_uri": "https://localhost:8080/"
        }
      },
      "source": [
        "score=cross_val_score(GB,x,y,cv=10)\n",
        "score.mean()"
      ],
      "execution_count": 49,
      "outputs": [
        {
          "output_type": "execute_result",
          "data": {
            "text/plain": [
              "0.5684761495154327"
            ]
          },
          "metadata": {
            "tags": []
          },
          "execution_count": 49
        }
      ]
    },
    {
      "cell_type": "code",
      "metadata": {
        "id": "EO46WlLYHxjS",
        "outputId": "88140f06-b646-434d-d289-20fffcba0faf",
        "colab": {
          "base_uri": "https://localhost:8080/",
          "height": 0
        }
      },
      "source": [
        "cm=confusion_matrix(y_test,pre)\n",
        "sns.heatmap(cm,annot=True)\n",
        "print(cm)"
      ],
      "execution_count": 50,
      "outputs": [
        {
          "output_type": "stream",
          "text": [
            "[[ 5610  1059]\n",
            " [19843 21928]]\n"
          ],
          "name": "stdout"
        },
        {
          "output_type": "display_data",
          "data": {
            "image/png": "[encoded data removed]",
            "text/plain": [
              "<Figure size 432x288 with 2 Axes>"
            ]
          },
          "metadata": {
            "tags": [],
            "needs_background": "light"
          }
        }
      ]
    },
    {
      "cell_type": "code",
      "metadata": {
        "id": "4N113V3YHxjV",
        "outputId": "2a90e010-fad9-4ece-dbc7-95dbb5c0e78c",
        "colab": {
          "base_uri": "https://localhost:8080/"
        }
      },
      "source": [
        "false_positive_rate, true_positive_rate, thresholds = roc_curve(y_test,pre)\n",
        "roc_auc = auc(false_positive_rate, true_positive_rate)\n",
        "print (roc_auc)"
      ],
      "execution_count": 51,
      "outputs": [
        {
          "output_type": "stream",
          "text": [
            "0.6830815422258238\n"
          ],
          "name": "stdout"
        }
      ]
    },
    {
      "cell_type": "code",
      "metadata": {
        "id": "qkWXSIfeHxjZ",
        "outputId": "bf3eff31-aad0-4d7b-c496-021800df7ddf",
        "colab": {
          "base_uri": "https://localhost:8080/",
          "height": 0
        }
      },
      "source": [
        "sns.lineplot(x=false_positive_rate,y=true_positive_rate,label='AUC = %0.2f'% roc_auc)\n",
        "plt.plot([0,1],[0,1],'r--')\n",
        "plt.ylabel('True Positive Rate')\n",
        "plt.xlabel('False Positive Rate')"
      ],
      "execution_count": 52,
      "outputs": [
        {
          "output_type": "execute_result",
          "data": {
            "text/plain": [
              "Text(0.5, 0, 'False Positive Rate')"
            ]
          },
          "metadata": {
            "tags": []
          },
          "execution_count": 52
        },
        {
          "output_type": "display_data",
          "data": {
            "image/png": "[encoded data removed]",
            "text/plain": [
              "<Figure size 432x288 with 1 Axes>"
            ]
          },
          "metadata": {
            "tags": [],
            "needs_background": "light"
          }
        }
      ]
    },
    {
      "cell_type": "markdown",
      "metadata": {
        "id": "aMI6T3YDHxjf"
      },
      "source": [
        "# DecisionTreeClassifie"
      ]
    },
    {
      "cell_type": "code",
      "metadata": {
        "id": "UOzXTinHHxjf",
        "outputId": "678a2bab-dff7-4595-8e3d-67ccba8afcdc",
        "colab": {
          "base_uri": "https://localhost:8080/"
        }
      },
      "source": [
        "from sklearn.tree import DecisionTreeClassifier\n",
        "DT=DecisionTreeClassifier()\n",
        "DT.fit(x_train,y_train)\n",
        "pre=DT.predict(x_test)\n",
        "DT.score(x_test,y_test)"
      ],
      "execution_count": 53,
      "outputs": [
        {
          "output_type": "execute_result",
          "data": {
            "text/plain": [
              "0.8433526011560694"
            ]
          },
          "metadata": {
            "tags": []
          },
          "execution_count": 53
        }
      ]
    },
    {
      "cell_type": "code",
      "metadata": {
        "id": "wqPY0bw4Hxji",
        "outputId": "07745262-6be9-4e27-c198-e52c0699a578",
        "colab": {
          "base_uri": "https://localhost:8080/"
        }
      },
      "source": [
        "score=cross_val_score(DT,x,y,cv=10)\n",
        "score.mean()"
      ],
      "execution_count": 54,
      "outputs": [
        {
          "output_type": "execute_result",
          "data": {
            "text/plain": [
              "0.8463382525794174"
            ]
          },
          "metadata": {
            "tags": []
          },
          "execution_count": 54
        }
      ]
    },
    {
      "cell_type": "code",
      "metadata": {
        "id": "cv2UgbXRHxjl",
        "outputId": "61697715-2fbc-4820-b661-249d65eb7f17",
        "colab": {
          "base_uri": "https://localhost:8080/",
          "height": 0
        }
      },
      "source": [
        "cm=confusion_matrix(y_test,pre)\n",
        "sns.heatmap(cm,annot=True)\n",
        "print(cm)"
      ],
      "execution_count": 55,
      "outputs": [
        {
          "output_type": "stream",
          "text": [
            "[[ 3079  3590]\n",
            " [ 3998 37773]]\n"
          ],
          "name": "stdout"
        },
        {
          "output_type": "display_data",
          "data": {
            "image/png": "[encoded data removed]",
            "text/plain": [
              "<Figure size 432x288 with 2 Axes>"
            ]
          },
          "metadata": {
            "tags": [],
            "needs_background": "light"
          }
        }
      ]
    },
    {
      "cell_type": "code",
      "metadata": {
        "id": "aPhvolbRHxjp",
        "outputId": "f426075c-c2b8-4f49-c6e7-8cf674051461",
        "colab": {
          "base_uri": "https://localhost:8080/"
        }
      },
      "source": [
        "false_positive_rate, true_positive_rate, thresholds = roc_curve(y_test,pre)\n",
        "roc_auc = auc(false_positive_rate, true_positive_rate)\n",
        "print (roc_auc)"
      ],
      "execution_count": 56,
      "outputs": [
        {
          "output_type": "stream",
          "text": [
            "0.682988036373475\n"
          ],
          "name": "stdout"
        }
      ]
    },
    {
      "cell_type": "code",
      "metadata": {
        "id": "cBFyjfBXHxjs",
        "outputId": "594cc591-5757-4a76-f663-eefe773b814d",
        "colab": {
          "base_uri": "https://localhost:8080/",
          "height": 0
        }
      },
      "source": [
        "sns.lineplot(x=false_positive_rate,y=true_positive_rate,label='AUC = %0.2f'% roc_auc)\n",
        "plt.plot([0,1],[0,1],'r--')\n",
        "plt.ylabel('True Positive Rate')\n",
        "plt.xlabel('False Positive Rate')"
      ],
      "execution_count": 57,
      "outputs": [
        {
          "output_type": "execute_result",
          "data": {
            "text/plain": [
              "Text(0.5, 0, 'False Positive Rate')"
            ]
          },
          "metadata": {
            "tags": []
          },
          "execution_count": 57
        },
        {
          "output_type": "display_data",
          "data": {
            "image/png": "[encoded data removed]",
            "text/plain": [
              "<Figure size 432x288 with 1 Axes>"
            ]
          },
          "metadata": {
            "tags": [],
            "needs_background": "light"
          }
        }
      ]
    },
    {
      "cell_type": "markdown",
      "metadata": {
        "id": "imh5U_ZhHxju"
      },
      "source": [
        "# KNeighborsClassifier"
      ]
    },
    {
      "cell_type": "code",
      "metadata": {
        "id": "SMWYp_dFHxjv",
        "outputId": "8637a845-3628-45dc-8c5d-d9d77b4f8f08",
        "colab": {
          "base_uri": "https://localhost:8080/"
        }
      },
      "source": [
        "from sklearn.neighbors import KNeighborsClassifier\n",
        "KNN=KNeighborsClassifier()\n",
        "KNN.fit(x_train,y_train)\n",
        "pre=KNN.predict(x_test)\n",
        "KNN.score(x_test,y_test)"
      ],
      "execution_count": 58,
      "outputs": [
        {
          "output_type": "execute_result",
          "data": {
            "text/plain": [
              "0.8752683732452519"
            ]
          },
          "metadata": {
            "tags": []
          },
          "execution_count": 58
        }
      ]
    },
    {
      "cell_type": "code",
      "metadata": {
        "id": "_Kybr_73Hxjy",
        "outputId": "b70a0629-66f3-42e3-f903-9f665091d235",
        "colab": {
          "base_uri": "https://localhost:8080/"
        }
      },
      "source": [
        "score=cross_val_score(KNN,x,y,cv=10)\n",
        "score.mean()"
      ],
      "execution_count": 59,
      "outputs": [
        {
          "output_type": "execute_result",
          "data": {
            "text/plain": [
              "0.8749016635230523"
            ]
          },
          "metadata": {
            "tags": []
          },
          "execution_count": 59
        }
      ]
    },
    {
      "cell_type": "code",
      "metadata": {
        "id": "buNVyGEyHxj1",
        "outputId": "a41aa611-f297-4a05-b961-5c41a362c550",
        "colab": {
          "base_uri": "https://localhost:8080/",
          "height": 0
        }
      },
      "source": [
        "cm=confusion_matrix(y_test,pre)\n",
        "sns.heatmap(cm,annot=True)\n",
        "print(cm)"
      ],
      "execution_count": 60,
      "outputs": [
        {
          "output_type": "stream",
          "text": [
            "[[ 2550  4119]\n",
            " [ 1923 39848]]\n"
          ],
          "name": "stdout"
        },
        {
          "output_type": "display_data",
          "data": {
            "image/png": "[encoded data removed]",
            "text/plain": [
              "<Figure size 432x288 with 2 Axes>"
            ]
          },
          "metadata": {
            "tags": [],
            "needs_background": "light"
          }
        }
      ]
    },
    {
      "cell_type": "code",
      "metadata": {
        "id": "B5rM5dGQHxj3",
        "outputId": "d3d53413-6f24-4dad-c789-8682aea99256",
        "colab": {
          "base_uri": "https://localhost:8080/"
        }
      },
      "source": [
        "false_positive_rate, true_positive_rate, thresholds = roc_curve(y_test,pre)\n",
        "roc_auc = auc(false_positive_rate, true_positive_rate)\n",
        "print (roc_auc)"
      ],
      "execution_count": 61,
      "outputs": [
        {
          "output_type": "stream",
          "text": [
            "0.6681647238984298\n"
          ],
          "name": "stdout"
        }
      ]
    },
    {
      "cell_type": "code",
      "metadata": {
        "id": "70-58QQfHxj5",
        "outputId": "e0af5f89-0682-4323-f96f-467e0d8760bb",
        "colab": {
          "base_uri": "https://localhost:8080/",
          "height": 0
        }
      },
      "source": [
        "sns.lineplot(x=false_positive_rate,y=true_positive_rate,label='AUC = %0.2f'% roc_auc)\n",
        "plt.plot([0,1],[0,1],'r--')\n",
        "plt.ylabel('True Positive Rate')\n",
        "plt.xlabel('False Positive Rate')"
      ],
      "execution_count": 62,
      "outputs": [
        {
          "output_type": "execute_result",
          "data": {
            "text/plain": [
              "Text(0.5, 0, 'False Positive Rate')"
            ]
          },
          "metadata": {
            "tags": []
          },
          "execution_count": 62
        },
        {
          "output_type": "display_data",
          "data": {
            "image/png": "[encoded data removed]",
            "text/plain": [
              "<Figure size 432x288 with 1 Axes>"
            ]
          },
          "metadata": {
            "tags": [],
            "needs_background": "light"
          }
        }
      ]
    },
    {
      "cell_type": "markdown",
      "metadata": {
        "id": "2kI_OftgHxkA"
      },
      "source": [
        "# GradientBoostingClassifier"
      ]
    },
    {
      "cell_type": "code",
      "metadata": {
        "id": "p_I4MjKMHxkA",
        "outputId": "746b1922-3bb4-4291-f526-9cc8230629c2",
        "colab": {
          "base_uri": "https://localhost:8080/"
        }
      },
      "source": [
        "from sklearn.ensemble import GradientBoostingClassifier\n",
        "GBC=GradientBoostingClassifier()\n",
        "GBC.fit(x_train,y_train)\n",
        "pre=GBC.predict(x_test)\n",
        "GBC.score(x_test,y_test)"
      ],
      "execution_count": 63,
      "outputs": [
        {
          "output_type": "execute_result",
          "data": {
            "text/plain": [
              "0.8815028901734104"
            ]
          },
          "metadata": {
            "tags": []
          },
          "execution_count": 63
        }
      ]
    },
    {
      "cell_type": "code",
      "metadata": {
        "id": "TZFaf_ubHxkD",
        "outputId": "662e4e76-8d91-4bdc-8177-c06dac1d9c9c",
        "colab": {
          "base_uri": "https://localhost:8080/"
        }
      },
      "source": [
        "score=cross_val_score(GBC,x,y,cv=10)\n",
        "score.mean()"
      ],
      "execution_count": 64,
      "outputs": [
        {
          "output_type": "execute_result",
          "data": {
            "text/plain": [
              "0.8809277589625804"
            ]
          },
          "metadata": {
            "tags": []
          },
          "execution_count": 64
        }
      ]
    },
    {
      "cell_type": "code",
      "metadata": {
        "id": "8G_pvRitHxkF",
        "outputId": "a79a358c-1bdb-430d-b39f-a15a8336b675",
        "colab": {
          "base_uri": "https://localhost:8080/",
          "height": 298
        }
      },
      "source": [
        "cm=confusion_matrix(y_test,pre)\n",
        "sns.heatmap(cm,annot=True)\n",
        "print(cm)"
      ],
      "execution_count": 65,
      "outputs": [
        {
          "output_type": "stream",
          "text": [
            "[[ 1751  4918]\n",
            " [  822 40949]]\n"
          ],
          "name": "stdout"
        },
        {
          "output_type": "display_data",
          "data": {
            "image/png": "[encoded data removed]",
            "text/plain": [
              "<Figure size 432x288 with 2 Axes>"
            ]
          },
          "metadata": {
            "tags": [],
            "needs_background": "light"
          }
        }
      ]
    },
    {
      "cell_type": "code",
      "metadata": {
        "id": "oQBOYH63HxkH",
        "outputId": "4466f2e4-06d1-47b0-b6db-c550bc8aa490",
        "colab": {
          "base_uri": "https://localhost:8080/"
        }
      },
      "source": [
        "false_positive_rate, true_positive_rate, thresholds = roc_curve(y_test,pre)\n",
        "roc_auc = auc(false_positive_rate, true_positive_rate)\n",
        "print (roc_auc)"
      ],
      "execution_count": 66,
      "outputs": [
        {
          "output_type": "stream",
          "text": [
            "0.6214396900947252\n"
          ],
          "name": "stdout"
        }
      ]
    },
    {
      "cell_type": "code",
      "metadata": {
        "id": "RH40iZVtHxkM",
        "outputId": "b9128301-a8bc-4165-bcda-9ec3095fe6d7",
        "colab": {
          "base_uri": "https://localhost:8080/",
          "height": 296
        }
      },
      "source": [
        "sns.lineplot(x=false_positive_rate,y=true_positive_rate,label='AUC = %0.2f'% roc_auc)\n",
        "plt.plot([0,1],[0,1],'r--')\n",
        "plt.ylabel('True Positive Rate')\n",
        "plt.xlabel('False Positive Rate')"
      ],
      "execution_count": 67,
      "outputs": [
        {
          "output_type": "execute_result",
          "data": {
            "text/plain": [
              "Text(0.5, 0, 'False Positive Rate')"
            ]
          },
          "metadata": {
            "tags": []
          },
          "execution_count": 67
        },
        {
          "output_type": "display_data",
          "data": {
            "image/png": "[encoded data removed]",
            "text/plain": [
              "<Figure size 432x288 with 1 Axes>"
            ]
          },
          "metadata": {
            "tags": [],
            "needs_background": "light"
          }
        }
      ]
    },
    {
      "cell_type": "markdown",
      "metadata": {
        "id": "KfQ-I6IjHxkS"
      },
      "source": [
        "# RandomForestClassifier"
      ]
    },
    {
      "cell_type": "code",
      "metadata": {
        "id": "br2NrWJIHxkS",
        "outputId": "e290c180-c8ec-479f-dbed-f3724464173f",
        "colab": {
          "base_uri": "https://localhost:8080/"
        }
      },
      "source": [
        "from sklearn.ensemble import RandomForestClassifier\n",
        "RFC=RandomForestClassifier()\n",
        "RFC.fit(x_train,y_train)\n",
        "pre=RFC.predict(x_test)\n",
        "RFC.score(x_test,y_test)"
      ],
      "execution_count": 68,
      "outputs": [
        {
          "output_type": "execute_result",
          "data": {
            "text/plain": [
              "0.8951279933938894"
            ]
          },
          "metadata": {
            "tags": []
          },
          "execution_count": 68
        }
      ]
    },
    {
      "cell_type": "code",
      "metadata": {
        "id": "ICEBxv7ZHxkW",
        "outputId": "531a83a1-afce-4493-c74f-ffab36405358",
        "colab": {
          "base_uri": "https://localhost:8080/"
        }
      },
      "source": [
        "score=cross_val_score(RFC,x,y,cv=10)\n",
        "score.mean()"
      ],
      "execution_count": 69,
      "outputs": [
        {
          "output_type": "execute_result",
          "data": {
            "text/plain": [
              "0.8953333508087251"
            ]
          },
          "metadata": {
            "tags": []
          },
          "execution_count": 69
        }
      ]
    },
    {
      "cell_type": "code",
      "metadata": {
        "id": "oy-cJ6DHHxkb",
        "outputId": "df802a80-579f-44a7-8430-4b60ffdfa665",
        "colab": {
          "base_uri": "https://localhost:8080/",
          "height": 300
        }
      },
      "source": [
        "cm=confusion_matrix(y_test,pre)\n",
        "sns.heatmap(cm,annot=True)\n",
        "print(cm)"
      ],
      "execution_count": 70,
      "outputs": [
        {
          "output_type": "stream",
          "text": [
            "[[ 2789  3880]\n",
            " [ 1200 40571]]\n"
          ],
          "name": "stdout"
        },
        {
          "output_type": "display_data",
          "data": {
            "image/png": "[encoded data removed]",
            "text/plain": [
              "<Figure size 432x288 with 2 Axes>"
            ]
          },
          "metadata": {
            "tags": [],
            "needs_background": "light"
          }
        }
      ]
    },
    {
      "cell_type": "code",
      "metadata": {
        "id": "qR0JdZ2MHxke",
        "outputId": "cdd1c223-0dff-4902-f374-a0928ea20bb1",
        "colab": {
          "base_uri": "https://localhost:8080/"
        }
      },
      "source": [
        "false_positive_rate, true_positive_rate, thresholds = roc_curve(y_test,pre)\n",
        "roc_auc = auc(false_positive_rate, true_positive_rate)\n",
        "print (roc_auc)"
      ],
      "execution_count": 71,
      "outputs": [
        {
          "output_type": "stream",
          "text": [
            "0.6947377819022589\n"
          ],
          "name": "stdout"
        }
      ]
    },
    {
      "cell_type": "code",
      "metadata": {
        "id": "e3_qo7hNHxkg",
        "outputId": "b0b9f61b-b9c0-4fea-f924-b223e906d721",
        "colab": {
          "base_uri": "https://localhost:8080/",
          "height": 296
        }
      },
      "source": [
        "sns.lineplot(x=false_positive_rate,y=true_positive_rate,label='AUC = %0.2f'% roc_auc)\n",
        "plt.plot([0,1],[0,1],'r--')\n",
        "plt.ylabel('True Positive Rate')\n",
        "plt.xlabel('False Positive Rate')"
      ],
      "execution_count": 72,
      "outputs": [
        {
          "output_type": "execute_result",
          "data": {
            "text/plain": [
              "Text(0.5, 0, 'False Positive Rate')"
            ]
          },
          "metadata": {
            "tags": []
          },
          "execution_count": 72
        },
        {
          "output_type": "display_data",
          "data": {
            "image/png": "[encoded data removed]",
            "text/plain": [
              "<Figure size 432x288 with 1 Axes>"
            ]
          },
          "metadata": {
            "tags": [],
            "needs_background": "light"
          }
        }
      ]
    },
    {
      "cell_type": "markdown",
      "metadata": {
        "id": "KWwAaRwhHxkj"
      },
      "source": [
        "# AdaBoostClassifier"
      ]
    },
    {
      "cell_type": "code",
      "metadata": {
        "id": "NUcdbZcmHxkj",
        "outputId": "d1547743-d361-4af6-da67-4824170a7e7e",
        "colab": {
          "base_uri": "https://localhost:8080/"
        }
      },
      "source": [
        "from sklearn.ensemble import AdaBoostClassifier\n",
        "ABC=AdaBoostClassifier()\n",
        "ABC.fit(x_train,y_train)\n",
        "pre=ABC.predict(x_test)\n",
        "ABC.score(x_test,y_test)"
      ],
      "execution_count": 73,
      "outputs": [
        {
          "output_type": "execute_result",
          "data": {
            "text/plain": [
              "0.874587118084228"
            ]
          },
          "metadata": {
            "tags": []
          },
          "execution_count": 73
        }
      ]
    },
    {
      "cell_type": "code",
      "metadata": {
        "id": "xe4R_4AKHxkn",
        "outputId": "b057af32-52ec-4c36-8ad7-d2b7504cd918",
        "colab": {
          "base_uri": "https://localhost:8080/"
        }
      },
      "source": [
        "score=cross_val_score(ABC,x,y,cv=10)\n",
        "score.mean()"
      ],
      "execution_count": 74,
      "outputs": [
        {
          "output_type": "execute_result",
          "data": {
            "text/plain": [
              "0.873210924350724"
            ]
          },
          "metadata": {
            "tags": []
          },
          "execution_count": 74
        }
      ]
    },
    {
      "cell_type": "code",
      "metadata": {
        "id": "NWLOSE1bHxks",
        "outputId": "5e270d81-41e1-4da5-bba2-5862aab0f1ac",
        "colab": {
          "base_uri": "https://localhost:8080/",
          "height": 0
        }
      },
      "source": [
        "cm=confusion_matrix(y_test,pre)\n",
        "sns.heatmap(cm,annot=True)\n",
        "print(cm)"
      ],
      "execution_count": 75,
      "outputs": [
        {
          "output_type": "stream",
          "text": [
            "[[ 1167  5502]\n",
            " [  573 41198]]\n"
          ],
          "name": "stdout"
        },
        {
          "output_type": "display_data",
          "data": {
            "image/png": "[encoded data removed]",
            "text/plain": [
              "<Figure size 432x288 with 2 Axes>"
            ]
          },
          "metadata": {
            "tags": [],
            "needs_background": "light"
          }
        }
      ]
    },
    {
      "cell_type": "code",
      "metadata": {
        "id": "r-jvDWg3Hxku",
        "outputId": "6cbdff49-04b5-4bdf-e339-a882c8bd927f",
        "colab": {
          "base_uri": "https://localhost:8080/"
        }
      },
      "source": [
        "false_positive_rate, true_positive_rate, thresholds = roc_curve(y_test,pre)\n",
        "roc_auc = auc(false_positive_rate, true_positive_rate)\n",
        "print (roc_auc)"
      ],
      "execution_count": 76,
      "outputs": [
        {
          "output_type": "stream",
          "text": [
            "0.5806355514671155\n"
          ],
          "name": "stdout"
        }
      ]
    },
    {
      "cell_type": "code",
      "metadata": {
        "id": "QCeyntuEHxkw",
        "outputId": "7da907e0-7016-4dc6-8d4d-a15417809c62",
        "colab": {
          "base_uri": "https://localhost:8080/",
          "height": 0
        }
      },
      "source": [
        "sns.lineplot(x=false_positive_rate,y=true_positive_rate,label='AUC = %0.2f'% roc_auc)\n",
        "plt.plot([0,1],[0,1],'r--')\n",
        "plt.ylabel('True Positive Rate')\n",
        "plt.xlabel('False Positive Rate')"
      ],
      "execution_count": 77,
      "outputs": [
        {
          "output_type": "execute_result",
          "data": {
            "text/plain": [
              "Text(0.5, 0, 'False Positive Rate')"
            ]
          },
          "metadata": {
            "tags": []
          },
          "execution_count": 77
        },
        {
          "output_type": "display_data",
          "data": {
            "image/png": "[encoded data removed]",
            "text/plain": [
              "<Figure size 432x288 with 1 Axes>"
            ]
          },
          "metadata": {
            "tags": [],
            "needs_background": "light"
          }
        }
      ]
    },
    {
      "cell_type": "markdown",
      "metadata": {
        "id": "XJiHaNCuHxkz"
      },
      "source": [
        "# BaggingClassifier"
      ]
    },
    {
      "cell_type": "code",
      "metadata": {
        "id": "eADv4HyOHxkz",
        "outputId": "4904a4ef-2c1e-4e08-c056-3ba1ffc400f9",
        "colab": {
          "base_uri": "https://localhost:8080/"
        }
      },
      "source": [
        "from sklearn.ensemble import BaggingClassifier\n",
        "BC=BaggingClassifier()\n",
        "BC.fit(x_train,y_train)\n",
        "pre=BC.predict(x_test)\n",
        "BC.score(x_test,y_test)"
      ],
      "execution_count": 78,
      "outputs": [
        {
          "output_type": "execute_result",
          "data": {
            "text/plain": [
              "0.8866019818331957"
            ]
          },
          "metadata": {
            "tags": []
          },
          "execution_count": 78
        }
      ]
    },
    {
      "cell_type": "code",
      "metadata": {
        "id": "aVEc_6XkHxk1",
        "outputId": "825e03d4-e795-4e5d-9df4-b186bfdf86f6",
        "colab": {
          "base_uri": "https://localhost:8080/"
        }
      },
      "source": [
        "score=cross_val_score(BC,x,y,cv=10)\n",
        "score.mean()"
      ],
      "execution_count": 79,
      "outputs": [
        {
          "output_type": "execute_result",
          "data": {
            "text/plain": [
              "0.8868237827900545"
            ]
          },
          "metadata": {
            "tags": []
          },
          "execution_count": 79
        }
      ]
    },
    {
      "cell_type": "code",
      "metadata": {
        "id": "_MDO_0X5Hxk5",
        "outputId": "a78ba059-2dd4-4481-c380-3f35284568ef",
        "colab": {
          "base_uri": "https://localhost:8080/",
          "height": 0
        }
      },
      "source": [
        "cm=confusion_matrix(y_test,pre)\n",
        "sns.heatmap(cm,annot=True)\n",
        "print(cm)"
      ],
      "execution_count": 80,
      "outputs": [
        {
          "output_type": "stream",
          "text": [
            "[[ 3224  3445]\n",
            " [ 2048 39723]]\n"
          ],
          "name": "stdout"
        },
        {
          "output_type": "display_data",
          "data": {
            "image/png": "[encoded data removed]",
            "text/plain": [
              "<Figure size 432x288 with 2 Axes>"
            ]
          },
          "metadata": {
            "tags": [],
            "needs_background": "light"
          }
        }
      ]
    },
    {
      "cell_type": "code",
      "metadata": {
        "id": "90XxeMp5Hxk7",
        "outputId": "9c66281b-16db-4931-e122-046d6a208538",
        "colab": {
          "base_uri": "https://localhost:8080/"
        }
      },
      "source": [
        "false_positive_rate, true_positive_rate, thresholds = roc_curve(y_test,pre)\n",
        "roc_auc = auc(false_positive_rate, true_positive_rate)\n",
        "print (roc_auc)"
      ],
      "execution_count": 81,
      "outputs": [
        {
          "output_type": "stream",
          "text": [
            "0.7172007842071056\n"
          ],
          "name": "stdout"
        }
      ]
    },
    {
      "cell_type": "code",
      "metadata": {
        "id": "IpOqUuDzHxk_",
        "outputId": "44eac1d6-d3b8-4fc0-a487-4c4fbffe8b28",
        "colab": {
          "base_uri": "https://localhost:8080/",
          "height": 0
        }
      },
      "source": [
        "sns.lineplot(x=false_positive_rate,y=true_positive_rate,label='AUC = %0.2f'% roc_auc)\n",
        "plt.plot([0,1],[0,1],'r--')\n",
        "plt.ylabel('True Positive Rate')\n",
        "plt.xlabel('False Positive Rate')\n"
      ],
      "execution_count": 82,
      "outputs": [
        {
          "output_type": "execute_result",
          "data": {
            "text/plain": [
              "Text(0.5, 0, 'False Positive Rate')"
            ]
          },
          "metadata": {
            "tags": []
          },
          "execution_count": 82
        },
        {
          "output_type": "display_data",
          "data": {
            "image/png": "[encoded data removed]",
            "text/plain": [
              "<Figure size 432x288 with 1 Axes>"
            ]
          },
          "metadata": {
            "tags": [],
            "needs_background": "light"
          }
        }
      ]
    },
    {
      "cell_type": "markdown",
      "metadata": {
        "id": "sira30GEHxlD"
      },
      "source": [
        "# XGBClassifier"
      ]
    },
    {
      "cell_type": "code",
      "metadata": {
        "id": "zDXsp4O9HxlE",
        "outputId": "68814e42-a3c0-4d60-a16b-165391001167",
        "colab": {
          "base_uri": "https://localhost:8080/"
        }
      },
      "source": [
        "from xgboost import XGBClassifier\n",
        "XX=XGBClassifier()\n",
        "XX.fit(x_train,y_train)\n",
        "pre=XX.predict(x_test)\n",
        "XX.score(x_test,y_test)"
      ],
      "execution_count": 83,
      "outputs": [
        {
          "output_type": "execute_result",
          "data": {
            "text/plain": [
              "0.8799752270850537"
            ]
          },
          "metadata": {
            "tags": []
          },
          "execution_count": 83
        }
      ]
    },
    {
      "cell_type": "code",
      "metadata": {
        "id": "68H1J2CeHxlG",
        "outputId": "2bcbf273-86d9-470b-b55e-66c919f31c71",
        "colab": {
          "base_uri": "https://localhost:8080/"
        }
      },
      "source": [
        "score=cross_val_score(XX,x,y,cv=10)\n",
        "score.mean()\n"
      ],
      "execution_count": 84,
      "outputs": [
        {
          "output_type": "execute_result",
          "data": {
            "text/plain": [
              "0.8792989258671401"
            ]
          },
          "metadata": {
            "tags": []
          },
          "execution_count": 84
        }
      ]
    },
    {
      "cell_type": "code",
      "metadata": {
        "id": "ViMoARy9HxlI",
        "outputId": "36b0e518-df53-43de-81bc-fb4274ca4d67",
        "colab": {
          "base_uri": "https://localhost:8080/",
          "height": 298
        }
      },
      "source": [
        "cm=confusion_matrix(y_test,pre)\n",
        "sns.heatmap(cm,annot=True)\n",
        "print(cm)"
      ],
      "execution_count": 85,
      "outputs": [
        {
          "output_type": "stream",
          "text": [
            "[[ 1543  5126]\n",
            " [  688 41083]]\n"
          ],
          "name": "stdout"
        },
        {
          "output_type": "display_data",
          "data": {
            "image/png": "[encoded data removed]",
            "text/plain": [
              "<Figure size 432x288 with 2 Axes>"
            ]
          },
          "metadata": {
            "tags": [],
            "needs_background": "light"
          }
        }
      ]
    },
    {
      "cell_type": "code",
      "metadata": {
        "id": "coZbVNppHxlK",
        "outputId": "6ff32fca-c034-4f63-9d2a-c8d894690b03",
        "colab": {
          "base_uri": "https://localhost:8080/"
        }
      },
      "source": [
        "false_positive_rate, true_positive_rate, thresholds = roc_curve(y_test,pre)\n",
        "roc_auc = auc(false_positive_rate, true_positive_rate)\n",
        "print (roc_auc)"
      ],
      "execution_count": 86,
      "outputs": [
        {
          "output_type": "stream",
          "text": [
            "0.6074491318093969\n"
          ],
          "name": "stdout"
        }
      ]
    },
    {
      "cell_type": "code",
      "metadata": {
        "id": "4TBK_LjJHxlN",
        "outputId": "47b9eca9-e375-4812-f2ff-d4a568b99eef",
        "colab": {
          "base_uri": "https://localhost:8080/",
          "height": 296
        }
      },
      "source": [
        "sns.lineplot(x=false_positive_rate,y=true_positive_rate,label='AUC = %0.2f'% roc_auc)\n",
        "plt.plot([0,1],[0,1],'r--')\n",
        "plt.ylabel('True Positive Rate')\n",
        "plt.xlabel('False Positive Rate')"
      ],
      "execution_count": 87,
      "outputs": [
        {
          "output_type": "execute_result",
          "data": {
            "text/plain": [
              "Text(0.5, 0, 'False Positive Rate')"
            ]
          },
          "metadata": {
            "tags": []
          },
          "execution_count": 87
        },
        {
          "output_type": "display_data",
          "data": {
            "image/png": "[encoded data removed]",
            "text/plain": [
              "<Figure size 432x288 with 1 Axes>"
            ]
          },
          "metadata": {
            "tags": [],
            "needs_background": "light"
          }
        }
      ]
    },
    {
      "cell_type": "markdown",
      "metadata": {
        "id": "VzmfpUHP-uqt"
      },
      "source": [
        "I choose RandomForestClassifier as my final model because it give good accuracy_score."
      ]
    },
    {
      "cell_type": "code",
      "metadata": {
        "id": "bN9z8JhM_LAa"
      },
      "source": [
        ""
      ],
      "execution_count": 87,
      "outputs": []
    }
  ]
}