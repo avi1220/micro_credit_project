{
  "nbformat": 4,
  "nbformat_minor": 0,
  "metadata": {
    "kernelspec": {
      "display_name": "Python 3",
      "language": "python",
      "name": "python3"
    },
    "language_info": {
      "codemirror_mode": {
        "name": "ipython",
        "version": 3
      },
      "file_extension": ".py",
      "mimetype": "text/x-python",
      "name": "python",
      "nbconvert_exporter": "python",
      "pygments_lexer": "ipython3",
      "version": "3.7.4"
    },
    "colab": {
      "name": "micro-credit.ipynb",
      "provenance": []
    }
  },
  "cells": [
    {
      "cell_type": "code",
      "metadata": {
        "id": "UISUjZa9sqwN"
      },
      "source": [
        "import numpy as np\n",
        "import pandas as pd\n",
        "import warnings \n",
        "warnings.filterwarnings('ignore')\n",
        "import seaborn as sns\n",
        "import matplotlib.pyplot as plt\n",
        "from sklearn.metrics import roc_auc_score, roc_curve, confusion_matrix,accuracy_score, classification_report,f1_score"
      ],
      "execution_count": 73,
      "outputs": []
    },
    {
      "cell_type": "code",
      "metadata": {
        "id": "fTkTO3yMsqwb",
        "outputId": "26899055-7e32-4777-f189-6a4b40643dc8",
        "colab": {
          "base_uri": "https://localhost:8080/",
          "height": 316
        }
      },
      "source": [
        "df=pd.read_csv(\"/content/drive/My Drive/Dataset/micro credit/Data file.csv\")\n",
        "df.head()"
      ],
      "execution_count": 4,
      "outputs": [
        {
          "output_type": "execute_result",
          "data": {
            "text/html": [
              "<div>\n",
              "<style scoped>\n",
              "    .dataframe tbody tr th:only-of-type {\n",
              "        vertical-align: middle;\n",
              "    }\n",
              "\n",
              "    .dataframe tbody tr th {\n",
              "        vertical-align: top;\n",
              "    }\n",
              "\n",
              "    .dataframe thead th {\n",
              "        text-align: right;\n",
              "    }\n",
              "</style>\n",
              "<table border=\"1\" class=\"dataframe\">\n",
              "  <thead>\n",
              "    <tr style=\"text-align: right;\">\n",
              "      <th></th>\n",
              "      <th>Unnamed: 0</th>\n",
              "      <th>label</th>\n",
              "      <th>msisdn</th>\n",
              "      <th>aon</th>\n",
              "      <th>daily_decr30</th>\n",
              "      <th>daily_decr90</th>\n",
              "      <th>rental30</th>\n",
              "      <th>rental90</th>\n",
              "      <th>last_rech_date_ma</th>\n",
              "      <th>last_rech_date_da</th>\n",
              "      <th>last_rech_amt_ma</th>\n",
              "      <th>cnt_ma_rech30</th>\n",
              "      <th>fr_ma_rech30</th>\n",
              "      <th>sumamnt_ma_rech30</th>\n",
              "      <th>medianamnt_ma_rech30</th>\n",
              "      <th>medianmarechprebal30</th>\n",
              "      <th>cnt_ma_rech90</th>\n",
              "      <th>fr_ma_rech90</th>\n",
              "      <th>sumamnt_ma_rech90</th>\n",
              "      <th>medianamnt_ma_rech90</th>\n",
              "      <th>medianmarechprebal90</th>\n",
              "      <th>cnt_da_rech30</th>\n",
              "      <th>fr_da_rech30</th>\n",
              "      <th>cnt_da_rech90</th>\n",
              "      <th>fr_da_rech90</th>\n",
              "      <th>cnt_loans30</th>\n",
              "      <th>amnt_loans30</th>\n",
              "      <th>maxamnt_loans30</th>\n",
              "      <th>medianamnt_loans30</th>\n",
              "      <th>cnt_loans90</th>\n",
              "      <th>amnt_loans90</th>\n",
              "      <th>maxamnt_loans90</th>\n",
              "      <th>medianamnt_loans90</th>\n",
              "      <th>payback30</th>\n",
              "      <th>payback90</th>\n",
              "      <th>pcircle</th>\n",
              "      <th>pdate</th>\n",
              "    </tr>\n",
              "  </thead>\n",
              "  <tbody>\n",
              "    <tr>\n",
              "      <th>0</th>\n",
              "      <td>1</td>\n",
              "      <td>0</td>\n",
              "      <td>21408I70789</td>\n",
              "      <td>272.0</td>\n",
              "      <td>3055.050000</td>\n",
              "      <td>3065.150000</td>\n",
              "      <td>220.13</td>\n",
              "      <td>260.13</td>\n",
              "      <td>2.0</td>\n",
              "      <td>0.0</td>\n",
              "      <td>1539</td>\n",
              "      <td>2</td>\n",
              "      <td>21.0</td>\n",
              "      <td>3078.0</td>\n",
              "      <td>1539.0</td>\n",
              "      <td>7.50</td>\n",
              "      <td>2</td>\n",
              "      <td>21</td>\n",
              "      <td>3078</td>\n",
              "      <td>1539.0</td>\n",
              "      <td>7.50</td>\n",
              "      <td>0.0</td>\n",
              "      <td>0.0</td>\n",
              "      <td>0</td>\n",
              "      <td>0</td>\n",
              "      <td>2</td>\n",
              "      <td>12</td>\n",
              "      <td>6.0</td>\n",
              "      <td>0.0</td>\n",
              "      <td>2.0</td>\n",
              "      <td>12</td>\n",
              "      <td>6</td>\n",
              "      <td>0.0</td>\n",
              "      <td>29.000000</td>\n",
              "      <td>29.000000</td>\n",
              "      <td>UPW</td>\n",
              "      <td>2016-07-20</td>\n",
              "    </tr>\n",
              "    <tr>\n",
              "      <th>1</th>\n",
              "      <td>2</td>\n",
              "      <td>1</td>\n",
              "      <td>76462I70374</td>\n",
              "      <td>712.0</td>\n",
              "      <td>12122.000000</td>\n",
              "      <td>12124.750000</td>\n",
              "      <td>3691.26</td>\n",
              "      <td>3691.26</td>\n",
              "      <td>20.0</td>\n",
              "      <td>0.0</td>\n",
              "      <td>5787</td>\n",
              "      <td>1</td>\n",
              "      <td>0.0</td>\n",
              "      <td>5787.0</td>\n",
              "      <td>5787.0</td>\n",
              "      <td>61.04</td>\n",
              "      <td>1</td>\n",
              "      <td>0</td>\n",
              "      <td>5787</td>\n",
              "      <td>5787.0</td>\n",
              "      <td>61.04</td>\n",
              "      <td>0.0</td>\n",
              "      <td>0.0</td>\n",
              "      <td>0</td>\n",
              "      <td>0</td>\n",
              "      <td>1</td>\n",
              "      <td>12</td>\n",
              "      <td>12.0</td>\n",
              "      <td>0.0</td>\n",
              "      <td>1.0</td>\n",
              "      <td>12</td>\n",
              "      <td>12</td>\n",
              "      <td>0.0</td>\n",
              "      <td>0.000000</td>\n",
              "      <td>0.000000</td>\n",
              "      <td>UPW</td>\n",
              "      <td>2016-08-10</td>\n",
              "    </tr>\n",
              "    <tr>\n",
              "      <th>2</th>\n",
              "      <td>3</td>\n",
              "      <td>1</td>\n",
              "      <td>17943I70372</td>\n",
              "      <td>535.0</td>\n",
              "      <td>1398.000000</td>\n",
              "      <td>1398.000000</td>\n",
              "      <td>900.13</td>\n",
              "      <td>900.13</td>\n",
              "      <td>3.0</td>\n",
              "      <td>0.0</td>\n",
              "      <td>1539</td>\n",
              "      <td>1</td>\n",
              "      <td>0.0</td>\n",
              "      <td>1539.0</td>\n",
              "      <td>1539.0</td>\n",
              "      <td>66.32</td>\n",
              "      <td>1</td>\n",
              "      <td>0</td>\n",
              "      <td>1539</td>\n",
              "      <td>1539.0</td>\n",
              "      <td>66.32</td>\n",
              "      <td>0.0</td>\n",
              "      <td>0.0</td>\n",
              "      <td>0</td>\n",
              "      <td>0</td>\n",
              "      <td>1</td>\n",
              "      <td>6</td>\n",
              "      <td>6.0</td>\n",
              "      <td>0.0</td>\n",
              "      <td>1.0</td>\n",
              "      <td>6</td>\n",
              "      <td>6</td>\n",
              "      <td>0.0</td>\n",
              "      <td>0.000000</td>\n",
              "      <td>0.000000</td>\n",
              "      <td>UPW</td>\n",
              "      <td>2016-08-19</td>\n",
              "    </tr>\n",
              "    <tr>\n",
              "      <th>3</th>\n",
              "      <td>4</td>\n",
              "      <td>1</td>\n",
              "      <td>55773I70781</td>\n",
              "      <td>241.0</td>\n",
              "      <td>21.228000</td>\n",
              "      <td>21.228000</td>\n",
              "      <td>159.42</td>\n",
              "      <td>159.42</td>\n",
              "      <td>41.0</td>\n",
              "      <td>0.0</td>\n",
              "      <td>947</td>\n",
              "      <td>0</td>\n",
              "      <td>0.0</td>\n",
              "      <td>0.0</td>\n",
              "      <td>0.0</td>\n",
              "      <td>0.00</td>\n",
              "      <td>1</td>\n",
              "      <td>0</td>\n",
              "      <td>947</td>\n",
              "      <td>947.0</td>\n",
              "      <td>2.50</td>\n",
              "      <td>0.0</td>\n",
              "      <td>0.0</td>\n",
              "      <td>0</td>\n",
              "      <td>0</td>\n",
              "      <td>2</td>\n",
              "      <td>12</td>\n",
              "      <td>6.0</td>\n",
              "      <td>0.0</td>\n",
              "      <td>2.0</td>\n",
              "      <td>12</td>\n",
              "      <td>6</td>\n",
              "      <td>0.0</td>\n",
              "      <td>0.000000</td>\n",
              "      <td>0.000000</td>\n",
              "      <td>UPW</td>\n",
              "      <td>2016-06-06</td>\n",
              "    </tr>\n",
              "    <tr>\n",
              "      <th>4</th>\n",
              "      <td>5</td>\n",
              "      <td>1</td>\n",
              "      <td>03813I82730</td>\n",
              "      <td>947.0</td>\n",
              "      <td>150.619333</td>\n",
              "      <td>150.619333</td>\n",
              "      <td>1098.90</td>\n",
              "      <td>1098.90</td>\n",
              "      <td>4.0</td>\n",
              "      <td>0.0</td>\n",
              "      <td>2309</td>\n",
              "      <td>7</td>\n",
              "      <td>2.0</td>\n",
              "      <td>20029.0</td>\n",
              "      <td>2309.0</td>\n",
              "      <td>29.00</td>\n",
              "      <td>8</td>\n",
              "      <td>2</td>\n",
              "      <td>23496</td>\n",
              "      <td>2888.0</td>\n",
              "      <td>35.00</td>\n",
              "      <td>0.0</td>\n",
              "      <td>0.0</td>\n",
              "      <td>0</td>\n",
              "      <td>0</td>\n",
              "      <td>7</td>\n",
              "      <td>42</td>\n",
              "      <td>6.0</td>\n",
              "      <td>0.0</td>\n",
              "      <td>7.0</td>\n",
              "      <td>42</td>\n",
              "      <td>6</td>\n",
              "      <td>0.0</td>\n",
              "      <td>2.333333</td>\n",
              "      <td>2.333333</td>\n",
              "      <td>UPW</td>\n",
              "      <td>2016-06-22</td>\n",
              "    </tr>\n",
              "  </tbody>\n",
              "</table>\n",
              "</div>"
            ],
            "text/plain": [
              "   Unnamed: 0  label       msisdn  ...  payback90  pcircle       pdate\n",
              "0           1      0  21408I70789  ...  29.000000      UPW  2016-07-20\n",
              "1           2      1  76462I70374  ...   0.000000      UPW  2016-08-10\n",
              "2           3      1  17943I70372  ...   0.000000      UPW  2016-08-19\n",
              "3           4      1  55773I70781  ...   0.000000      UPW  2016-06-06\n",
              "4           5      1  03813I82730  ...   2.333333      UPW  2016-06-22\n",
              "\n",
              "[5 rows x 37 columns]"
            ]
          },
          "metadata": {
            "tags": []
          },
          "execution_count": 4
        }
      ]
    },
    {
      "cell_type": "code",
      "metadata": {
        "id": "gEIJh1r6sqwn",
        "outputId": "cf3825e1-2483-4ef2-d1b1-b7e926a1ac80",
        "colab": {
          "base_uri": "https://localhost:8080/"
        }
      },
      "source": [
        "df.info()"
      ],
      "execution_count": 5,
      "outputs": [
        {
          "output_type": "stream",
          "text": [
            "<class 'pandas.core.frame.DataFrame'>\n",
            "RangeIndex: 209593 entries, 0 to 209592\n",
            "Data columns (total 37 columns):\n",
            " #   Column                Non-Null Count   Dtype  \n",
            "---  ------                --------------   -----  \n",
            " 0   Unnamed: 0            209593 non-null  int64  \n",
            " 1   label                 209593 non-null  int64  \n",
            " 2   msisdn                209593 non-null  object \n",
            " 3   aon                   209593 non-null  float64\n",
            " 4   daily_decr30          209593 non-null  float64\n",
            " 5   daily_decr90          209593 non-null  float64\n",
            " 6   rental30              209593 non-null  float64\n",
            " 7   rental90              209593 non-null  float64\n",
            " 8   last_rech_date_ma     209593 non-null  float64\n",
            " 9   last_rech_date_da     209593 non-null  float64\n",
            " 10  last_rech_amt_ma      209593 non-null  int64  \n",
            " 11  cnt_ma_rech30         209593 non-null  int64  \n",
            " 12  fr_ma_rech30          209593 non-null  float64\n",
            " 13  sumamnt_ma_rech30     209593 non-null  float64\n",
            " 14  medianamnt_ma_rech30  209593 non-null  float64\n",
            " 15  medianmarechprebal30  209593 non-null  float64\n",
            " 16  cnt_ma_rech90         209593 non-null  int64  \n",
            " 17  fr_ma_rech90          209593 non-null  int64  \n",
            " 18  sumamnt_ma_rech90     209593 non-null  int64  \n",
            " 19  medianamnt_ma_rech90  209593 non-null  float64\n",
            " 20  medianmarechprebal90  209593 non-null  float64\n",
            " 21  cnt_da_rech30         209593 non-null  float64\n",
            " 22  fr_da_rech30          209593 non-null  float64\n",
            " 23  cnt_da_rech90         209593 non-null  int64  \n",
            " 24  fr_da_rech90          209593 non-null  int64  \n",
            " 25  cnt_loans30           209593 non-null  int64  \n",
            " 26  amnt_loans30          209593 non-null  int64  \n",
            " 27  maxamnt_loans30       209593 non-null  float64\n",
            " 28  medianamnt_loans30    209593 non-null  float64\n",
            " 29  cnt_loans90           209593 non-null  float64\n",
            " 30  amnt_loans90          209593 non-null  int64  \n",
            " 31  maxamnt_loans90       209593 non-null  int64  \n",
            " 32  medianamnt_loans90    209593 non-null  float64\n",
            " 33  payback30             209593 non-null  float64\n",
            " 34  payback90             209593 non-null  float64\n",
            " 35  pcircle               209593 non-null  object \n",
            " 36  pdate                 209593 non-null  object \n",
            "dtypes: float64(21), int64(13), object(3)\n",
            "memory usage: 59.2+ MB\n"
          ],
          "name": "stdout"
        }
      ]
    },
    {
      "cell_type": "markdown",
      "metadata": {
        "id": "59-0uRZbtiFQ"
      },
      "source": [
        "EDA"
      ]
    },
    {
      "cell_type": "code",
      "metadata": {
        "id": "cTPnwlR2sqwx",
        "outputId": "d636aac4-dc22-495a-f3f7-0eee0e04a32b",
        "colab": {
          "base_uri": "https://localhost:8080/"
        }
      },
      "source": [
        "df['label'].value_counts()"
      ],
      "execution_count": 6,
      "outputs": [
        {
          "output_type": "execute_result",
          "data": {
            "text/plain": [
              "1    183431\n",
              "0     26162\n",
              "Name: label, dtype: int64"
            ]
          },
          "metadata": {
            "tags": []
          },
          "execution_count": 6
        }
      ]
    },
    {
      "cell_type": "code",
      "metadata": {
        "id": "6BNYBy08sqw7",
        "outputId": "1a3f2664-a5e7-41a4-ffa9-290caf9997ee",
        "colab": {
          "base_uri": "https://localhost:8080/",
          "height": 296
        }
      },
      "source": [
        "sns.countplot(df['label'])"
      ],
      "execution_count": 7,
      "outputs": [
        {
          "output_type": "execute_result",
          "data": {
            "text/plain": [
              "<matplotlib.axes._subplots.AxesSubplot at 0x7f06ace62898>"
            ]
          },
          "metadata": {
            "tags": []
          },
          "execution_count": 7
        },
        {
          "output_type": "display_data",
          "data": {
            "image/png": "[encoded data removed]",
            "text/plain": [
              "<Figure size 432x288 with 1 Axes>"
            ]
          },
          "metadata": {
            "tags": [],
            "needs_background": "light"
          }
        }
      ]
    },
    {
      "cell_type": "code",
      "metadata": {
        "id": "oQgqVeMUsqxA"
      },
      "source": [
        "data = [df]\n",
        "for column in data:\n",
        "    column.loc[column[\"rental30\"] <= 0,  'balance_group'] = 'no balance'\n",
        "    column.loc[(column[\"rental30\"] > 0) & (column[\"rental30\"] <= 19766), 'balance_group'] = 'low balance'\n",
        "    column.loc[(column[\"rental30\"] > 19766) & (column[\"rental30\"] <= 118572), 'balance_group'] = 'average balance'\n",
        "    column.loc[(column[\"rental30\"] > 118572), 'balance_group'] = 'high balance'"
      ],
      "execution_count": 8,
      "outputs": []
    },
    {
      "cell_type": "code",
      "metadata": {
        "id": "NEVOUK8zsqxE"
      },
      "source": [
        "count_balance = pd.crosstab(df['label'],df['balance_group']).apply(lambda x: x/x.sum() * 100)\n",
        "count_balance = count_balance.transpose()\n"
      ],
      "execution_count": 9,
      "outputs": []
    },
    {
      "cell_type": "code",
      "metadata": {
        "id": "wG8x0QqMsqxK"
      },
      "source": [
        "balance = pd.DataFrame(df['balance_group'].value_counts())\n",
        "balance['% Subscription'] = count_balance[1]\n",
        "balance.drop('balance_group',axis = 1,inplace = True)\n",
        "\n",
        "balance['balance'] = [1,2,0,3]\n",
        "balance = balance.sort_values('balance',ascending = True)\n"
      ],
      "execution_count": 10,
      "outputs": []
    },
    {
      "cell_type": "code",
      "metadata": {
        "id": "vn4NljwZsqxQ",
        "outputId": "030902f6-33a8-463e-f064-5f68766946f3",
        "colab": {
          "base_uri": "https://localhost:8080/",
          "height": 404
        }
      },
      "source": [
        "plot_balance = balance['% Subscription'].plot(kind = 'bar',color = ('yellow'),figsize = (8,6))\n",
        "plt.title('Average main balance account vs loan pay back rate with in 5 days')\n",
        "plt.ylabel('Loan pay back rate with in 5 days')\n",
        "plt.xlabel('Balance Category (rental30)')\n",
        "plt.xticks(rotation = 'horizontal')\n",
        "\n",
        "# label the bar\n",
        "for rec, label in zip(plot_balance.patches,\n",
        "                      balance['% Subscription'].round(1).astype(str)):\n",
        "    plot_balance.text(rec.get_x() + rec.get_width()/2, rec.get_height() + 1,label+'%',ha ='center',color='black')\n",
        "    "
      ],
      "execution_count": 11,
      "outputs": [
        {
          "output_type": "display_data",
          "data": {
            "image/png": "[encoded data removed]",
            "text/plain": [
              "<Figure size 576x432 with 1 Axes>"
            ]
          },
          "metadata": {
            "tags": [],
            "needs_background": "light"
          }
        }
      ]
    },
    {
      "cell_type": "markdown",
      "metadata": {
        "id": "y2nwJfAPsqxY"
      },
      "source": [
        "From above bar plot we can observe that how customers with different main balance levels are paying back the loan with in five days. The high balance level people are with 100% rate i.e they are paying loan within 5 days. Coming to the average and low balance people it is observed that around 10%-12% of people are not paying the loan within 5 days.\n",
        "Coming to low balance level people, it is observed that around 30% of people are not paying back the loan with in 5 days of time. The 30% of people with no balance or negative balance people are creating a major loss to the company without paying back the loan within five days of time."
      ]
    },
    {
      "cell_type": "code",
      "metadata": {
        "id": "Ak8XZWJDsqxZ"
      },
      "source": [
        "data = [df]\n",
        "for column in data:\n",
        "    column.loc[column[\"fr_ma_rech30\"] <=0,  'frequency_group'] = 'no frequency'\n",
        "    column.loc[(column['fr_ma_rech30'] > 0) & (column['fr_ma_rech30'] <=1 ), 'frequency_group'] = 'low frequency'\n",
        "    column.loc[(column['fr_ma_rech30'] >1) & (column['fr_ma_rech30'] <=2), 'frequency_group'] = 'medium frequency'\n",
        "    column.loc[(column['fr_ma_rech30'] >2), 'frequency_group'] = 'high frequency'"
      ],
      "execution_count": 12,
      "outputs": []
    },
    {
      "cell_type": "code",
      "metadata": {
        "id": "DwgkGC16sqxh"
      },
      "source": [
        "count_fre = pd.crosstab(df['label'],df['frequency_group']).apply(lambda x: x/x.sum() * 100)\n",
        "count_fre = count_fre.transpose()"
      ],
      "execution_count": 13,
      "outputs": []
    },
    {
      "cell_type": "code",
      "metadata": {
        "id": "WvcA044xsqxn"
      },
      "source": [
        "fre = pd.DataFrame(df['frequency_group'].value_counts())\n",
        "fre['% Subscription'] = count_fre[1]\n",
        "fre.drop('frequency_group',axis = 1,inplace = True)\n",
        "\n",
        "fre['fre'] = [1,2,0,3]\n",
        "fre= fre.sort_values('fre',ascending = True)\n"
      ],
      "execution_count": 14,
      "outputs": []
    },
    {
      "cell_type": "code",
      "metadata": {
        "id": "RtyVuJthsqxu",
        "outputId": "32c0bb49-3889-447b-b825-a7db35ef0d80",
        "colab": {
          "base_uri": "https://localhost:8080/",
          "height": 405
        }
      },
      "source": [
        "plot_fre = fre['% Subscription'].plot(kind = 'bar',color = ('red'),figsize = (8,6))\n",
        "\n",
        "plt.title('Frequency of main account recharged in last 30 days vs loan pay back rate with in 5 days')\n",
        "plt.ylabel('Loan pay back rate with in 5 days')\n",
        "plt.xlabel('Frequency Category (fr_ma_rech30)')\n",
        "plt.xticks(rotation = 'horizontal')\n",
        "\n",
        "# label the bar\n",
        "for rec, label in zip(plot_fre.patches,\n",
        "                      fre['% Subscription'].round(1).astype(str)):\n",
        "    plot_fre.text(rec.get_x() + rec.get_width()/2, rec.get_height() + 1, label+'%',  ha = 'center',color = 'black')"
      ],
      "execution_count": 15,
      "outputs": [
        {
          "output_type": "display_data",
          "data": {
            "image/png": "[encoded data removed]",
            "text/plain": [
              "<Figure size 576x432 with 1 Axes>"
            ]
          },
          "metadata": {
            "tags": [],
            "needs_background": "light"
          }
        }
      ]
    },
    {
      "cell_type": "markdown",
      "metadata": {
        "id": "bdei1QvHsqx2"
      },
      "source": [
        "From above bar plot we can observe that how customers with different frequency levels (main account recharge) are paying back the loan within five days. The is no 100% rate in any of the frequency levels to pay back the loan within 5 days. Coming to the average and low & medium frequency people it is observed that around 5%-6% of people are not paying the loan within 5 days.\n",
        "Coming to low frequency level people, it is observed that around 25% of people are not paying back the loan with in stipulated 5 days of time. The 25% people who are not getting their main account recharge for 30 days creating a major loss to the company without paying back the loan within five days of time."
      ]
    },
    {
      "cell_type": "code",
      "metadata": {
        "id": "UYYuTIrIsqx4"
      },
      "source": [
        "dat = [df]\n",
        "for column in data:\n",
        "    column.loc[column[\"cnt_loans30\"] <=0,  'loan_frequency_group'] = 'no loans'\n",
        "    column.loc[(column['cnt_loans30'] > 0) & (column['cnt_loans30'] <=1 ), 'loan_frequency_group'] = 'low num of loans'\n",
        "    column.loc[(column['cnt_loans30'] >1) & (column['cnt_loans30'] <=4), 'loan_frequency_group'] = 'medium num of loans'\n",
        "    column.loc[(column['cnt_loans30'] >4), 'loan_frequency_group'] = 'high num of loans'"
      ],
      "execution_count": 16,
      "outputs": []
    },
    {
      "cell_type": "code",
      "metadata": {
        "id": "Kw8BfRdSsqx-"
      },
      "source": [
        "count_loan = pd.crosstab(df['label'],df['loan_frequency_group']).apply(lambda x: x/x.sum() * 100)\n",
        "count_loan= count_loan.transpose()"
      ],
      "execution_count": 17,
      "outputs": []
    },
    {
      "cell_type": "code",
      "metadata": {
        "id": "W-TIg7tjsqyE"
      },
      "source": [
        "fre = pd.DataFrame(df['loan_frequency_group'].value_counts())\n",
        "fre['% Subscription'] = count_loan[1]\n",
        "fre.drop('loan_frequency_group',axis = 1,inplace = True)\n",
        "\n",
        "fre['fre'] = [1,2,0,3]\n",
        "fre= fre.sort_values('fre',ascending = True)"
      ],
      "execution_count": 18,
      "outputs": []
    },
    {
      "cell_type": "code",
      "metadata": {
        "id": "FO6Yi2X2sqyH",
        "outputId": "e4d60c8c-e7b9-403a-e41b-7dc92e3b2537",
        "colab": {
          "base_uri": "https://localhost:8080/",
          "height": 404
        }
      },
      "source": [
        "plot_fre = fre['% Subscription'].plot(kind = 'barh', color = ('blue'), figsize = (8,6))\n",
        "                                              \n",
        "plt.title('Number of loans taken by user in last 30 days vs loan pay back rate with in 5 days')\n",
        "plt.ylabel('Number of loans (cnt_loans30)')\n",
        "plt.xlabel('Loan pay back rate with in 5 days')\n",
        "plt.xticks(rotation = 'horizontal')\n",
        "\n",
        "# label the bar\n",
        "for rec, label in zip(plot_fre.patches,\n",
        "                      fre['% Subscription'].round(1).sort_values(ascending = True).round(1).astype(str)):\n",
        "    plot_fre.text(rec.get_width()+5,rec.get_y()+ rec.get_height()-0.3,label+'%',ha = 'center',va='bottom') \n",
        "    "
      ],
      "execution_count": 19,
      "outputs": [
        {
          "output_type": "display_data",
          "data": {
            "image/png": "[encoded data removed]",
            "text/plain": [
              "<Figure size 576x432 with 1 Axes>"
            ]
          },
          "metadata": {
            "tags": [],
            "needs_background": "light"
          }
        }
      ]
    },
    {
      "cell_type": "markdown",
      "metadata": {
        "id": "ZtSiDuuRsqyK"
      },
      "source": [
        "From above bar plot we can observe that how customers with different loans levels taken are paying back the loan within five days. In the data set people not taken loans are labelled as ‘1’. So we should not consider the people with no loans labelled in the above graph.Considering the remaining levels, there is no 100% rate in any of the loan levels to pay back the loan within 5 days. Coming to the high number of loan level people it is observed that around 25% of people are not paying the loan within 5 days. Only 2% of the people from low number of loans category are not paying the loan within 5 days. This is followed by the people with medium number of loans having defaulters of 7% approximately."
      ]
    },
    {
      "cell_type": "code",
      "metadata": {
        "id": "BWM1Z36QsqyL"
      },
      "source": [
        "data = [df]\n",
        "for column in data:\n",
        "    column.loc[column[\"amnt_loans30\"] <=0,  'loanamnt_frequency_group'] = 'no loans'\n",
        "    column.loc[(column['amnt_loans30'] > 0) & (column['amnt_loans30'] <=6 ), 'loanamnt_frequency_group'] = 'low amnt of loans'\n",
        "    column.loc[(column['amnt_loans30'] >6) & (column['amnt_loans30'] <=24), 'loanamnt_frequency_group'] = 'medium amnt of loans'\n",
        "    column.loc[(column['amnt_loans30'] >24), 'loanamnt_frequency_group'] = 'high amnt of loans'"
      ],
      "execution_count": 20,
      "outputs": []
    },
    {
      "cell_type": "code",
      "metadata": {
        "id": "x15pEPszsqyQ"
      },
      "source": [
        "count_loanamnt = pd.crosstab(df['label'],df['loanamnt_frequency_group']).apply(lambda x: x/x.sum() * 100)\n",
        "count_loanamnt = count_loanamnt.transpose()"
      ],
      "execution_count": 21,
      "outputs": []
    },
    {
      "cell_type": "code",
      "metadata": {
        "id": "Fvxdq85ZsqyY"
      },
      "source": [
        "fre= pd.DataFrame(df['loanamnt_frequency_group'].value_counts())\n",
        "fre['% Subscription'] = count_loanamnt[1]\n",
        "fre.drop('loanamnt_frequency_group',axis = 1,inplace = True)\n",
        "\n",
        "fre['fre'] = [1,2,0,3]\n",
        "fre= fre.sort_values('fre',ascending = True)"
      ],
      "execution_count": 22,
      "outputs": []
    },
    {
      "cell_type": "code",
      "metadata": {
        "id": "sht0fMIbsqyd",
        "outputId": "95712abc-4fdb-48d8-cebc-3b3b5e24c79b",
        "colab": {
          "base_uri": "https://localhost:8080/",
          "height": 405
        }
      },
      "source": [
        "plot_fre = fre['% Subscription'].plot(kind = 'bar',color = ('grey'), figsize = (8,6))\n",
        "                                               \n",
        "plt.title('Total amount of loans taken by user in last 30 days vs loan pay back rate with in 5 days')\n",
        "plt.ylabel('Loan pay back rate with in 5 days')\n",
        "plt.xlabel('Total amount of loans (amnt_loans30)')\n",
        "plt.xticks(rotation = 'horizontal')\n",
        "\n",
        "# label the bar\n",
        "for rec, label in zip(plot_fre.patches,\n",
        "                      fre['% Subscription'].round(1).astype(str)):\n",
        "    plot_fre.text(rec.get_x() + rec.get_width()/2,rec.get_height() + 1,label+'%',ha = 'center', color = 'black') \n",
        "                                         "
      ],
      "execution_count": 23,
      "outputs": [
        {
          "output_type": "display_data",
          "data": {
            "image/png": "[encoded data removed]",
            "text/plain": [
              "<Figure size 576x432 with 1 Axes>"
            ]
          },
          "metadata": {
            "tags": [],
            "needs_background": "light"
          }
        }
      ]
    },
    {
      "cell_type": "code",
      "metadata": {
        "id": "Xl2lab0Esqyo",
        "outputId": "f6493845-b97e-4d29-a954-07f0c5b099ca",
        "colab": {
          "base_uri": "https://localhost:8080/"
        }
      },
      "source": [
        "df['pcircle'].unique()"
      ],
      "execution_count": 24,
      "outputs": [
        {
          "output_type": "execute_result",
          "data": {
            "text/plain": [
              "array(['UPW'], dtype=object)"
            ]
          },
          "metadata": {
            "tags": []
          },
          "execution_count": 24
        }
      ]
    },
    {
      "cell_type": "code",
      "metadata": {
        "id": "lXwTgrBnsqyy",
        "outputId": "f3a55153-5fee-4730-b42a-054b44310164",
        "colab": {
          "base_uri": "https://localhost:8080/",
          "height": 215
        }
      },
      "source": [
        "# As 'Unnamed: 0','msisdn', 'pcircle', 'pdate' features are not having much importance, we can ignore them. \n",
        "# And also removing the extra columns created for the visualization part\n",
        "\n",
        "df.drop(['Unnamed: 0','msisdn', 'pcircle', 'pdate','balance_group','frequency_group','loan_frequency_group','loanamnt_frequency_group'],axis=1,inplace=True)\n",
        "df.head()"
      ],
      "execution_count": 25,
      "outputs": [
        {
          "output_type": "execute_result",
          "data": {
            "text/html": [
              "<div>\n",
              "<style scoped>\n",
              "    .dataframe tbody tr th:only-of-type {\n",
              "        vertical-align: middle;\n",
              "    }\n",
              "\n",
              "    .dataframe tbody tr th {\n",
              "        vertical-align: top;\n",
              "    }\n",
              "\n",
              "    .dataframe thead th {\n",
              "        text-align: right;\n",
              "    }\n",
              "</style>\n",
              "<table border=\"1\" class=\"dataframe\">\n",
              "  <thead>\n",
              "    <tr style=\"text-align: right;\">\n",
              "      <th></th>\n",
              "      <th>label</th>\n",
              "      <th>aon</th>\n",
              "      <th>daily_decr30</th>\n",
              "      <th>daily_decr90</th>\n",
              "      <th>rental30</th>\n",
              "      <th>rental90</th>\n",
              "      <th>last_rech_date_ma</th>\n",
              "      <th>last_rech_date_da</th>\n",
              "      <th>last_rech_amt_ma</th>\n",
              "      <th>cnt_ma_rech30</th>\n",
              "      <th>fr_ma_rech30</th>\n",
              "      <th>sumamnt_ma_rech30</th>\n",
              "      <th>medianamnt_ma_rech30</th>\n",
              "      <th>medianmarechprebal30</th>\n",
              "      <th>cnt_ma_rech90</th>\n",
              "      <th>fr_ma_rech90</th>\n",
              "      <th>sumamnt_ma_rech90</th>\n",
              "      <th>medianamnt_ma_rech90</th>\n",
              "      <th>medianmarechprebal90</th>\n",
              "      <th>cnt_da_rech30</th>\n",
              "      <th>fr_da_rech30</th>\n",
              "      <th>cnt_da_rech90</th>\n",
              "      <th>fr_da_rech90</th>\n",
              "      <th>cnt_loans30</th>\n",
              "      <th>amnt_loans30</th>\n",
              "      <th>maxamnt_loans30</th>\n",
              "      <th>medianamnt_loans30</th>\n",
              "      <th>cnt_loans90</th>\n",
              "      <th>amnt_loans90</th>\n",
              "      <th>maxamnt_loans90</th>\n",
              "      <th>medianamnt_loans90</th>\n",
              "      <th>payback30</th>\n",
              "      <th>payback90</th>\n",
              "    </tr>\n",
              "  </thead>\n",
              "  <tbody>\n",
              "    <tr>\n",
              "      <th>0</th>\n",
              "      <td>0</td>\n",
              "      <td>272.0</td>\n",
              "      <td>3055.050000</td>\n",
              "      <td>3065.150000</td>\n",
              "      <td>220.13</td>\n",
              "      <td>260.13</td>\n",
              "      <td>2.0</td>\n",
              "      <td>0.0</td>\n",
              "      <td>1539</td>\n",
              "      <td>2</td>\n",
              "      <td>21.0</td>\n",
              "      <td>3078.0</td>\n",
              "      <td>1539.0</td>\n",
              "      <td>7.50</td>\n",
              "      <td>2</td>\n",
              "      <td>21</td>\n",
              "      <td>3078</td>\n",
              "      <td>1539.0</td>\n",
              "      <td>7.50</td>\n",
              "      <td>0.0</td>\n",
              "      <td>0.0</td>\n",
              "      <td>0</td>\n",
              "      <td>0</td>\n",
              "      <td>2</td>\n",
              "      <td>12</td>\n",
              "      <td>6.0</td>\n",
              "      <td>0.0</td>\n",
              "      <td>2.0</td>\n",
              "      <td>12</td>\n",
              "      <td>6</td>\n",
              "      <td>0.0</td>\n",
              "      <td>29.000000</td>\n",
              "      <td>29.000000</td>\n",
              "    </tr>\n",
              "    <tr>\n",
              "      <th>1</th>\n",
              "      <td>1</td>\n",
              "      <td>712.0</td>\n",
              "      <td>12122.000000</td>\n",
              "      <td>12124.750000</td>\n",
              "      <td>3691.26</td>\n",
              "      <td>3691.26</td>\n",
              "      <td>20.0</td>\n",
              "      <td>0.0</td>\n",
              "      <td>5787</td>\n",
              "      <td>1</td>\n",
              "      <td>0.0</td>\n",
              "      <td>5787.0</td>\n",
              "      <td>5787.0</td>\n",
              "      <td>61.04</td>\n",
              "      <td>1</td>\n",
              "      <td>0</td>\n",
              "      <td>5787</td>\n",
              "      <td>5787.0</td>\n",
              "      <td>61.04</td>\n",
              "      <td>0.0</td>\n",
              "      <td>0.0</td>\n",
              "      <td>0</td>\n",
              "      <td>0</td>\n",
              "      <td>1</td>\n",
              "      <td>12</td>\n",
              "      <td>12.0</td>\n",
              "      <td>0.0</td>\n",
              "      <td>1.0</td>\n",
              "      <td>12</td>\n",
              "      <td>12</td>\n",
              "      <td>0.0</td>\n",
              "      <td>0.000000</td>\n",
              "      <td>0.000000</td>\n",
              "    </tr>\n",
              "    <tr>\n",
              "      <th>2</th>\n",
              "      <td>1</td>\n",
              "      <td>535.0</td>\n",
              "      <td>1398.000000</td>\n",
              "      <td>1398.000000</td>\n",
              "      <td>900.13</td>\n",
              "      <td>900.13</td>\n",
              "      <td>3.0</td>\n",
              "      <td>0.0</td>\n",
              "      <td>1539</td>\n",
              "      <td>1</td>\n",
              "      <td>0.0</td>\n",
              "      <td>1539.0</td>\n",
              "      <td>1539.0</td>\n",
              "      <td>66.32</td>\n",
              "      <td>1</td>\n",
              "      <td>0</td>\n",
              "      <td>1539</td>\n",
              "      <td>1539.0</td>\n",
              "      <td>66.32</td>\n",
              "      <td>0.0</td>\n",
              "      <td>0.0</td>\n",
              "      <td>0</td>\n",
              "      <td>0</td>\n",
              "      <td>1</td>\n",
              "      <td>6</td>\n",
              "      <td>6.0</td>\n",
              "      <td>0.0</td>\n",
              "      <td>1.0</td>\n",
              "      <td>6</td>\n",
              "      <td>6</td>\n",
              "      <td>0.0</td>\n",
              "      <td>0.000000</td>\n",
              "      <td>0.000000</td>\n",
              "    </tr>\n",
              "    <tr>\n",
              "      <th>3</th>\n",
              "      <td>1</td>\n",
              "      <td>241.0</td>\n",
              "      <td>21.228000</td>\n",
              "      <td>21.228000</td>\n",
              "      <td>159.42</td>\n",
              "      <td>159.42</td>\n",
              "      <td>41.0</td>\n",
              "      <td>0.0</td>\n",
              "      <td>947</td>\n",
              "      <td>0</td>\n",
              "      <td>0.0</td>\n",
              "      <td>0.0</td>\n",
              "      <td>0.0</td>\n",
              "      <td>0.00</td>\n",
              "      <td>1</td>\n",
              "      <td>0</td>\n",
              "      <td>947</td>\n",
              "      <td>947.0</td>\n",
              "      <td>2.50</td>\n",
              "      <td>0.0</td>\n",
              "      <td>0.0</td>\n",
              "      <td>0</td>\n",
              "      <td>0</td>\n",
              "      <td>2</td>\n",
              "      <td>12</td>\n",
              "      <td>6.0</td>\n",
              "      <td>0.0</td>\n",
              "      <td>2.0</td>\n",
              "      <td>12</td>\n",
              "      <td>6</td>\n",
              "      <td>0.0</td>\n",
              "      <td>0.000000</td>\n",
              "      <td>0.000000</td>\n",
              "    </tr>\n",
              "    <tr>\n",
              "      <th>4</th>\n",
              "      <td>1</td>\n",
              "      <td>947.0</td>\n",
              "      <td>150.619333</td>\n",
              "      <td>150.619333</td>\n",
              "      <td>1098.90</td>\n",
              "      <td>1098.90</td>\n",
              "      <td>4.0</td>\n",
              "      <td>0.0</td>\n",
              "      <td>2309</td>\n",
              "      <td>7</td>\n",
              "      <td>2.0</td>\n",
              "      <td>20029.0</td>\n",
              "      <td>2309.0</td>\n",
              "      <td>29.00</td>\n",
              "      <td>8</td>\n",
              "      <td>2</td>\n",
              "      <td>23496</td>\n",
              "      <td>2888.0</td>\n",
              "      <td>35.00</td>\n",
              "      <td>0.0</td>\n",
              "      <td>0.0</td>\n",
              "      <td>0</td>\n",
              "      <td>0</td>\n",
              "      <td>7</td>\n",
              "      <td>42</td>\n",
              "      <td>6.0</td>\n",
              "      <td>0.0</td>\n",
              "      <td>7.0</td>\n",
              "      <td>42</td>\n",
              "      <td>6</td>\n",
              "      <td>0.0</td>\n",
              "      <td>2.333333</td>\n",
              "      <td>2.333333</td>\n",
              "    </tr>\n",
              "  </tbody>\n",
              "</table>\n",
              "</div>"
            ],
            "text/plain": [
              "   label    aon  daily_decr30  ...  medianamnt_loans90  payback30  payback90\n",
              "0      0  272.0   3055.050000  ...                 0.0  29.000000  29.000000\n",
              "1      1  712.0  12122.000000  ...                 0.0   0.000000   0.000000\n",
              "2      1  535.0   1398.000000  ...                 0.0   0.000000   0.000000\n",
              "3      1  241.0     21.228000  ...                 0.0   0.000000   0.000000\n",
              "4      1  947.0    150.619333  ...                 0.0   2.333333   2.333333\n",
              "\n",
              "[5 rows x 33 columns]"
            ]
          },
          "metadata": {
            "tags": []
          },
          "execution_count": 25
        }
      ]
    },
    {
      "cell_type": "markdown",
      "metadata": {
        "id": "gfS5b8Ttsqy8"
      },
      "source": [
        "# Check for the correlation with the dependent variable 'Label"
      ]
    },
    {
      "cell_type": "code",
      "metadata": {
        "id": "C6u78Zrzsqy9",
        "outputId": "0f56f465-ce49-4487-d5ff-fcb53ced12f5",
        "colab": {
          "base_uri": "https://localhost:8080/",
          "height": 1000
        }
      },
      "source": [
        "corr_data = df\n",
        "corr = corr_data.corr()\n",
        "corr"
      ],
      "execution_count": 26,
      "outputs": [
        {
          "output_type": "execute_result",
          "data": {
            "text/html": [
              "<div>\n",
              "<style scoped>\n",
              "    .dataframe tbody tr th:only-of-type {\n",
              "        vertical-align: middle;\n",
              "    }\n",
              "\n",
              "    .dataframe tbody tr th {\n",
              "        vertical-align: top;\n",
              "    }\n",
              "\n",
              "    .dataframe thead th {\n",
              "        text-align: right;\n",
              "    }\n",
              "</style>\n",
              "<table border=\"1\" class=\"dataframe\">\n",
              "  <thead>\n",
              "    <tr style=\"text-align: right;\">\n",
              "      <th></th>\n",
              "      <th>label</th>\n",
              "      <th>aon</th>\n",
              "      <th>daily_decr30</th>\n",
              "      <th>daily_decr90</th>\n",
              "      <th>rental30</th>\n",
              "      <th>rental90</th>\n",
              "      <th>last_rech_date_ma</th>\n",
              "      <th>last_rech_date_da</th>\n",
              "      <th>last_rech_amt_ma</th>\n",
              "      <th>cnt_ma_rech30</th>\n",
              "      <th>fr_ma_rech30</th>\n",
              "      <th>sumamnt_ma_rech30</th>\n",
              "      <th>medianamnt_ma_rech30</th>\n",
              "      <th>medianmarechprebal30</th>\n",
              "      <th>cnt_ma_rech90</th>\n",
              "      <th>fr_ma_rech90</th>\n",
              "      <th>sumamnt_ma_rech90</th>\n",
              "      <th>medianamnt_ma_rech90</th>\n",
              "      <th>medianmarechprebal90</th>\n",
              "      <th>cnt_da_rech30</th>\n",
              "      <th>fr_da_rech30</th>\n",
              "      <th>cnt_da_rech90</th>\n",
              "      <th>fr_da_rech90</th>\n",
              "      <th>cnt_loans30</th>\n",
              "      <th>amnt_loans30</th>\n",
              "      <th>maxamnt_loans30</th>\n",
              "      <th>medianamnt_loans30</th>\n",
              "      <th>cnt_loans90</th>\n",
              "      <th>amnt_loans90</th>\n",
              "      <th>maxamnt_loans90</th>\n",
              "      <th>medianamnt_loans90</th>\n",
              "      <th>payback30</th>\n",
              "      <th>payback90</th>\n",
              "    </tr>\n",
              "  </thead>\n",
              "  <tbody>\n",
              "    <tr>\n",
              "      <th>label</th>\n",
              "      <td>1.000000</td>\n",
              "      <td>-0.003785</td>\n",
              "      <td>0.168298</td>\n",
              "      <td>0.166150</td>\n",
              "      <td>0.058085</td>\n",
              "      <td>0.075521</td>\n",
              "      <td>0.003728</td>\n",
              "      <td>0.001711</td>\n",
              "      <td>0.131804</td>\n",
              "      <td>0.237331</td>\n",
              "      <td>0.001330</td>\n",
              "      <td>0.202828</td>\n",
              "      <td>0.141490</td>\n",
              "      <td>-0.004829</td>\n",
              "      <td>0.236392</td>\n",
              "      <td>0.084385</td>\n",
              "      <td>0.205793</td>\n",
              "      <td>0.120855</td>\n",
              "      <td>0.039300</td>\n",
              "      <td>0.003827</td>\n",
              "      <td>-0.000027</td>\n",
              "      <td>0.002999</td>\n",
              "      <td>-0.005418</td>\n",
              "      <td>0.196283</td>\n",
              "      <td>0.197272</td>\n",
              "      <td>0.000248</td>\n",
              "      <td>0.044589</td>\n",
              "      <td>0.004733</td>\n",
              "      <td>0.199788</td>\n",
              "      <td>0.084144</td>\n",
              "      <td>0.035747</td>\n",
              "      <td>0.048336</td>\n",
              "      <td>0.049183</td>\n",
              "    </tr>\n",
              "    <tr>\n",
              "      <th>aon</th>\n",
              "      <td>-0.003785</td>\n",
              "      <td>1.000000</td>\n",
              "      <td>0.001104</td>\n",
              "      <td>0.000374</td>\n",
              "      <td>-0.000960</td>\n",
              "      <td>-0.000790</td>\n",
              "      <td>0.001692</td>\n",
              "      <td>-0.001693</td>\n",
              "      <td>0.004256</td>\n",
              "      <td>-0.003148</td>\n",
              "      <td>-0.001163</td>\n",
              "      <td>0.000707</td>\n",
              "      <td>0.004306</td>\n",
              "      <td>0.003930</td>\n",
              "      <td>-0.002725</td>\n",
              "      <td>0.004401</td>\n",
              "      <td>0.001011</td>\n",
              "      <td>0.004909</td>\n",
              "      <td>-0.000859</td>\n",
              "      <td>0.001564</td>\n",
              "      <td>0.000892</td>\n",
              "      <td>0.001121</td>\n",
              "      <td>0.005395</td>\n",
              "      <td>-0.001826</td>\n",
              "      <td>-0.001726</td>\n",
              "      <td>-0.002764</td>\n",
              "      <td>0.004664</td>\n",
              "      <td>-0.000611</td>\n",
              "      <td>-0.002319</td>\n",
              "      <td>-0.001191</td>\n",
              "      <td>0.002771</td>\n",
              "      <td>0.001940</td>\n",
              "      <td>0.002203</td>\n",
              "    </tr>\n",
              "    <tr>\n",
              "      <th>daily_decr30</th>\n",
              "      <td>0.168298</td>\n",
              "      <td>0.001104</td>\n",
              "      <td>1.000000</td>\n",
              "      <td>0.977704</td>\n",
              "      <td>0.442066</td>\n",
              "      <td>0.458977</td>\n",
              "      <td>0.000487</td>\n",
              "      <td>-0.001636</td>\n",
              "      <td>0.275837</td>\n",
              "      <td>0.451385</td>\n",
              "      <td>-0.000577</td>\n",
              "      <td>0.636536</td>\n",
              "      <td>0.295356</td>\n",
              "      <td>-0.001153</td>\n",
              "      <td>0.587338</td>\n",
              "      <td>-0.078299</td>\n",
              "      <td>0.762981</td>\n",
              "      <td>0.257847</td>\n",
              "      <td>0.037495</td>\n",
              "      <td>0.000700</td>\n",
              "      <td>-0.001499</td>\n",
              "      <td>0.038814</td>\n",
              "      <td>0.020673</td>\n",
              "      <td>0.366116</td>\n",
              "      <td>0.471492</td>\n",
              "      <td>-0.000028</td>\n",
              "      <td>-0.011610</td>\n",
              "      <td>0.008962</td>\n",
              "      <td>0.563496</td>\n",
              "      <td>0.400199</td>\n",
              "      <td>-0.037305</td>\n",
              "      <td>0.026915</td>\n",
              "      <td>0.047175</td>\n",
              "    </tr>\n",
              "    <tr>\n",
              "      <th>daily_decr90</th>\n",
              "      <td>0.166150</td>\n",
              "      <td>0.000374</td>\n",
              "      <td>0.977704</td>\n",
              "      <td>1.000000</td>\n",
              "      <td>0.434685</td>\n",
              "      <td>0.471730</td>\n",
              "      <td>0.000908</td>\n",
              "      <td>-0.001886</td>\n",
              "      <td>0.264131</td>\n",
              "      <td>0.426707</td>\n",
              "      <td>-0.000343</td>\n",
              "      <td>0.603886</td>\n",
              "      <td>0.282960</td>\n",
              "      <td>-0.000746</td>\n",
              "      <td>0.593069</td>\n",
              "      <td>-0.079530</td>\n",
              "      <td>0.768817</td>\n",
              "      <td>0.250518</td>\n",
              "      <td>0.036382</td>\n",
              "      <td>0.000661</td>\n",
              "      <td>-0.001570</td>\n",
              "      <td>0.031155</td>\n",
              "      <td>0.016437</td>\n",
              "      <td>0.340387</td>\n",
              "      <td>0.447869</td>\n",
              "      <td>0.000025</td>\n",
              "      <td>-0.005591</td>\n",
              "      <td>0.009446</td>\n",
              "      <td>0.567204</td>\n",
              "      <td>0.397251</td>\n",
              "      <td>-0.034686</td>\n",
              "      <td>0.019400</td>\n",
              "      <td>0.040800</td>\n",
              "    </tr>\n",
              "    <tr>\n",
              "      <th>rental30</th>\n",
              "      <td>0.058085</td>\n",
              "      <td>-0.000960</td>\n",
              "      <td>0.442066</td>\n",
              "      <td>0.434685</td>\n",
              "      <td>1.000000</td>\n",
              "      <td>0.955237</td>\n",
              "      <td>-0.001095</td>\n",
              "      <td>0.003261</td>\n",
              "      <td>0.127271</td>\n",
              "      <td>0.233343</td>\n",
              "      <td>-0.001219</td>\n",
              "      <td>0.272649</td>\n",
              "      <td>0.129853</td>\n",
              "      <td>-0.001415</td>\n",
              "      <td>0.312118</td>\n",
              "      <td>-0.033530</td>\n",
              "      <td>0.342306</td>\n",
              "      <td>0.110356</td>\n",
              "      <td>0.027170</td>\n",
              "      <td>-0.001105</td>\n",
              "      <td>-0.002558</td>\n",
              "      <td>0.072255</td>\n",
              "      <td>0.046761</td>\n",
              "      <td>0.180203</td>\n",
              "      <td>0.233453</td>\n",
              "      <td>-0.000864</td>\n",
              "      <td>-0.016482</td>\n",
              "      <td>0.004012</td>\n",
              "      <td>0.298943</td>\n",
              "      <td>0.234211</td>\n",
              "      <td>-0.035489</td>\n",
              "      <td>0.072974</td>\n",
              "      <td>0.095147</td>\n",
              "    </tr>\n",
              "    <tr>\n",
              "      <th>rental90</th>\n",
              "      <td>0.075521</td>\n",
              "      <td>-0.000790</td>\n",
              "      <td>0.458977</td>\n",
              "      <td>0.471730</td>\n",
              "      <td>0.955237</td>\n",
              "      <td>1.000000</td>\n",
              "      <td>-0.001688</td>\n",
              "      <td>0.002794</td>\n",
              "      <td>0.121416</td>\n",
              "      <td>0.230260</td>\n",
              "      <td>-0.000503</td>\n",
              "      <td>0.259709</td>\n",
              "      <td>0.120242</td>\n",
              "      <td>-0.001237</td>\n",
              "      <td>0.345293</td>\n",
              "      <td>-0.036524</td>\n",
              "      <td>0.360601</td>\n",
              "      <td>0.103151</td>\n",
              "      <td>0.029547</td>\n",
              "      <td>-0.000548</td>\n",
              "      <td>-0.002345</td>\n",
              "      <td>0.056282</td>\n",
              "      <td>0.036886</td>\n",
              "      <td>0.171595</td>\n",
              "      <td>0.231906</td>\n",
              "      <td>-0.001411</td>\n",
              "      <td>-0.009467</td>\n",
              "      <td>0.005141</td>\n",
              "      <td>0.327436</td>\n",
              "      <td>0.251029</td>\n",
              "      <td>-0.034122</td>\n",
              "      <td>0.067110</td>\n",
              "      <td>0.099501</td>\n",
              "    </tr>\n",
              "    <tr>\n",
              "      <th>last_rech_date_ma</th>\n",
              "      <td>0.003728</td>\n",
              "      <td>0.001692</td>\n",
              "      <td>0.000487</td>\n",
              "      <td>0.000908</td>\n",
              "      <td>-0.001095</td>\n",
              "      <td>-0.001688</td>\n",
              "      <td>1.000000</td>\n",
              "      <td>0.001790</td>\n",
              "      <td>-0.000147</td>\n",
              "      <td>0.004311</td>\n",
              "      <td>-0.001629</td>\n",
              "      <td>0.002105</td>\n",
              "      <td>-0.001358</td>\n",
              "      <td>0.004071</td>\n",
              "      <td>0.004263</td>\n",
              "      <td>0.001414</td>\n",
              "      <td>0.002243</td>\n",
              "      <td>-0.000726</td>\n",
              "      <td>-0.001086</td>\n",
              "      <td>-0.003467</td>\n",
              "      <td>-0.003626</td>\n",
              "      <td>-0.003538</td>\n",
              "      <td>-0.002395</td>\n",
              "      <td>0.001193</td>\n",
              "      <td>0.000903</td>\n",
              "      <td>0.000928</td>\n",
              "      <td>0.001835</td>\n",
              "      <td>-0.000225</td>\n",
              "      <td>0.000870</td>\n",
              "      <td>-0.001123</td>\n",
              "      <td>0.002771</td>\n",
              "      <td>-0.002233</td>\n",
              "      <td>-0.001583</td>\n",
              "    </tr>\n",
              "    <tr>\n",
              "      <th>last_rech_date_da</th>\n",
              "      <td>0.001711</td>\n",
              "      <td>-0.001693</td>\n",
              "      <td>-0.001636</td>\n",
              "      <td>-0.001886</td>\n",
              "      <td>0.003261</td>\n",
              "      <td>0.002794</td>\n",
              "      <td>0.001790</td>\n",
              "      <td>1.000000</td>\n",
              "      <td>-0.000149</td>\n",
              "      <td>0.001549</td>\n",
              "      <td>0.001158</td>\n",
              "      <td>0.000046</td>\n",
              "      <td>0.001037</td>\n",
              "      <td>0.002849</td>\n",
              "      <td>0.001272</td>\n",
              "      <td>0.000798</td>\n",
              "      <td>-0.000414</td>\n",
              "      <td>0.000219</td>\n",
              "      <td>0.004158</td>\n",
              "      <td>-0.003628</td>\n",
              "      <td>-0.000074</td>\n",
              "      <td>-0.001859</td>\n",
              "      <td>-0.000203</td>\n",
              "      <td>0.000380</td>\n",
              "      <td>0.000536</td>\n",
              "      <td>0.000503</td>\n",
              "      <td>0.000061</td>\n",
              "      <td>-0.000972</td>\n",
              "      <td>0.000519</td>\n",
              "      <td>0.001524</td>\n",
              "      <td>-0.002239</td>\n",
              "      <td>0.000077</td>\n",
              "      <td>0.000417</td>\n",
              "    </tr>\n",
              "    <tr>\n",
              "      <th>last_rech_amt_ma</th>\n",
              "      <td>0.131804</td>\n",
              "      <td>0.004256</td>\n",
              "      <td>0.275837</td>\n",
              "      <td>0.264131</td>\n",
              "      <td>0.127271</td>\n",
              "      <td>0.121416</td>\n",
              "      <td>-0.000147</td>\n",
              "      <td>-0.000149</td>\n",
              "      <td>1.000000</td>\n",
              "      <td>-0.002662</td>\n",
              "      <td>0.002876</td>\n",
              "      <td>0.440821</td>\n",
              "      <td>0.794646</td>\n",
              "      <td>-0.002342</td>\n",
              "      <td>0.016707</td>\n",
              "      <td>0.106267</td>\n",
              "      <td>0.418735</td>\n",
              "      <td>0.818734</td>\n",
              "      <td>0.124646</td>\n",
              "      <td>-0.001837</td>\n",
              "      <td>-0.003230</td>\n",
              "      <td>0.014779</td>\n",
              "      <td>0.016042</td>\n",
              "      <td>-0.027612</td>\n",
              "      <td>0.008502</td>\n",
              "      <td>0.001000</td>\n",
              "      <td>0.028370</td>\n",
              "      <td>0.000093</td>\n",
              "      <td>0.014067</td>\n",
              "      <td>0.148460</td>\n",
              "      <td>0.021004</td>\n",
              "      <td>-0.027369</td>\n",
              "      <td>-0.014260</td>\n",
              "    </tr>\n",
              "    <tr>\n",
              "      <th>cnt_ma_rech30</th>\n",
              "      <td>0.237331</td>\n",
              "      <td>-0.003148</td>\n",
              "      <td>0.451385</td>\n",
              "      <td>0.426707</td>\n",
              "      <td>0.233343</td>\n",
              "      <td>0.230260</td>\n",
              "      <td>0.004311</td>\n",
              "      <td>0.001549</td>\n",
              "      <td>-0.002662</td>\n",
              "      <td>1.000000</td>\n",
              "      <td>0.001669</td>\n",
              "      <td>0.656986</td>\n",
              "      <td>-0.011792</td>\n",
              "      <td>0.000082</td>\n",
              "      <td>0.886433</td>\n",
              "      <td>-0.152759</td>\n",
              "      <td>0.584060</td>\n",
              "      <td>-0.051347</td>\n",
              "      <td>0.013463</td>\n",
              "      <td>0.002306</td>\n",
              "      <td>-0.002732</td>\n",
              "      <td>0.011981</td>\n",
              "      <td>0.006989</td>\n",
              "      <td>0.765802</td>\n",
              "      <td>0.752296</td>\n",
              "      <td>0.000109</td>\n",
              "      <td>-0.067011</td>\n",
              "      <td>0.014703</td>\n",
              "      <td>0.685257</td>\n",
              "      <td>0.174104</td>\n",
              "      <td>-0.071451</td>\n",
              "      <td>0.043617</td>\n",
              "      <td>0.017362</td>\n",
              "    </tr>\n",
              "    <tr>\n",
              "      <th>fr_ma_rech30</th>\n",
              "      <td>0.001330</td>\n",
              "      <td>-0.001163</td>\n",
              "      <td>-0.000577</td>\n",
              "      <td>-0.000343</td>\n",
              "      <td>-0.001219</td>\n",
              "      <td>-0.000503</td>\n",
              "      <td>-0.001629</td>\n",
              "      <td>0.001158</td>\n",
              "      <td>0.002876</td>\n",
              "      <td>0.001669</td>\n",
              "      <td>1.000000</td>\n",
              "      <td>0.000714</td>\n",
              "      <td>-0.000579</td>\n",
              "      <td>0.002613</td>\n",
              "      <td>0.001220</td>\n",
              "      <td>-0.001245</td>\n",
              "      <td>-0.000571</td>\n",
              "      <td>-0.001573</td>\n",
              "      <td>-0.002826</td>\n",
              "      <td>-0.000511</td>\n",
              "      <td>-0.001715</td>\n",
              "      <td>0.001574</td>\n",
              "      <td>-0.001925</td>\n",
              "      <td>0.002666</td>\n",
              "      <td>0.002470</td>\n",
              "      <td>-0.001100</td>\n",
              "      <td>-0.000331</td>\n",
              "      <td>0.003368</td>\n",
              "      <td>0.002634</td>\n",
              "      <td>-0.001890</td>\n",
              "      <td>-0.001292</td>\n",
              "      <td>0.001455</td>\n",
              "      <td>0.000998</td>\n",
              "    </tr>\n",
              "    <tr>\n",
              "      <th>sumamnt_ma_rech30</th>\n",
              "      <td>0.202828</td>\n",
              "      <td>0.000707</td>\n",
              "      <td>0.636536</td>\n",
              "      <td>0.603886</td>\n",
              "      <td>0.272649</td>\n",
              "      <td>0.259709</td>\n",
              "      <td>0.002105</td>\n",
              "      <td>0.000046</td>\n",
              "      <td>0.440821</td>\n",
              "      <td>0.656986</td>\n",
              "      <td>0.000714</td>\n",
              "      <td>1.000000</td>\n",
              "      <td>0.489200</td>\n",
              "      <td>0.000007</td>\n",
              "      <td>0.596478</td>\n",
              "      <td>-0.071089</td>\n",
              "      <td>0.889989</td>\n",
              "      <td>0.422009</td>\n",
              "      <td>0.090502</td>\n",
              "      <td>0.002537</td>\n",
              "      <td>-0.001578</td>\n",
              "      <td>0.019213</td>\n",
              "      <td>0.017255</td>\n",
              "      <td>0.491864</td>\n",
              "      <td>0.531079</td>\n",
              "      <td>0.001633</td>\n",
              "      <td>-0.034460</td>\n",
              "      <td>0.009419</td>\n",
              "      <td>0.484761</td>\n",
              "      <td>0.257705</td>\n",
              "      <td>-0.042244</td>\n",
              "      <td>0.000112</td>\n",
              "      <td>-0.012596</td>\n",
              "    </tr>\n",
              "    <tr>\n",
              "      <th>medianamnt_ma_rech30</th>\n",
              "      <td>0.141490</td>\n",
              "      <td>0.004306</td>\n",
              "      <td>0.295356</td>\n",
              "      <td>0.282960</td>\n",
              "      <td>0.129853</td>\n",
              "      <td>0.120242</td>\n",
              "      <td>-0.001358</td>\n",
              "      <td>0.001037</td>\n",
              "      <td>0.794646</td>\n",
              "      <td>-0.011792</td>\n",
              "      <td>-0.000579</td>\n",
              "      <td>0.489200</td>\n",
              "      <td>1.000000</td>\n",
              "      <td>-0.000737</td>\n",
              "      <td>0.005309</td>\n",
              "      <td>0.149655</td>\n",
              "      <td>0.449012</td>\n",
              "      <td>0.864846</td>\n",
              "      <td>0.156028</td>\n",
              "      <td>-0.000060</td>\n",
              "      <td>-0.001479</td>\n",
              "      <td>0.016727</td>\n",
              "      <td>0.013734</td>\n",
              "      <td>-0.029789</td>\n",
              "      <td>0.007125</td>\n",
              "      <td>0.001985</td>\n",
              "      <td>0.032477</td>\n",
              "      <td>-0.001143</td>\n",
              "      <td>0.014546</td>\n",
              "      <td>0.159613</td>\n",
              "      <td>0.022692</td>\n",
              "      <td>-0.018398</td>\n",
              "      <td>-0.002861</td>\n",
              "    </tr>\n",
              "    <tr>\n",
              "      <th>medianmarechprebal30</th>\n",
              "      <td>-0.004829</td>\n",
              "      <td>0.003930</td>\n",
              "      <td>-0.001153</td>\n",
              "      <td>-0.000746</td>\n",
              "      <td>-0.001415</td>\n",
              "      <td>-0.001237</td>\n",
              "      <td>0.004071</td>\n",
              "      <td>0.002849</td>\n",
              "      <td>-0.002342</td>\n",
              "      <td>0.000082</td>\n",
              "      <td>0.002613</td>\n",
              "      <td>0.000007</td>\n",
              "      <td>-0.000737</td>\n",
              "      <td>1.000000</td>\n",
              "      <td>0.000899</td>\n",
              "      <td>-0.000902</td>\n",
              "      <td>-0.000665</td>\n",
              "      <td>-0.001459</td>\n",
              "      <td>0.000529</td>\n",
              "      <td>-0.003404</td>\n",
              "      <td>0.000742</td>\n",
              "      <td>-0.003064</td>\n",
              "      <td>-0.001412</td>\n",
              "      <td>-0.000211</td>\n",
              "      <td>0.000134</td>\n",
              "      <td>-0.002176</td>\n",
              "      <td>-0.002289</td>\n",
              "      <td>0.001342</td>\n",
              "      <td>0.000736</td>\n",
              "      <td>-0.002141</td>\n",
              "      <td>-0.001927</td>\n",
              "      <td>0.001516</td>\n",
              "      <td>0.001811</td>\n",
              "    </tr>\n",
              "    <tr>\n",
              "      <th>cnt_ma_rech90</th>\n",
              "      <td>0.236392</td>\n",
              "      <td>-0.002725</td>\n",
              "      <td>0.587338</td>\n",
              "      <td>0.593069</td>\n",
              "      <td>0.312118</td>\n",
              "      <td>0.345293</td>\n",
              "      <td>0.004263</td>\n",
              "      <td>0.001272</td>\n",
              "      <td>0.016707</td>\n",
              "      <td>0.886433</td>\n",
              "      <td>0.001220</td>\n",
              "      <td>0.596478</td>\n",
              "      <td>0.005309</td>\n",
              "      <td>0.000899</td>\n",
              "      <td>1.000000</td>\n",
              "      <td>-0.149068</td>\n",
              "      <td>0.687054</td>\n",
              "      <td>-0.035497</td>\n",
              "      <td>0.015461</td>\n",
              "      <td>0.002895</td>\n",
              "      <td>-0.002795</td>\n",
              "      <td>0.004090</td>\n",
              "      <td>0.002865</td>\n",
              "      <td>0.689002</td>\n",
              "      <td>0.707558</td>\n",
              "      <td>-0.000573</td>\n",
              "      <td>-0.053637</td>\n",
              "      <td>0.015754</td>\n",
              "      <td>0.783419</td>\n",
              "      <td>0.244602</td>\n",
              "      <td>-0.072481</td>\n",
              "      <td>0.011943</td>\n",
              "      <td>-0.003141</td>\n",
              "    </tr>\n",
              "    <tr>\n",
              "      <th>fr_ma_rech90</th>\n",
              "      <td>0.084385</td>\n",
              "      <td>0.004401</td>\n",
              "      <td>-0.078299</td>\n",
              "      <td>-0.079530</td>\n",
              "      <td>-0.033530</td>\n",
              "      <td>-0.036524</td>\n",
              "      <td>0.001414</td>\n",
              "      <td>0.000798</td>\n",
              "      <td>0.106267</td>\n",
              "      <td>-0.152759</td>\n",
              "      <td>-0.001245</td>\n",
              "      <td>-0.071089</td>\n",
              "      <td>0.149655</td>\n",
              "      <td>-0.000902</td>\n",
              "      <td>-0.149068</td>\n",
              "      <td>1.000000</td>\n",
              "      <td>-0.065566</td>\n",
              "      <td>0.138503</td>\n",
              "      <td>0.004347</td>\n",
              "      <td>0.002230</td>\n",
              "      <td>-0.000081</td>\n",
              "      <td>-0.006727</td>\n",
              "      <td>-0.003822</td>\n",
              "      <td>-0.119083</td>\n",
              "      <td>-0.123664</td>\n",
              "      <td>0.001635</td>\n",
              "      <td>0.020626</td>\n",
              "      <td>-0.002756</td>\n",
              "      <td>-0.132035</td>\n",
              "      <td>-0.045780</td>\n",
              "      <td>0.016964</td>\n",
              "      <td>0.036817</td>\n",
              "      <td>0.077529</td>\n",
              "    </tr>\n",
              "    <tr>\n",
              "      <th>sumamnt_ma_rech90</th>\n",
              "      <td>0.205793</td>\n",
              "      <td>0.001011</td>\n",
              "      <td>0.762981</td>\n",
              "      <td>0.768817</td>\n",
              "      <td>0.342306</td>\n",
              "      <td>0.360601</td>\n",
              "      <td>0.002243</td>\n",
              "      <td>-0.000414</td>\n",
              "      <td>0.418735</td>\n",
              "      <td>0.584060</td>\n",
              "      <td>-0.000571</td>\n",
              "      <td>0.889989</td>\n",
              "      <td>0.449012</td>\n",
              "      <td>-0.000665</td>\n",
              "      <td>0.687054</td>\n",
              "      <td>-0.065566</td>\n",
              "      <td>1.000000</td>\n",
              "      <td>0.429274</td>\n",
              "      <td>0.096385</td>\n",
              "      <td>0.003002</td>\n",
              "      <td>-0.001566</td>\n",
              "      <td>0.012465</td>\n",
              "      <td>0.013136</td>\n",
              "      <td>0.442766</td>\n",
              "      <td>0.508599</td>\n",
              "      <td>0.001152</td>\n",
              "      <td>-0.022133</td>\n",
              "      <td>0.011306</td>\n",
              "      <td>0.562609</td>\n",
              "      <td>0.321739</td>\n",
              "      <td>-0.042386</td>\n",
              "      <td>-0.026409</td>\n",
              "      <td>-0.029997</td>\n",
              "    </tr>\n",
              "    <tr>\n",
              "      <th>medianamnt_ma_rech90</th>\n",
              "      <td>0.120855</td>\n",
              "      <td>0.004909</td>\n",
              "      <td>0.257847</td>\n",
              "      <td>0.250518</td>\n",
              "      <td>0.110356</td>\n",
              "      <td>0.103151</td>\n",
              "      <td>-0.000726</td>\n",
              "      <td>0.000219</td>\n",
              "      <td>0.818734</td>\n",
              "      <td>-0.051347</td>\n",
              "      <td>-0.001573</td>\n",
              "      <td>0.422009</td>\n",
              "      <td>0.864846</td>\n",
              "      <td>-0.001459</td>\n",
              "      <td>-0.035497</td>\n",
              "      <td>0.138503</td>\n",
              "      <td>0.429274</td>\n",
              "      <td>1.000000</td>\n",
              "      <td>0.209096</td>\n",
              "      <td>-0.002425</td>\n",
              "      <td>-0.002289</td>\n",
              "      <td>0.017533</td>\n",
              "      <td>0.019677</td>\n",
              "      <td>-0.060766</td>\n",
              "      <td>-0.025307</td>\n",
              "      <td>0.001016</td>\n",
              "      <td>0.036475</td>\n",
              "      <td>-0.000123</td>\n",
              "      <td>-0.023450</td>\n",
              "      <td>0.134139</td>\n",
              "      <td>0.031696</td>\n",
              "      <td>-0.035640</td>\n",
              "      <td>-0.023022</td>\n",
              "    </tr>\n",
              "    <tr>\n",
              "      <th>medianmarechprebal90</th>\n",
              "      <td>0.039300</td>\n",
              "      <td>-0.000859</td>\n",
              "      <td>0.037495</td>\n",
              "      <td>0.036382</td>\n",
              "      <td>0.027170</td>\n",
              "      <td>0.029547</td>\n",
              "      <td>-0.001086</td>\n",
              "      <td>0.004158</td>\n",
              "      <td>0.124646</td>\n",
              "      <td>0.013463</td>\n",
              "      <td>-0.002826</td>\n",
              "      <td>0.090502</td>\n",
              "      <td>0.156028</td>\n",
              "      <td>0.000529</td>\n",
              "      <td>0.015461</td>\n",
              "      <td>0.004347</td>\n",
              "      <td>0.096385</td>\n",
              "      <td>0.209096</td>\n",
              "      <td>1.000000</td>\n",
              "      <td>0.001130</td>\n",
              "      <td>-0.001893</td>\n",
              "      <td>0.007077</td>\n",
              "      <td>0.008492</td>\n",
              "      <td>-0.043381</td>\n",
              "      <td>-0.033878</td>\n",
              "      <td>0.001884</td>\n",
              "      <td>0.030534</td>\n",
              "      <td>-0.000926</td>\n",
              "      <td>-0.036412</td>\n",
              "      <td>0.027130</td>\n",
              "      <td>0.032453</td>\n",
              "      <td>-0.031760</td>\n",
              "      <td>-0.031210</td>\n",
              "    </tr>\n",
              "    <tr>\n",
              "      <th>cnt_da_rech30</th>\n",
              "      <td>0.003827</td>\n",
              "      <td>0.001564</td>\n",
              "      <td>0.000700</td>\n",
              "      <td>0.000661</td>\n",
              "      <td>-0.001105</td>\n",
              "      <td>-0.000548</td>\n",
              "      <td>-0.003467</td>\n",
              "      <td>-0.003628</td>\n",
              "      <td>-0.001837</td>\n",
              "      <td>0.002306</td>\n",
              "      <td>-0.000511</td>\n",
              "      <td>0.002537</td>\n",
              "      <td>-0.000060</td>\n",
              "      <td>-0.003404</td>\n",
              "      <td>0.002895</td>\n",
              "      <td>0.002230</td>\n",
              "      <td>0.003002</td>\n",
              "      <td>-0.002425</td>\n",
              "      <td>0.001130</td>\n",
              "      <td>1.000000</td>\n",
              "      <td>0.005203</td>\n",
              "      <td>0.002153</td>\n",
              "      <td>0.000088</td>\n",
              "      <td>0.001852</td>\n",
              "      <td>0.001487</td>\n",
              "      <td>-0.000394</td>\n",
              "      <td>0.000049</td>\n",
              "      <td>-0.001986</td>\n",
              "      <td>0.003369</td>\n",
              "      <td>-0.000647</td>\n",
              "      <td>-0.001365</td>\n",
              "      <td>-0.000471</td>\n",
              "      <td>0.000382</td>\n",
              "    </tr>\n",
              "    <tr>\n",
              "      <th>fr_da_rech30</th>\n",
              "      <td>-0.000027</td>\n",
              "      <td>0.000892</td>\n",
              "      <td>-0.001499</td>\n",
              "      <td>-0.001570</td>\n",
              "      <td>-0.002558</td>\n",
              "      <td>-0.002345</td>\n",
              "      <td>-0.003626</td>\n",
              "      <td>-0.000074</td>\n",
              "      <td>-0.003230</td>\n",
              "      <td>-0.002732</td>\n",
              "      <td>-0.001715</td>\n",
              "      <td>-0.001578</td>\n",
              "      <td>-0.001479</td>\n",
              "      <td>0.000742</td>\n",
              "      <td>-0.002795</td>\n",
              "      <td>-0.000081</td>\n",
              "      <td>-0.001566</td>\n",
              "      <td>-0.002289</td>\n",
              "      <td>-0.001893</td>\n",
              "      <td>0.005203</td>\n",
              "      <td>1.000000</td>\n",
              "      <td>0.000770</td>\n",
              "      <td>0.005505</td>\n",
              "      <td>-0.003212</td>\n",
              "      <td>-0.003395</td>\n",
              "      <td>-0.001070</td>\n",
              "      <td>-0.001141</td>\n",
              "      <td>-0.001623</td>\n",
              "      <td>-0.001593</td>\n",
              "      <td>-0.001069</td>\n",
              "      <td>-0.001623</td>\n",
              "      <td>0.001709</td>\n",
              "      <td>-0.000725</td>\n",
              "    </tr>\n",
              "    <tr>\n",
              "      <th>cnt_da_rech90</th>\n",
              "      <td>0.002999</td>\n",
              "      <td>0.001121</td>\n",
              "      <td>0.038814</td>\n",
              "      <td>0.031155</td>\n",
              "      <td>0.072255</td>\n",
              "      <td>0.056282</td>\n",
              "      <td>-0.003538</td>\n",
              "      <td>-0.001859</td>\n",
              "      <td>0.014779</td>\n",
              "      <td>0.011981</td>\n",
              "      <td>0.001574</td>\n",
              "      <td>0.019213</td>\n",
              "      <td>0.016727</td>\n",
              "      <td>-0.003064</td>\n",
              "      <td>0.004090</td>\n",
              "      <td>-0.006727</td>\n",
              "      <td>0.012465</td>\n",
              "      <td>0.017533</td>\n",
              "      <td>0.007077</td>\n",
              "      <td>0.002153</td>\n",
              "      <td>0.000770</td>\n",
              "      <td>1.000000</td>\n",
              "      <td>0.348885</td>\n",
              "      <td>0.017976</td>\n",
              "      <td>0.026249</td>\n",
              "      <td>-0.001855</td>\n",
              "      <td>-0.003351</td>\n",
              "      <td>0.000907</td>\n",
              "      <td>0.020909</td>\n",
              "      <td>0.038019</td>\n",
              "      <td>-0.003094</td>\n",
              "      <td>0.013430</td>\n",
              "      <td>0.024046</td>\n",
              "    </tr>\n",
              "    <tr>\n",
              "      <th>fr_da_rech90</th>\n",
              "      <td>-0.005418</td>\n",
              "      <td>0.005395</td>\n",
              "      <td>0.020673</td>\n",
              "      <td>0.016437</td>\n",
              "      <td>0.046761</td>\n",
              "      <td>0.036886</td>\n",
              "      <td>-0.002395</td>\n",
              "      <td>-0.000203</td>\n",
              "      <td>0.016042</td>\n",
              "      <td>0.006989</td>\n",
              "      <td>-0.001925</td>\n",
              "      <td>0.017255</td>\n",
              "      <td>0.013734</td>\n",
              "      <td>-0.001412</td>\n",
              "      <td>0.002865</td>\n",
              "      <td>-0.003822</td>\n",
              "      <td>0.013136</td>\n",
              "      <td>0.019677</td>\n",
              "      <td>0.008492</td>\n",
              "      <td>0.000088</td>\n",
              "      <td>0.005505</td>\n",
              "      <td>0.348885</td>\n",
              "      <td>1.000000</td>\n",
              "      <td>0.010021</td>\n",
              "      <td>0.014935</td>\n",
              "      <td>-0.000754</td>\n",
              "      <td>-0.002234</td>\n",
              "      <td>0.001993</td>\n",
              "      <td>0.011501</td>\n",
              "      <td>0.021785</td>\n",
              "      <td>-0.000949</td>\n",
              "      <td>0.000354</td>\n",
              "      <td>0.001226</td>\n",
              "    </tr>\n",
              "    <tr>\n",
              "      <th>cnt_loans30</th>\n",
              "      <td>0.196283</td>\n",
              "      <td>-0.001826</td>\n",
              "      <td>0.366116</td>\n",
              "      <td>0.340387</td>\n",
              "      <td>0.180203</td>\n",
              "      <td>0.171595</td>\n",
              "      <td>0.001193</td>\n",
              "      <td>0.000380</td>\n",
              "      <td>-0.027612</td>\n",
              "      <td>0.765802</td>\n",
              "      <td>0.002666</td>\n",
              "      <td>0.491864</td>\n",
              "      <td>-0.029789</td>\n",
              "      <td>-0.000211</td>\n",
              "      <td>0.689002</td>\n",
              "      <td>-0.119083</td>\n",
              "      <td>0.442766</td>\n",
              "      <td>-0.060766</td>\n",
              "      <td>-0.043381</td>\n",
              "      <td>0.001852</td>\n",
              "      <td>-0.003212</td>\n",
              "      <td>0.017976</td>\n",
              "      <td>0.010021</td>\n",
              "      <td>1.000000</td>\n",
              "      <td>0.957742</td>\n",
              "      <td>0.000251</td>\n",
              "      <td>-0.093146</td>\n",
              "      <td>0.015595</td>\n",
              "      <td>0.852905</td>\n",
              "      <td>0.143590</td>\n",
              "      <td>-0.097871</td>\n",
              "      <td>0.067842</td>\n",
              "      <td>0.033369</td>\n",
              "    </tr>\n",
              "    <tr>\n",
              "      <th>amnt_loans30</th>\n",
              "      <td>0.197272</td>\n",
              "      <td>-0.001726</td>\n",
              "      <td>0.471492</td>\n",
              "      <td>0.447869</td>\n",
              "      <td>0.233453</td>\n",
              "      <td>0.231906</td>\n",
              "      <td>0.000903</td>\n",
              "      <td>0.000536</td>\n",
              "      <td>0.008502</td>\n",
              "      <td>0.752296</td>\n",
              "      <td>0.002470</td>\n",
              "      <td>0.531079</td>\n",
              "      <td>0.007125</td>\n",
              "      <td>0.000134</td>\n",
              "      <td>0.707558</td>\n",
              "      <td>-0.123664</td>\n",
              "      <td>0.508599</td>\n",
              "      <td>-0.025307</td>\n",
              "      <td>-0.033878</td>\n",
              "      <td>0.001487</td>\n",
              "      <td>-0.003395</td>\n",
              "      <td>0.026249</td>\n",
              "      <td>0.014935</td>\n",
              "      <td>0.957742</td>\n",
              "      <td>1.000000</td>\n",
              "      <td>-0.000073</td>\n",
              "      <td>-0.078531</td>\n",
              "      <td>0.014625</td>\n",
              "      <td>0.897961</td>\n",
              "      <td>0.329170</td>\n",
              "      <td>-0.087989</td>\n",
              "      <td>0.060425</td>\n",
              "      <td>0.030901</td>\n",
              "    </tr>\n",
              "    <tr>\n",
              "      <th>maxamnt_loans30</th>\n",
              "      <td>0.000248</td>\n",
              "      <td>-0.002764</td>\n",
              "      <td>-0.000028</td>\n",
              "      <td>0.000025</td>\n",
              "      <td>-0.000864</td>\n",
              "      <td>-0.001411</td>\n",
              "      <td>0.000928</td>\n",
              "      <td>0.000503</td>\n",
              "      <td>0.001000</td>\n",
              "      <td>0.000109</td>\n",
              "      <td>-0.001100</td>\n",
              "      <td>0.001633</td>\n",
              "      <td>0.001985</td>\n",
              "      <td>-0.002176</td>\n",
              "      <td>-0.000573</td>\n",
              "      <td>0.001635</td>\n",
              "      <td>0.001152</td>\n",
              "      <td>0.001016</td>\n",
              "      <td>0.001884</td>\n",
              "      <td>-0.000394</td>\n",
              "      <td>-0.001070</td>\n",
              "      <td>-0.001855</td>\n",
              "      <td>-0.000754</td>\n",
              "      <td>0.000251</td>\n",
              "      <td>-0.000073</td>\n",
              "      <td>1.000000</td>\n",
              "      <td>0.007782</td>\n",
              "      <td>0.003987</td>\n",
              "      <td>-0.001850</td>\n",
              "      <td>-0.000487</td>\n",
              "      <td>0.009330</td>\n",
              "      <td>-0.001512</td>\n",
              "      <td>-0.000915</td>\n",
              "    </tr>\n",
              "    <tr>\n",
              "      <th>medianamnt_loans30</th>\n",
              "      <td>0.044589</td>\n",
              "      <td>0.004664</td>\n",
              "      <td>-0.011610</td>\n",
              "      <td>-0.005591</td>\n",
              "      <td>-0.016482</td>\n",
              "      <td>-0.009467</td>\n",
              "      <td>0.001835</td>\n",
              "      <td>0.000061</td>\n",
              "      <td>0.028370</td>\n",
              "      <td>-0.067011</td>\n",
              "      <td>-0.000331</td>\n",
              "      <td>-0.034460</td>\n",
              "      <td>0.032477</td>\n",
              "      <td>-0.002289</td>\n",
              "      <td>-0.053637</td>\n",
              "      <td>0.020626</td>\n",
              "      <td>-0.022133</td>\n",
              "      <td>0.036475</td>\n",
              "      <td>0.030534</td>\n",
              "      <td>0.000049</td>\n",
              "      <td>-0.001141</td>\n",
              "      <td>-0.003351</td>\n",
              "      <td>-0.002234</td>\n",
              "      <td>-0.093146</td>\n",
              "      <td>-0.078531</td>\n",
              "      <td>0.007782</td>\n",
              "      <td>1.000000</td>\n",
              "      <td>-0.003670</td>\n",
              "      <td>-0.067580</td>\n",
              "      <td>0.058378</td>\n",
              "      <td>0.911604</td>\n",
              "      <td>-0.006007</td>\n",
              "      <td>0.003178</td>\n",
              "    </tr>\n",
              "    <tr>\n",
              "      <th>cnt_loans90</th>\n",
              "      <td>0.004733</td>\n",
              "      <td>-0.000611</td>\n",
              "      <td>0.008962</td>\n",
              "      <td>0.009446</td>\n",
              "      <td>0.004012</td>\n",
              "      <td>0.005141</td>\n",
              "      <td>-0.000225</td>\n",
              "      <td>-0.000972</td>\n",
              "      <td>0.000093</td>\n",
              "      <td>0.014703</td>\n",
              "      <td>0.003368</td>\n",
              "      <td>0.009419</td>\n",
              "      <td>-0.001143</td>\n",
              "      <td>0.001342</td>\n",
              "      <td>0.015754</td>\n",
              "      <td>-0.002756</td>\n",
              "      <td>0.011306</td>\n",
              "      <td>-0.000123</td>\n",
              "      <td>-0.000926</td>\n",
              "      <td>-0.001986</td>\n",
              "      <td>-0.001623</td>\n",
              "      <td>0.000907</td>\n",
              "      <td>0.001993</td>\n",
              "      <td>0.015595</td>\n",
              "      <td>0.014625</td>\n",
              "      <td>0.003987</td>\n",
              "      <td>-0.003670</td>\n",
              "      <td>1.000000</td>\n",
              "      <td>0.017697</td>\n",
              "      <td>0.001450</td>\n",
              "      <td>-0.002571</td>\n",
              "      <td>0.000587</td>\n",
              "      <td>-0.000476</td>\n",
              "    </tr>\n",
              "    <tr>\n",
              "      <th>amnt_loans90</th>\n",
              "      <td>0.199788</td>\n",
              "      <td>-0.002319</td>\n",
              "      <td>0.563496</td>\n",
              "      <td>0.567204</td>\n",
              "      <td>0.298943</td>\n",
              "      <td>0.327436</td>\n",
              "      <td>0.000870</td>\n",
              "      <td>0.000519</td>\n",
              "      <td>0.014067</td>\n",
              "      <td>0.685257</td>\n",
              "      <td>0.002634</td>\n",
              "      <td>0.484761</td>\n",
              "      <td>0.014546</td>\n",
              "      <td>0.000736</td>\n",
              "      <td>0.783419</td>\n",
              "      <td>-0.132035</td>\n",
              "      <td>0.562609</td>\n",
              "      <td>-0.023450</td>\n",
              "      <td>-0.036412</td>\n",
              "      <td>0.003369</td>\n",
              "      <td>-0.001593</td>\n",
              "      <td>0.020909</td>\n",
              "      <td>0.011501</td>\n",
              "      <td>0.852905</td>\n",
              "      <td>0.897961</td>\n",
              "      <td>-0.001850</td>\n",
              "      <td>-0.067580</td>\n",
              "      <td>0.017697</td>\n",
              "      <td>1.000000</td>\n",
              "      <td>0.323417</td>\n",
              "      <td>-0.095160</td>\n",
              "      <td>0.052142</td>\n",
              "      <td>0.029653</td>\n",
              "    </tr>\n",
              "    <tr>\n",
              "      <th>maxamnt_loans90</th>\n",
              "      <td>0.084144</td>\n",
              "      <td>-0.001191</td>\n",
              "      <td>0.400199</td>\n",
              "      <td>0.397251</td>\n",
              "      <td>0.234211</td>\n",
              "      <td>0.251029</td>\n",
              "      <td>-0.001123</td>\n",
              "      <td>0.001524</td>\n",
              "      <td>0.148460</td>\n",
              "      <td>0.174104</td>\n",
              "      <td>-0.001890</td>\n",
              "      <td>0.257705</td>\n",
              "      <td>0.159613</td>\n",
              "      <td>-0.002141</td>\n",
              "      <td>0.244602</td>\n",
              "      <td>-0.045780</td>\n",
              "      <td>0.321739</td>\n",
              "      <td>0.134139</td>\n",
              "      <td>0.027130</td>\n",
              "      <td>-0.000647</td>\n",
              "      <td>-0.001069</td>\n",
              "      <td>0.038019</td>\n",
              "      <td>0.021785</td>\n",
              "      <td>0.143590</td>\n",
              "      <td>0.329170</td>\n",
              "      <td>-0.000487</td>\n",
              "      <td>0.058378</td>\n",
              "      <td>0.001450</td>\n",
              "      <td>0.323417</td>\n",
              "      <td>1.000000</td>\n",
              "      <td>0.032256</td>\n",
              "      <td>0.013376</td>\n",
              "      <td>0.029679</td>\n",
              "    </tr>\n",
              "    <tr>\n",
              "      <th>medianamnt_loans90</th>\n",
              "      <td>0.035747</td>\n",
              "      <td>0.002771</td>\n",
              "      <td>-0.037305</td>\n",
              "      <td>-0.034686</td>\n",
              "      <td>-0.035489</td>\n",
              "      <td>-0.034122</td>\n",
              "      <td>0.002771</td>\n",
              "      <td>-0.002239</td>\n",
              "      <td>0.021004</td>\n",
              "      <td>-0.071451</td>\n",
              "      <td>-0.001292</td>\n",
              "      <td>-0.042244</td>\n",
              "      <td>0.022692</td>\n",
              "      <td>-0.001927</td>\n",
              "      <td>-0.072481</td>\n",
              "      <td>0.016964</td>\n",
              "      <td>-0.042386</td>\n",
              "      <td>0.031696</td>\n",
              "      <td>0.032453</td>\n",
              "      <td>-0.001365</td>\n",
              "      <td>-0.001623</td>\n",
              "      <td>-0.003094</td>\n",
              "      <td>-0.000949</td>\n",
              "      <td>-0.097871</td>\n",
              "      <td>-0.087989</td>\n",
              "      <td>0.009330</td>\n",
              "      <td>0.911604</td>\n",
              "      <td>-0.002571</td>\n",
              "      <td>-0.095160</td>\n",
              "      <td>0.032256</td>\n",
              "      <td>1.000000</td>\n",
              "      <td>-0.013388</td>\n",
              "      <td>-0.010443</td>\n",
              "    </tr>\n",
              "    <tr>\n",
              "      <th>payback30</th>\n",
              "      <td>0.048336</td>\n",
              "      <td>0.001940</td>\n",
              "      <td>0.026915</td>\n",
              "      <td>0.019400</td>\n",
              "      <td>0.072974</td>\n",
              "      <td>0.067110</td>\n",
              "      <td>-0.002233</td>\n",
              "      <td>0.000077</td>\n",
              "      <td>-0.027369</td>\n",
              "      <td>0.043617</td>\n",
              "      <td>0.001455</td>\n",
              "      <td>0.000112</td>\n",
              "      <td>-0.018398</td>\n",
              "      <td>0.001516</td>\n",
              "      <td>0.011943</td>\n",
              "      <td>0.036817</td>\n",
              "      <td>-0.026409</td>\n",
              "      <td>-0.035640</td>\n",
              "      <td>-0.031760</td>\n",
              "      <td>-0.000471</td>\n",
              "      <td>0.001709</td>\n",
              "      <td>0.013430</td>\n",
              "      <td>0.000354</td>\n",
              "      <td>0.067842</td>\n",
              "      <td>0.060425</td>\n",
              "      <td>-0.001512</td>\n",
              "      <td>-0.006007</td>\n",
              "      <td>0.000587</td>\n",
              "      <td>0.052142</td>\n",
              "      <td>0.013376</td>\n",
              "      <td>-0.013388</td>\n",
              "      <td>1.000000</td>\n",
              "      <td>0.830363</td>\n",
              "    </tr>\n",
              "    <tr>\n",
              "      <th>payback90</th>\n",
              "      <td>0.049183</td>\n",
              "      <td>0.002203</td>\n",
              "      <td>0.047175</td>\n",
              "      <td>0.040800</td>\n",
              "      <td>0.095147</td>\n",
              "      <td>0.099501</td>\n",
              "      <td>-0.001583</td>\n",
              "      <td>0.000417</td>\n",
              "      <td>-0.014260</td>\n",
              "      <td>0.017362</td>\n",
              "      <td>0.000998</td>\n",
              "      <td>-0.012596</td>\n",
              "      <td>-0.002861</td>\n",
              "      <td>0.001811</td>\n",
              "      <td>-0.003141</td>\n",
              "      <td>0.077529</td>\n",
              "      <td>-0.029997</td>\n",
              "      <td>-0.023022</td>\n",
              "      <td>-0.031210</td>\n",
              "      <td>0.000382</td>\n",
              "      <td>-0.000725</td>\n",
              "      <td>0.024046</td>\n",
              "      <td>0.001226</td>\n",
              "      <td>0.033369</td>\n",
              "      <td>0.030901</td>\n",
              "      <td>-0.000915</td>\n",
              "      <td>0.003178</td>\n",
              "      <td>-0.000476</td>\n",
              "      <td>0.029653</td>\n",
              "      <td>0.029679</td>\n",
              "      <td>-0.010443</td>\n",
              "      <td>0.830363</td>\n",
              "      <td>1.000000</td>\n",
              "    </tr>\n",
              "  </tbody>\n",
              "</table>\n",
              "</div>"
            ],
            "text/plain": [
              "                         label       aon  ...  payback30  payback90\n",
              "label                 1.000000 -0.003785  ...   0.048336   0.049183\n",
              "aon                  -0.003785  1.000000  ...   0.001940   0.002203\n",
              "daily_decr30          0.168298  0.001104  ...   0.026915   0.047175\n",
              "daily_decr90          0.166150  0.000374  ...   0.019400   0.040800\n",
              "rental30              0.058085 -0.000960  ...   0.072974   0.095147\n",
              "rental90              0.075521 -0.000790  ...   0.067110   0.099501\n",
              "last_rech_date_ma     0.003728  0.001692  ...  -0.002233  -0.001583\n",
              "last_rech_date_da     0.001711 -0.001693  ...   0.000077   0.000417\n",
              "last_rech_amt_ma      0.131804  0.004256  ...  -0.027369  -0.014260\n",
              "cnt_ma_rech30         0.237331 -0.003148  ...   0.043617   0.017362\n",
              "fr_ma_rech30          0.001330 -0.001163  ...   0.001455   0.000998\n",
              "sumamnt_ma_rech30     0.202828  0.000707  ...   0.000112  -0.012596\n",
              "medianamnt_ma_rech30  0.141490  0.004306  ...  -0.018398  -0.002861\n",
              "medianmarechprebal30 -0.004829  0.003930  ...   0.001516   0.001811\n",
              "cnt_ma_rech90         0.236392 -0.002725  ...   0.011943  -0.003141\n",
              "fr_ma_rech90          0.084385  0.004401  ...   0.036817   0.077529\n",
              "sumamnt_ma_rech90     0.205793  0.001011  ...  -0.026409  -0.029997\n",
              "medianamnt_ma_rech90  0.120855  0.004909  ...  -0.035640  -0.023022\n",
              "medianmarechprebal90  0.039300 -0.000859  ...  -0.031760  -0.031210\n",
              "cnt_da_rech30         0.003827  0.001564  ...  -0.000471   0.000382\n",
              "fr_da_rech30         -0.000027  0.000892  ...   0.001709  -0.000725\n",
              "cnt_da_rech90         0.002999  0.001121  ...   0.013430   0.024046\n",
              "fr_da_rech90         -0.005418  0.005395  ...   0.000354   0.001226\n",
              "cnt_loans30           0.196283 -0.001826  ...   0.067842   0.033369\n",
              "amnt_loans30          0.197272 -0.001726  ...   0.060425   0.030901\n",
              "maxamnt_loans30       0.000248 -0.002764  ...  -0.001512  -0.000915\n",
              "medianamnt_loans30    0.044589  0.004664  ...  -0.006007   0.003178\n",
              "cnt_loans90           0.004733 -0.000611  ...   0.000587  -0.000476\n",
              "amnt_loans90          0.199788 -0.002319  ...   0.052142   0.029653\n",
              "maxamnt_loans90       0.084144 -0.001191  ...   0.013376   0.029679\n",
              "medianamnt_loans90    0.035747  0.002771  ...  -0.013388  -0.010443\n",
              "payback30             0.048336  0.001940  ...   1.000000   0.830363\n",
              "payback90             0.049183  0.002203  ...   0.830363   1.000000\n",
              "\n",
              "[33 rows x 33 columns]"
            ]
          },
          "metadata": {
            "tags": []
          },
          "execution_count": 26
        }
      ]
    },
    {
      "cell_type": "code",
      "metadata": {
        "id": "eyoyZoB-sqzF",
        "outputId": "71833806-f0c7-4745-ce3d-2b3bd0c03ec5",
        "colab": {
          "base_uri": "https://localhost:8080/",
          "height": 400
        }
      },
      "source": [
        "corr_data = df\n",
        "corr = corr_data.corr()\n",
        "sns.heatmap(corr,annot_kws={'size':10})"
      ],
      "execution_count": 27,
      "outputs": [
        {
          "output_type": "execute_result",
          "data": {
            "text/plain": [
              "<matplotlib.axes._subplots.AxesSubplot at 0x7f069da0fa58>"
            ]
          },
          "metadata": {
            "tags": []
          },
          "execution_count": 27
        },
        {
          "output_type": "display_data",
          "data": {
            "image/png": "[encoded data removed]",
            "text/plain": [
              "<Figure size 432x288 with 2 Axes>"
            ]
          },
          "metadata": {
            "tags": [],
            "needs_background": "light"
          }
        }
      ]
    },
    {
      "cell_type": "code",
      "metadata": {
        "id": "d5c7wQj6sqzV",
        "outputId": "8aebf873-d543-433c-e75d-cf7154fd1766",
        "colab": {
          "base_uri": "https://localhost:8080/",
          "height": 1000
        }
      },
      "source": [
        "columns=['aon', 'daily_decr30', 'daily_decr90', 'rental30', 'rental90',\n",
        "       'last_rech_date_ma', 'last_rech_amt_ma', 'cnt_ma_rech30',\n",
        "       'fr_ma_rech30', 'sumamnt_ma_rech30', 'medianamnt_ma_rech30',\n",
        "       'medianmarechprebal30', 'cnt_ma_rech90', 'fr_ma_rech90',\n",
        "       'sumamnt_ma_rech90', 'medianamnt_ma_rech90', 'medianmarechprebal90',\n",
        "       'cnt_loans30', 'amnt_loans30', 'cnt_loans90', 'amnt_loans90',\n",
        "       'payback30', 'payback90']\n",
        "fig,ax = plt.subplots(8,3,figsize=(16,20))\n",
        "ax = ax.flatten()\n",
        "for i,col in enumerate(columns):\n",
        "    sns.distplot(df[col],ax=ax[i],color='red')\n",
        "plt.tight_layout()\n",
        "plt.show()"
      ],
      "execution_count": 28,
      "outputs": [
        {
          "output_type": "display_data",
          "data": {
            "image/png": "[encoded data removed]",
            "text/plain": [
              "<Figure size 1152x1440 with 24 Axes>"
            ]
          },
          "metadata": {
            "tags": [],
            "needs_background": "light"
          }
        }
      ]
    },
    {
      "cell_type": "code",
      "metadata": {
        "id": "l1auvybFuMGi",
        "outputId": "3c2cefd9-40e0-427f-bf05-01cc52401ef3",
        "colab": {
          "base_uri": "https://localhost:8080/",
          "height": 422
        }
      },
      "source": [
        "loan=df.copy()\n",
        "loan"
      ],
      "execution_count": 29,
      "outputs": [
        {
          "output_type": "execute_result",
          "data": {
            "text/html": [
              "<div>\n",
              "<style scoped>\n",
              "    .dataframe tbody tr th:only-of-type {\n",
              "        vertical-align: middle;\n",
              "    }\n",
              "\n",
              "    .dataframe tbody tr th {\n",
              "        vertical-align: top;\n",
              "    }\n",
              "\n",
              "    .dataframe thead th {\n",
              "        text-align: right;\n",
              "    }\n",
              "</style>\n",
              "<table border=\"1\" class=\"dataframe\">\n",
              "  <thead>\n",
              "    <tr style=\"text-align: right;\">\n",
              "      <th></th>\n",
              "      <th>label</th>\n",
              "      <th>aon</th>\n",
              "      <th>daily_decr30</th>\n",
              "      <th>daily_decr90</th>\n",
              "      <th>rental30</th>\n",
              "      <th>rental90</th>\n",
              "      <th>last_rech_date_ma</th>\n",
              "      <th>last_rech_date_da</th>\n",
              "      <th>last_rech_amt_ma</th>\n",
              "      <th>cnt_ma_rech30</th>\n",
              "      <th>fr_ma_rech30</th>\n",
              "      <th>sumamnt_ma_rech30</th>\n",
              "      <th>medianamnt_ma_rech30</th>\n",
              "      <th>medianmarechprebal30</th>\n",
              "      <th>cnt_ma_rech90</th>\n",
              "      <th>fr_ma_rech90</th>\n",
              "      <th>sumamnt_ma_rech90</th>\n",
              "      <th>medianamnt_ma_rech90</th>\n",
              "      <th>medianmarechprebal90</th>\n",
              "      <th>cnt_da_rech30</th>\n",
              "      <th>fr_da_rech30</th>\n",
              "      <th>cnt_da_rech90</th>\n",
              "      <th>fr_da_rech90</th>\n",
              "      <th>cnt_loans30</th>\n",
              "      <th>amnt_loans30</th>\n",
              "      <th>maxamnt_loans30</th>\n",
              "      <th>medianamnt_loans30</th>\n",
              "      <th>cnt_loans90</th>\n",
              "      <th>amnt_loans90</th>\n",
              "      <th>maxamnt_loans90</th>\n",
              "      <th>medianamnt_loans90</th>\n",
              "      <th>payback30</th>\n",
              "      <th>payback90</th>\n",
              "    </tr>\n",
              "  </thead>\n",
              "  <tbody>\n",
              "    <tr>\n",
              "      <th>0</th>\n",
              "      <td>0</td>\n",
              "      <td>272.0</td>\n",
              "      <td>3055.050000</td>\n",
              "      <td>3065.150000</td>\n",
              "      <td>220.13</td>\n",
              "      <td>260.13</td>\n",
              "      <td>2.0</td>\n",
              "      <td>0.0</td>\n",
              "      <td>1539</td>\n",
              "      <td>2</td>\n",
              "      <td>21.0</td>\n",
              "      <td>3078.0</td>\n",
              "      <td>1539.0</td>\n",
              "      <td>7.50</td>\n",
              "      <td>2</td>\n",
              "      <td>21</td>\n",
              "      <td>3078</td>\n",
              "      <td>1539.0</td>\n",
              "      <td>7.50</td>\n",
              "      <td>0.0</td>\n",
              "      <td>0.0</td>\n",
              "      <td>0</td>\n",
              "      <td>0</td>\n",
              "      <td>2</td>\n",
              "      <td>12</td>\n",
              "      <td>6.0</td>\n",
              "      <td>0.0</td>\n",
              "      <td>2.0</td>\n",
              "      <td>12</td>\n",
              "      <td>6</td>\n",
              "      <td>0.0</td>\n",
              "      <td>29.000000</td>\n",
              "      <td>29.000000</td>\n",
              "    </tr>\n",
              "    <tr>\n",
              "      <th>1</th>\n",
              "      <td>1</td>\n",
              "      <td>712.0</td>\n",
              "      <td>12122.000000</td>\n",
              "      <td>12124.750000</td>\n",
              "      <td>3691.26</td>\n",
              "      <td>3691.26</td>\n",
              "      <td>20.0</td>\n",
              "      <td>0.0</td>\n",
              "      <td>5787</td>\n",
              "      <td>1</td>\n",
              "      <td>0.0</td>\n",
              "      <td>5787.0</td>\n",
              "      <td>5787.0</td>\n",
              "      <td>61.04</td>\n",
              "      <td>1</td>\n",
              "      <td>0</td>\n",
              "      <td>5787</td>\n",
              "      <td>5787.0</td>\n",
              "      <td>61.04</td>\n",
              "      <td>0.0</td>\n",
              "      <td>0.0</td>\n",
              "      <td>0</td>\n",
              "      <td>0</td>\n",
              "      <td>1</td>\n",
              "      <td>12</td>\n",
              "      <td>12.0</td>\n",
              "      <td>0.0</td>\n",
              "      <td>1.0</td>\n",
              "      <td>12</td>\n",
              "      <td>12</td>\n",
              "      <td>0.0</td>\n",
              "      <td>0.000000</td>\n",
              "      <td>0.000000</td>\n",
              "    </tr>\n",
              "    <tr>\n",
              "      <th>2</th>\n",
              "      <td>1</td>\n",
              "      <td>535.0</td>\n",
              "      <td>1398.000000</td>\n",
              "      <td>1398.000000</td>\n",
              "      <td>900.13</td>\n",
              "      <td>900.13</td>\n",
              "      <td>3.0</td>\n",
              "      <td>0.0</td>\n",
              "      <td>1539</td>\n",
              "      <td>1</td>\n",
              "      <td>0.0</td>\n",
              "      <td>1539.0</td>\n",
              "      <td>1539.0</td>\n",
              "      <td>66.32</td>\n",
              "      <td>1</td>\n",
              "      <td>0</td>\n",
              "      <td>1539</td>\n",
              "      <td>1539.0</td>\n",
              "      <td>66.32</td>\n",
              "      <td>0.0</td>\n",
              "      <td>0.0</td>\n",
              "      <td>0</td>\n",
              "      <td>0</td>\n",
              "      <td>1</td>\n",
              "      <td>6</td>\n",
              "      <td>6.0</td>\n",
              "      <td>0.0</td>\n",
              "      <td>1.0</td>\n",
              "      <td>6</td>\n",
              "      <td>6</td>\n",
              "      <td>0.0</td>\n",
              "      <td>0.000000</td>\n",
              "      <td>0.000000</td>\n",
              "    </tr>\n",
              "    <tr>\n",
              "      <th>3</th>\n",
              "      <td>1</td>\n",
              "      <td>241.0</td>\n",
              "      <td>21.228000</td>\n",
              "      <td>21.228000</td>\n",
              "      <td>159.42</td>\n",
              "      <td>159.42</td>\n",
              "      <td>41.0</td>\n",
              "      <td>0.0</td>\n",
              "      <td>947</td>\n",
              "      <td>0</td>\n",
              "      <td>0.0</td>\n",
              "      <td>0.0</td>\n",
              "      <td>0.0</td>\n",
              "      <td>0.00</td>\n",
              "      <td>1</td>\n",
              "      <td>0</td>\n",
              "      <td>947</td>\n",
              "      <td>947.0</td>\n",
              "      <td>2.50</td>\n",
              "      <td>0.0</td>\n",
              "      <td>0.0</td>\n",
              "      <td>0</td>\n",
              "      <td>0</td>\n",
              "      <td>2</td>\n",
              "      <td>12</td>\n",
              "      <td>6.0</td>\n",
              "      <td>0.0</td>\n",
              "      <td>2.0</td>\n",
              "      <td>12</td>\n",
              "      <td>6</td>\n",
              "      <td>0.0</td>\n",
              "      <td>0.000000</td>\n",
              "      <td>0.000000</td>\n",
              "    </tr>\n",
              "    <tr>\n",
              "      <th>4</th>\n",
              "      <td>1</td>\n",
              "      <td>947.0</td>\n",
              "      <td>150.619333</td>\n",
              "      <td>150.619333</td>\n",
              "      <td>1098.90</td>\n",
              "      <td>1098.90</td>\n",
              "      <td>4.0</td>\n",
              "      <td>0.0</td>\n",
              "      <td>2309</td>\n",
              "      <td>7</td>\n",
              "      <td>2.0</td>\n",
              "      <td>20029.0</td>\n",
              "      <td>2309.0</td>\n",
              "      <td>29.00</td>\n",
              "      <td>8</td>\n",
              "      <td>2</td>\n",
              "      <td>23496</td>\n",
              "      <td>2888.0</td>\n",
              "      <td>35.00</td>\n",
              "      <td>0.0</td>\n",
              "      <td>0.0</td>\n",
              "      <td>0</td>\n",
              "      <td>0</td>\n",
              "      <td>7</td>\n",
              "      <td>42</td>\n",
              "      <td>6.0</td>\n",
              "      <td>0.0</td>\n",
              "      <td>7.0</td>\n",
              "      <td>42</td>\n",
              "      <td>6</td>\n",
              "      <td>0.0</td>\n",
              "      <td>2.333333</td>\n",
              "      <td>2.333333</td>\n",
              "    </tr>\n",
              "    <tr>\n",
              "      <th>...</th>\n",
              "      <td>...</td>\n",
              "      <td>...</td>\n",
              "      <td>...</td>\n",
              "      <td>...</td>\n",
              "      <td>...</td>\n",
              "      <td>...</td>\n",
              "      <td>...</td>\n",
              "      <td>...</td>\n",
              "      <td>...</td>\n",
              "      <td>...</td>\n",
              "      <td>...</td>\n",
              "      <td>...</td>\n",
              "      <td>...</td>\n",
              "      <td>...</td>\n",
              "      <td>...</td>\n",
              "      <td>...</td>\n",
              "      <td>...</td>\n",
              "      <td>...</td>\n",
              "      <td>...</td>\n",
              "      <td>...</td>\n",
              "      <td>...</td>\n",
              "      <td>...</td>\n",
              "      <td>...</td>\n",
              "      <td>...</td>\n",
              "      <td>...</td>\n",
              "      <td>...</td>\n",
              "      <td>...</td>\n",
              "      <td>...</td>\n",
              "      <td>...</td>\n",
              "      <td>...</td>\n",
              "      <td>...</td>\n",
              "      <td>...</td>\n",
              "      <td>...</td>\n",
              "    </tr>\n",
              "    <tr>\n",
              "      <th>209588</th>\n",
              "      <td>1</td>\n",
              "      <td>404.0</td>\n",
              "      <td>151.872333</td>\n",
              "      <td>151.872333</td>\n",
              "      <td>1089.19</td>\n",
              "      <td>1089.19</td>\n",
              "      <td>1.0</td>\n",
              "      <td>0.0</td>\n",
              "      <td>4048</td>\n",
              "      <td>3</td>\n",
              "      <td>2.0</td>\n",
              "      <td>10404.0</td>\n",
              "      <td>3178.0</td>\n",
              "      <td>91.81</td>\n",
              "      <td>3</td>\n",
              "      <td>2</td>\n",
              "      <td>10404</td>\n",
              "      <td>3178.0</td>\n",
              "      <td>91.81</td>\n",
              "      <td>0.0</td>\n",
              "      <td>0.0</td>\n",
              "      <td>0</td>\n",
              "      <td>0</td>\n",
              "      <td>2</td>\n",
              "      <td>12</td>\n",
              "      <td>6.0</td>\n",
              "      <td>0.0</td>\n",
              "      <td>2.0</td>\n",
              "      <td>12</td>\n",
              "      <td>6</td>\n",
              "      <td>0.0</td>\n",
              "      <td>1.000000</td>\n",
              "      <td>1.000000</td>\n",
              "    </tr>\n",
              "    <tr>\n",
              "      <th>209589</th>\n",
              "      <td>1</td>\n",
              "      <td>1075.0</td>\n",
              "      <td>36.936000</td>\n",
              "      <td>36.936000</td>\n",
              "      <td>1728.36</td>\n",
              "      <td>1728.36</td>\n",
              "      <td>4.0</td>\n",
              "      <td>0.0</td>\n",
              "      <td>773</td>\n",
              "      <td>4</td>\n",
              "      <td>1.0</td>\n",
              "      <td>3092.0</td>\n",
              "      <td>773.0</td>\n",
              "      <td>161.30</td>\n",
              "      <td>6</td>\n",
              "      <td>2</td>\n",
              "      <td>4038</td>\n",
              "      <td>773.0</td>\n",
              "      <td>111.80</td>\n",
              "      <td>0.0</td>\n",
              "      <td>0.0</td>\n",
              "      <td>0</td>\n",
              "      <td>0</td>\n",
              "      <td>3</td>\n",
              "      <td>18</td>\n",
              "      <td>6.0</td>\n",
              "      <td>0.0</td>\n",
              "      <td>3.0</td>\n",
              "      <td>18</td>\n",
              "      <td>6</td>\n",
              "      <td>0.0</td>\n",
              "      <td>1.000000</td>\n",
              "      <td>1.000000</td>\n",
              "    </tr>\n",
              "    <tr>\n",
              "      <th>209590</th>\n",
              "      <td>1</td>\n",
              "      <td>1013.0</td>\n",
              "      <td>11843.111667</td>\n",
              "      <td>11904.350000</td>\n",
              "      <td>5861.83</td>\n",
              "      <td>8893.20</td>\n",
              "      <td>3.0</td>\n",
              "      <td>0.0</td>\n",
              "      <td>1539</td>\n",
              "      <td>5</td>\n",
              "      <td>8.0</td>\n",
              "      <td>9334.0</td>\n",
              "      <td>1539.0</td>\n",
              "      <td>51.13</td>\n",
              "      <td>11</td>\n",
              "      <td>5</td>\n",
              "      <td>18592</td>\n",
              "      <td>1539.0</td>\n",
              "      <td>47.13</td>\n",
              "      <td>0.0</td>\n",
              "      <td>0.0</td>\n",
              "      <td>0</td>\n",
              "      <td>0</td>\n",
              "      <td>4</td>\n",
              "      <td>42</td>\n",
              "      <td>12.0</td>\n",
              "      <td>0.0</td>\n",
              "      <td>6.0</td>\n",
              "      <td>54</td>\n",
              "      <td>12</td>\n",
              "      <td>0.0</td>\n",
              "      <td>4.000000</td>\n",
              "      <td>3.833333</td>\n",
              "    </tr>\n",
              "    <tr>\n",
              "      <th>209591</th>\n",
              "      <td>1</td>\n",
              "      <td>1732.0</td>\n",
              "      <td>12488.228333</td>\n",
              "      <td>12574.370000</td>\n",
              "      <td>411.83</td>\n",
              "      <td>984.58</td>\n",
              "      <td>2.0</td>\n",
              "      <td>38.0</td>\n",
              "      <td>773</td>\n",
              "      <td>5</td>\n",
              "      <td>4.0</td>\n",
              "      <td>12154.0</td>\n",
              "      <td>773.0</td>\n",
              "      <td>164.00</td>\n",
              "      <td>6</td>\n",
              "      <td>4</td>\n",
              "      <td>17941</td>\n",
              "      <td>2410.5</td>\n",
              "      <td>100.00</td>\n",
              "      <td>0.0</td>\n",
              "      <td>0.0</td>\n",
              "      <td>1</td>\n",
              "      <td>0</td>\n",
              "      <td>2</td>\n",
              "      <td>18</td>\n",
              "      <td>12.0</td>\n",
              "      <td>0.0</td>\n",
              "      <td>3.0</td>\n",
              "      <td>24</td>\n",
              "      <td>12</td>\n",
              "      <td>0.0</td>\n",
              "      <td>0.000000</td>\n",
              "      <td>10.500000</td>\n",
              "    </tr>\n",
              "    <tr>\n",
              "      <th>209592</th>\n",
              "      <td>1</td>\n",
              "      <td>1581.0</td>\n",
              "      <td>4489.362000</td>\n",
              "      <td>4534.820000</td>\n",
              "      <td>483.92</td>\n",
              "      <td>631.20</td>\n",
              "      <td>13.0</td>\n",
              "      <td>0.0</td>\n",
              "      <td>7526</td>\n",
              "      <td>2</td>\n",
              "      <td>1.0</td>\n",
              "      <td>9065.0</td>\n",
              "      <td>4532.5</td>\n",
              "      <td>356.70</td>\n",
              "      <td>3</td>\n",
              "      <td>19</td>\n",
              "      <td>16591</td>\n",
              "      <td>7526.0</td>\n",
              "      <td>392.20</td>\n",
              "      <td>0.0</td>\n",
              "      <td>0.0</td>\n",
              "      <td>0</td>\n",
              "      <td>0</td>\n",
              "      <td>2</td>\n",
              "      <td>18</td>\n",
              "      <td>12.0</td>\n",
              "      <td>0.0</td>\n",
              "      <td>2.0</td>\n",
              "      <td>18</td>\n",
              "      <td>12</td>\n",
              "      <td>0.0</td>\n",
              "      <td>0.000000</td>\n",
              "      <td>0.000000</td>\n",
              "    </tr>\n",
              "  </tbody>\n",
              "</table>\n",
              "<p>209593 rows × 33 columns</p>\n",
              "</div>"
            ],
            "text/plain": [
              "        label     aon  daily_decr30  ...  medianamnt_loans90  payback30  payback90\n",
              "0           0   272.0   3055.050000  ...                 0.0  29.000000  29.000000\n",
              "1           1   712.0  12122.000000  ...                 0.0   0.000000   0.000000\n",
              "2           1   535.0   1398.000000  ...                 0.0   0.000000   0.000000\n",
              "3           1   241.0     21.228000  ...                 0.0   0.000000   0.000000\n",
              "4           1   947.0    150.619333  ...                 0.0   2.333333   2.333333\n",
              "...       ...     ...           ...  ...                 ...        ...        ...\n",
              "209588      1   404.0    151.872333  ...                 0.0   1.000000   1.000000\n",
              "209589      1  1075.0     36.936000  ...                 0.0   1.000000   1.000000\n",
              "209590      1  1013.0  11843.111667  ...                 0.0   4.000000   3.833333\n",
              "209591      1  1732.0  12488.228333  ...                 0.0   0.000000  10.500000\n",
              "209592      1  1581.0   4489.362000  ...                 0.0   0.000000   0.000000\n",
              "\n",
              "[209593 rows x 33 columns]"
            ]
          },
          "metadata": {
            "tags": []
          },
          "execution_count": 29
        }
      ]
    },
    {
      "cell_type": "code",
      "metadata": {
        "id": "kaDoybkiuMM3"
      },
      "source": [
        "from scipy.stats import zscore\n",
        "columns=['aon', 'daily_decr30', 'daily_decr90', 'rental30', 'rental90',\n",
        "       'last_rech_date_ma', 'last_rech_date_da', 'last_rech_amt_ma',\n",
        "       'cnt_ma_rech30', 'fr_ma_rech30', 'sumamnt_ma_rech30',\n",
        "       'medianamnt_ma_rech30', 'medianmarechprebal30', 'cnt_ma_rech90',\n",
        "       'fr_ma_rech90', 'sumamnt_ma_rech90', 'medianamnt_ma_rech90',\n",
        "       'medianmarechprebal90', 'cnt_da_rech30', 'fr_da_rech30',\n",
        "       'cnt_da_rech90', 'fr_da_rech90', 'cnt_loans30', 'amnt_loans30',\n",
        "       'maxamnt_loans30', 'medianamnt_loans30', 'cnt_loans90', 'amnt_loans90',\n",
        "       'maxamnt_loans90', 'medianamnt_loans90', 'payback30', 'payback90']\n",
        "for i in range(len(columns)):\n",
        "    loan[columns[i]]=zscore(loan[columns[i]])\n",
        "    for j in range(len(loan[columns[i]])):\n",
        "        if loan[columns[i]][j]>3 or loan[columns[i]][j]<-3:\n",
        "            loan[columns[i]].replace(loan[columns[i]][j],loan[columns[i]].median(),inplace=True)\n",
        "    loan[columns[i]]=np.cbrt((loan[columns[i]]))"
      ],
      "execution_count": 30,
      "outputs": []
    },
    {
      "cell_type": "code",
      "metadata": {
        "id": "_sL9OUOMufmn",
        "outputId": "008e614f-73a3-4b7f-f9de-8f24e0cc6c9e",
        "colab": {
          "base_uri": "https://localhost:8080/",
          "height": 304
        }
      },
      "source": [
        "loan.describe()"
      ],
      "execution_count": 31,
      "outputs": [
        {
          "output_type": "execute_result",
          "data": {
            "text/html": [
              "<div>\n",
              "<style scoped>\n",
              "    .dataframe tbody tr th:only-of-type {\n",
              "        vertical-align: middle;\n",
              "    }\n",
              "\n",
              "    .dataframe tbody tr th {\n",
              "        vertical-align: top;\n",
              "    }\n",
              "\n",
              "    .dataframe thead th {\n",
              "        text-align: right;\n",
              "    }\n",
              "</style>\n",
              "<table border=\"1\" class=\"dataframe\">\n",
              "  <thead>\n",
              "    <tr style=\"text-align: right;\">\n",
              "      <th></th>\n",
              "      <th>label</th>\n",
              "      <th>aon</th>\n",
              "      <th>daily_decr30</th>\n",
              "      <th>daily_decr90</th>\n",
              "      <th>rental30</th>\n",
              "      <th>rental90</th>\n",
              "      <th>last_rech_date_ma</th>\n",
              "      <th>last_rech_date_da</th>\n",
              "      <th>last_rech_amt_ma</th>\n",
              "      <th>cnt_ma_rech30</th>\n",
              "      <th>fr_ma_rech30</th>\n",
              "      <th>sumamnt_ma_rech30</th>\n",
              "      <th>medianamnt_ma_rech30</th>\n",
              "      <th>medianmarechprebal30</th>\n",
              "      <th>cnt_ma_rech90</th>\n",
              "      <th>fr_ma_rech90</th>\n",
              "      <th>sumamnt_ma_rech90</th>\n",
              "      <th>medianamnt_ma_rech90</th>\n",
              "      <th>medianmarechprebal90</th>\n",
              "      <th>cnt_da_rech30</th>\n",
              "      <th>fr_da_rech30</th>\n",
              "      <th>cnt_da_rech90</th>\n",
              "      <th>fr_da_rech90</th>\n",
              "      <th>cnt_loans30</th>\n",
              "      <th>amnt_loans30</th>\n",
              "      <th>maxamnt_loans30</th>\n",
              "      <th>medianamnt_loans30</th>\n",
              "      <th>cnt_loans90</th>\n",
              "      <th>amnt_loans90</th>\n",
              "      <th>maxamnt_loans90</th>\n",
              "      <th>medianamnt_loans90</th>\n",
              "      <th>payback30</th>\n",
              "      <th>payback90</th>\n",
              "    </tr>\n",
              "  </thead>\n",
              "  <tbody>\n",
              "    <tr>\n",
              "      <th>count</th>\n",
              "      <td>209593.000000</td>\n",
              "      <td>209593.000000</td>\n",
              "      <td>209593.000000</td>\n",
              "      <td>209593.000000</td>\n",
              "      <td>209593.000000</td>\n",
              "      <td>209593.000000</td>\n",
              "      <td>209593.000000</td>\n",
              "      <td>209593.000000</td>\n",
              "      <td>209593.000000</td>\n",
              "      <td>209593.000000</td>\n",
              "      <td>209593.000000</td>\n",
              "      <td>209593.000000</td>\n",
              "      <td>209593.000000</td>\n",
              "      <td>209593.000000</td>\n",
              "      <td>209593.000000</td>\n",
              "      <td>209593.000000</td>\n",
              "      <td>209593.000000</td>\n",
              "      <td>209593.000000</td>\n",
              "      <td>209593.000000</td>\n",
              "      <td>209593.000000</td>\n",
              "      <td>209593.000000</td>\n",
              "      <td>209593.000000</td>\n",
              "      <td>209593.000000</td>\n",
              "      <td>209593.000000</td>\n",
              "      <td>209593.000000</td>\n",
              "      <td>209593.000000</td>\n",
              "      <td>209593.000000</td>\n",
              "      <td>209593.000000</td>\n",
              "      <td>209593.000000</td>\n",
              "      <td>209593.000000</td>\n",
              "      <td>209593.000000</td>\n",
              "      <td>209593.000000</td>\n",
              "      <td>209593.000000</td>\n",
              "    </tr>\n",
              "    <tr>\n",
              "      <th>mean</th>\n",
              "      <td>0.875177</td>\n",
              "      <td>-0.461641</td>\n",
              "      <td>-0.296838</td>\n",
              "      <td>-0.310291</td>\n",
              "      <td>-0.310725</td>\n",
              "      <td>-0.317301</td>\n",
              "      <td>-0.411270</td>\n",
              "      <td>-0.411209</td>\n",
              "      <td>-0.332091</td>\n",
              "      <td>-0.198087</td>\n",
              "      <td>-0.411338</td>\n",
              "      <td>-0.243943</td>\n",
              "      <td>-0.315369</td>\n",
              "      <td>-0.410688</td>\n",
              "      <td>-0.244404</td>\n",
              "      <td>-0.349913</td>\n",
              "      <td>-0.266164</td>\n",
              "      <td>-0.321098</td>\n",
              "      <td>-0.291997</td>\n",
              "      <td>-0.396670</td>\n",
              "      <td>-0.411308</td>\n",
              "      <td>-0.434759</td>\n",
              "      <td>-0.362602</td>\n",
              "      <td>-0.223886</td>\n",
              "      <td>-0.238309</td>\n",
              "      <td>-0.397509</td>\n",
              "      <td>-0.568912</td>\n",
              "      <td>-0.395007</td>\n",
              "      <td>-0.263523</td>\n",
              "      <td>-0.433195</td>\n",
              "      <td>-0.560274</td>\n",
              "      <td>-0.303275</td>\n",
              "      <td>-0.325247</td>\n",
              "    </tr>\n",
              "    <tr>\n",
              "      <th>std</th>\n",
              "      <td>0.330519</td>\n",
              "      <td>0.010513</td>\n",
              "      <td>0.750761</td>\n",
              "      <td>0.734700</td>\n",
              "      <td>0.732641</td>\n",
              "      <td>0.721568</td>\n",
              "      <td>0.000352</td>\n",
              "      <td>0.000261</td>\n",
              "      <td>0.725188</td>\n",
              "      <td>0.798006</td>\n",
              "      <td>0.000200</td>\n",
              "      <td>0.754215</td>\n",
              "      <td>0.720378</td>\n",
              "      <td>0.024383</td>\n",
              "      <td>0.784411</td>\n",
              "      <td>0.748019</td>\n",
              "      <td>0.747401</td>\n",
              "      <td>0.718466</td>\n",
              "      <td>0.505550</td>\n",
              "      <td>0.034837</td>\n",
              "      <td>0.000016</td>\n",
              "      <td>0.253085</td>\n",
              "      <td>0.037775</td>\n",
              "      <td>0.801905</td>\n",
              "      <td>0.775996</td>\n",
              "      <td>0.033471</td>\n",
              "      <td>0.329861</td>\n",
              "      <td>0.083079</td>\n",
              "      <td>0.768254</td>\n",
              "      <td>0.683906</td>\n",
              "      <td>0.312250</td>\n",
              "      <td>0.618507</td>\n",
              "      <td>0.617527</td>\n",
              "    </tr>\n",
              "    <tr>\n",
              "      <th>min</th>\n",
              "      <td>0.000000</td>\n",
              "      <td>-0.475932</td>\n",
              "      <td>-0.840478</td>\n",
              "      <td>-0.826989</td>\n",
              "      <td>-1.390813</td>\n",
              "      <td>-1.416363</td>\n",
              "      <td>-0.412545</td>\n",
              "      <td>-0.412311</td>\n",
              "      <td>-0.954929</td>\n",
              "      <td>-0.977733</td>\n",
              "      <td>-0.411480</td>\n",
              "      <td>-0.912518</td>\n",
              "      <td>-0.956609</td>\n",
              "      <td>-0.421767</td>\n",
              "      <td>-0.957536</td>\n",
              "      <td>-0.849443</td>\n",
              "      <td>-0.902602</td>\n",
              "      <td>-0.963956</td>\n",
              "      <td>-0.924799</td>\n",
              "      <td>-0.397398</td>\n",
              "      <td>-0.411308</td>\n",
              "      <td>-0.470831</td>\n",
              "      <td>-0.363546</td>\n",
              "      <td>-1.026001</td>\n",
              "      <td>-1.010858</td>\n",
              "      <td>-0.401449</td>\n",
              "      <td>-0.628102</td>\n",
              "      <td>-0.435135</td>\n",
              "      <td>-0.963087</td>\n",
              "      <td>-0.693970</td>\n",
              "      <td>-0.612332</td>\n",
              "      <td>-0.727875</td>\n",
              "      <td>-0.748431</td>\n",
              "    </tr>\n",
              "    <tr>\n",
              "      <th>25%</th>\n",
              "      <td>1.000000</td>\n",
              "      <td>-0.470147</td>\n",
              "      <td>-0.833488</td>\n",
              "      <td>-0.820887</td>\n",
              "      <td>-0.824183</td>\n",
              "      <td>-0.820129</td>\n",
              "      <td>-0.411452</td>\n",
              "      <td>-0.411243</td>\n",
              "      <td>-0.817332</td>\n",
              "      <td>-0.887785</td>\n",
              "      <td>-0.411480</td>\n",
              "      <td>-0.847148</td>\n",
              "      <td>-0.795584</td>\n",
              "      <td>-0.414315</td>\n",
              "      <td>-0.843391</td>\n",
              "      <td>-0.849443</td>\n",
              "      <td>-0.842447</td>\n",
              "      <td>-0.806398</td>\n",
              "      <td>-0.594112</td>\n",
              "      <td>-0.397398</td>\n",
              "      <td>-0.411308</td>\n",
              "      <td>-0.470831</td>\n",
              "      <td>-0.363546</td>\n",
              "      <td>-0.883050</td>\n",
              "      <td>-0.882673</td>\n",
              "      <td>-0.398504</td>\n",
              "      <td>-0.628102</td>\n",
              "      <td>-0.427158</td>\n",
              "      <td>-0.873562</td>\n",
              "      <td>-0.693970</td>\n",
              "      <td>-0.612332</td>\n",
              "      <td>-0.727875</td>\n",
              "      <td>-0.748431</td>\n",
              "    </tr>\n",
              "    <tr>\n",
              "      <th>50%</th>\n",
              "      <td>1.000000</td>\n",
              "      <td>-0.464481</td>\n",
              "      <td>-0.751430</td>\n",
              "      <td>-0.748703</td>\n",
              "      <td>-0.720126</td>\n",
              "      <td>-0.719509</td>\n",
              "      <td>-0.411379</td>\n",
              "      <td>-0.411243</td>\n",
              "      <td>-0.605175</td>\n",
              "      <td>-0.612517</td>\n",
              "      <td>-0.411407</td>\n",
              "      <td>-0.671963</td>\n",
              "      <td>-0.509453</td>\n",
              "      <td>-0.413490</td>\n",
              "      <td>-0.685327</td>\n",
              "      <td>-0.768610</td>\n",
              "      <td>-0.674377</td>\n",
              "      <td>-0.538793</td>\n",
              "      <td>-0.533379</td>\n",
              "      <td>-0.397398</td>\n",
              "      <td>-0.411308</td>\n",
              "      <td>-0.470831</td>\n",
              "      <td>-0.363546</td>\n",
              "      <td>-0.667281</td>\n",
              "      <td>-0.699639</td>\n",
              "      <td>-0.398504</td>\n",
              "      <td>-0.628102</td>\n",
              "      <td>-0.418872</td>\n",
              "      <td>-0.760562</td>\n",
              "      <td>-0.693970</td>\n",
              "      <td>-0.612332</td>\n",
              "      <td>-0.727875</td>\n",
              "      <td>-0.636237</td>\n",
              "    </tr>\n",
              "    <tr>\n",
              "      <th>75%</th>\n",
              "      <td>1.000000</td>\n",
              "      <td>-0.455533</td>\n",
              "      <td>0.503735</td>\n",
              "      <td>0.438001</td>\n",
              "      <td>0.424411</td>\n",
              "      <td>0.383011</td>\n",
              "      <td>-0.411233</td>\n",
              "      <td>-0.411243</td>\n",
              "      <td>-0.389834</td>\n",
              "      <td>0.621545</td>\n",
              "      <td>-0.411260</td>\n",
              "      <td>0.565072</td>\n",
              "      <td>-0.355217</td>\n",
              "      <td>-0.411764</td>\n",
              "      <td>0.616383</td>\n",
              "      <td>0.282291</td>\n",
              "      <td>0.542383</td>\n",
              "      <td>-0.399868</td>\n",
              "      <td>-0.336161</td>\n",
              "      <td>-0.397398</td>\n",
              "      <td>-0.411308</td>\n",
              "      <td>-0.470831</td>\n",
              "      <td>-0.363546</td>\n",
              "      <td>0.455249</td>\n",
              "      <td>0.703379</td>\n",
              "      <td>-0.398504</td>\n",
              "      <td>-0.628102</td>\n",
              "      <td>-0.391807</td>\n",
              "      <td>0.621507</td>\n",
              "      <td>-0.693970</td>\n",
              "      <td>-0.612332</td>\n",
              "      <td>0.225581</td>\n",
              "      <td>-0.190698</td>\n",
              "    </tr>\n",
              "    <tr>\n",
              "      <th>max</th>\n",
              "      <td>1.000000</td>\n",
              "      <td>-0.421596</td>\n",
              "      <td>1.442229</td>\n",
              "      <td>1.442203</td>\n",
              "      <td>1.442220</td>\n",
              "      <td>1.442244</td>\n",
              "      <td>-0.407320</td>\n",
              "      <td>-0.406952</td>\n",
              "      <td>1.357865</td>\n",
              "      <td>1.413584</td>\n",
              "      <td>-0.410081</td>\n",
              "      <td>1.442055</td>\n",
              "      <td>1.440282</td>\n",
              "      <td>0.760559</td>\n",
              "      <td>1.422011</td>\n",
              "      <td>1.436018</td>\n",
              "      <td>1.442207</td>\n",
              "      <td>1.433761</td>\n",
              "      <td>1.441959</td>\n",
              "      <td>1.441658</td>\n",
              "      <td>-0.410392</td>\n",
              "      <td>1.340909</td>\n",
              "      <td>1.271191</td>\n",
              "      <td>1.415245</td>\n",
              "      <td>1.403495</td>\n",
              "      <td>1.441541</td>\n",
              "      <td>1.269380</td>\n",
              "      <td>0.615742</td>\n",
              "      <td>1.435835</td>\n",
              "      <td>1.360402</td>\n",
              "      <td>1.312657</td>\n",
              "      <td>1.442129</td>\n",
              "      <td>1.441538</td>\n",
              "    </tr>\n",
              "  </tbody>\n",
              "</table>\n",
              "</div>"
            ],
            "text/plain": [
              "               label            aon  ...      payback30      payback90\n",
              "count  209593.000000  209593.000000  ...  209593.000000  209593.000000\n",
              "mean        0.875177      -0.461641  ...      -0.303275      -0.325247\n",
              "std         0.330519       0.010513  ...       0.618507       0.617527\n",
              "min         0.000000      -0.475932  ...      -0.727875      -0.748431\n",
              "25%         1.000000      -0.470147  ...      -0.727875      -0.748431\n",
              "50%         1.000000      -0.464481  ...      -0.727875      -0.636237\n",
              "75%         1.000000      -0.455533  ...       0.225581      -0.190698\n",
              "max         1.000000      -0.421596  ...       1.442129       1.441538\n",
              "\n",
              "[8 rows x 33 columns]"
            ]
          },
          "metadata": {
            "tags": []
          },
          "execution_count": 31
        }
      ]
    },
    {
      "cell_type": "code",
      "metadata": {
        "id": "h9Ki4aUMsqzb"
      },
      "source": [
        "from statsmodels.stats.outliers_influence import variance_inflation_factor"
      ],
      "execution_count": 32,
      "outputs": []
    },
    {
      "cell_type": "code",
      "metadata": {
        "id": "ggaxrCeKsqzh"
      },
      "source": [
        "vif= pd.DataFrame()\n",
        "vif['Features'] = loan.columns\n",
        "vif['vif']=[variance_inflation_factor(loan.values,i) for i in range(loan.shape[1])]\n"
      ],
      "execution_count": 33,
      "outputs": []
    },
    {
      "cell_type": "code",
      "metadata": {
        "id": "5uzkQK6Bsqzn",
        "outputId": "8ce6d516-a6fe-4054-e55f-d550a8b03b08",
        "colab": {
          "base_uri": "https://localhost:8080/",
          "height": 876
        }
      },
      "source": [
        "vif[vif['vif']>4]"
      ],
      "execution_count": 34,
      "outputs": [
        {
          "output_type": "execute_result",
          "data": {
            "text/html": [
              "<div>\n",
              "<style scoped>\n",
              "    .dataframe tbody tr th:only-of-type {\n",
              "        vertical-align: middle;\n",
              "    }\n",
              "\n",
              "    .dataframe tbody tr th {\n",
              "        vertical-align: top;\n",
              "    }\n",
              "\n",
              "    .dataframe thead th {\n",
              "        text-align: right;\n",
              "    }\n",
              "</style>\n",
              "<table border=\"1\" class=\"dataframe\">\n",
              "  <thead>\n",
              "    <tr style=\"text-align: right;\">\n",
              "      <th></th>\n",
              "      <th>Features</th>\n",
              "      <th>vif</th>\n",
              "    </tr>\n",
              "  </thead>\n",
              "  <tbody>\n",
              "    <tr>\n",
              "      <th>0</th>\n",
              "      <td>label</td>\n",
              "      <td>9.392739e+00</td>\n",
              "    </tr>\n",
              "    <tr>\n",
              "      <th>1</th>\n",
              "      <td>aon</td>\n",
              "      <td>1.969634e+03</td>\n",
              "    </tr>\n",
              "    <tr>\n",
              "      <th>2</th>\n",
              "      <td>daily_decr30</td>\n",
              "      <td>1.249496e+01</td>\n",
              "    </tr>\n",
              "    <tr>\n",
              "      <th>3</th>\n",
              "      <td>daily_decr90</td>\n",
              "      <td>1.301844e+01</td>\n",
              "    </tr>\n",
              "    <tr>\n",
              "      <th>4</th>\n",
              "      <td>rental30</td>\n",
              "      <td>6.181708e+00</td>\n",
              "    </tr>\n",
              "    <tr>\n",
              "      <th>5</th>\n",
              "      <td>rental90</td>\n",
              "      <td>6.725437e+00</td>\n",
              "    </tr>\n",
              "    <tr>\n",
              "      <th>6</th>\n",
              "      <td>last_rech_date_ma</td>\n",
              "      <td>1.740982e+06</td>\n",
              "    </tr>\n",
              "    <tr>\n",
              "      <th>7</th>\n",
              "      <td>last_rech_date_da</td>\n",
              "      <td>4.392228e+06</td>\n",
              "    </tr>\n",
              "    <tr>\n",
              "      <th>9</th>\n",
              "      <td>cnt_ma_rech30</td>\n",
              "      <td>4.532500e+00</td>\n",
              "    </tr>\n",
              "    <tr>\n",
              "      <th>10</th>\n",
              "      <td>fr_ma_rech30</td>\n",
              "      <td>6.089060e+06</td>\n",
              "    </tr>\n",
              "    <tr>\n",
              "      <th>11</th>\n",
              "      <td>sumamnt_ma_rech30</td>\n",
              "      <td>4.333618e+00</td>\n",
              "    </tr>\n",
              "    <tr>\n",
              "      <th>12</th>\n",
              "      <td>medianamnt_ma_rech30</td>\n",
              "      <td>5.734968e+00</td>\n",
              "    </tr>\n",
              "    <tr>\n",
              "      <th>13</th>\n",
              "      <td>medianmarechprebal30</td>\n",
              "      <td>2.944116e+02</td>\n",
              "    </tr>\n",
              "    <tr>\n",
              "      <th>14</th>\n",
              "      <td>cnt_ma_rech90</td>\n",
              "      <td>4.917344e+00</td>\n",
              "    </tr>\n",
              "    <tr>\n",
              "      <th>16</th>\n",
              "      <td>sumamnt_ma_rech90</td>\n",
              "      <td>4.881524e+00</td>\n",
              "    </tr>\n",
              "    <tr>\n",
              "      <th>17</th>\n",
              "      <td>medianamnt_ma_rech90</td>\n",
              "      <td>5.504152e+00</td>\n",
              "    </tr>\n",
              "    <tr>\n",
              "      <th>19</th>\n",
              "      <td>cnt_da_rech30</td>\n",
              "      <td>1.306653e+02</td>\n",
              "    </tr>\n",
              "    <tr>\n",
              "      <th>20</th>\n",
              "      <td>fr_da_rech30</td>\n",
              "      <td>1.284196e+07</td>\n",
              "    </tr>\n",
              "    <tr>\n",
              "      <th>21</th>\n",
              "      <td>cnt_da_rech90</td>\n",
              "      <td>6.945095e+00</td>\n",
              "    </tr>\n",
              "    <tr>\n",
              "      <th>22</th>\n",
              "      <td>fr_da_rech90</td>\n",
              "      <td>9.372797e+01</td>\n",
              "    </tr>\n",
              "    <tr>\n",
              "      <th>23</th>\n",
              "      <td>cnt_loans30</td>\n",
              "      <td>1.011934e+01</td>\n",
              "    </tr>\n",
              "    <tr>\n",
              "      <th>24</th>\n",
              "      <td>amnt_loans30</td>\n",
              "      <td>1.225756e+01</td>\n",
              "    </tr>\n",
              "    <tr>\n",
              "      <th>25</th>\n",
              "      <td>maxamnt_loans30</td>\n",
              "      <td>1.421635e+02</td>\n",
              "    </tr>\n",
              "    <tr>\n",
              "      <th>26</th>\n",
              "      <td>medianamnt_loans30</td>\n",
              "      <td>9.181007e+00</td>\n",
              "    </tr>\n",
              "    <tr>\n",
              "      <th>27</th>\n",
              "      <td>cnt_loans90</td>\n",
              "      <td>3.017263e+01</td>\n",
              "    </tr>\n",
              "    <tr>\n",
              "      <th>28</th>\n",
              "      <td>amnt_loans90</td>\n",
              "      <td>5.103589e+00</td>\n",
              "    </tr>\n",
              "    <tr>\n",
              "      <th>30</th>\n",
              "      <td>medianamnt_loans90</td>\n",
              "      <td>9.700120e+00</td>\n",
              "    </tr>\n",
              "    <tr>\n",
              "      <th>31</th>\n",
              "      <td>payback30</td>\n",
              "      <td>4.042859e+00</td>\n",
              "    </tr>\n",
              "  </tbody>\n",
              "</table>\n",
              "</div>"
            ],
            "text/plain": [
              "                Features           vif\n",
              "0                  label  9.392739e+00\n",
              "1                    aon  1.969634e+03\n",
              "2           daily_decr30  1.249496e+01\n",
              "3           daily_decr90  1.301844e+01\n",
              "4               rental30  6.181708e+00\n",
              "5               rental90  6.725437e+00\n",
              "6      last_rech_date_ma  1.740982e+06\n",
              "7      last_rech_date_da  4.392228e+06\n",
              "9          cnt_ma_rech30  4.532500e+00\n",
              "10          fr_ma_rech30  6.089060e+06\n",
              "11     sumamnt_ma_rech30  4.333618e+00\n",
              "12  medianamnt_ma_rech30  5.734968e+00\n",
              "13  medianmarechprebal30  2.944116e+02\n",
              "14         cnt_ma_rech90  4.917344e+00\n",
              "16     sumamnt_ma_rech90  4.881524e+00\n",
              "17  medianamnt_ma_rech90  5.504152e+00\n",
              "19         cnt_da_rech30  1.306653e+02\n",
              "20          fr_da_rech30  1.284196e+07\n",
              "21         cnt_da_rech90  6.945095e+00\n",
              "22          fr_da_rech90  9.372797e+01\n",
              "23           cnt_loans30  1.011934e+01\n",
              "24          amnt_loans30  1.225756e+01\n",
              "25       maxamnt_loans30  1.421635e+02\n",
              "26    medianamnt_loans30  9.181007e+00\n",
              "27           cnt_loans90  3.017263e+01\n",
              "28          amnt_loans90  5.103589e+00\n",
              "30    medianamnt_loans90  9.700120e+00\n",
              "31             payback30  4.042859e+00"
            ]
          },
          "metadata": {
            "tags": []
          },
          "execution_count": 34
        }
      ]
    },
    {
      "cell_type": "markdown",
      "metadata": {
        "id": "zRF88pK7sqzu"
      },
      "source": [
        "Using Variance Inflation Factor (VIF) is a measure of colinearity among predictor variables within a multiple regression. It is calculated by taking the the ratio of the variance of all a given model's betas divide by the variane of a single beta if it were fit alone.\n",
        "From the above results we can see that there are  many features having strong multicollinearity in the data set. This resembles that there is need to go for PCA (Principal Component Analysis).\n",
        "If we won’t perform PCA the noise or correlation between the independent variables will affect the model prediction and model results. More than 50% of the features are having vif >4 so it is mandatory to perform PCA in order to reduce the multicollinearity effect among the independent variables."
      ]
    },
    {
      "cell_type": "code",
      "metadata": {
        "id": "MX4YMPPVsqzv"
      },
      "source": [
        "from sklearn.decomposition import PCA"
      ],
      "execution_count": 35,
      "outputs": []
    },
    {
      "cell_type": "code",
      "metadata": {
        "id": "sRYJfIassqz2",
        "outputId": "ee5c0444-f3c1-4bf7-9b82-40cc4fb8bfbc",
        "colab": {
          "base_uri": "https://localhost:8080/"
        }
      },
      "source": [
        "pca=PCA()\n",
        "pca.fit(loan)"
      ],
      "execution_count": 36,
      "outputs": [
        {
          "output_type": "execute_result",
          "data": {
            "text/plain": [
              "PCA(copy=True, iterated_power='auto', n_components=None, random_state=None,\n",
              "    svd_solver='auto', tol=0.0, whiten=False)"
            ]
          },
          "metadata": {
            "tags": []
          },
          "execution_count": 36
        }
      ]
    },
    {
      "cell_type": "code",
      "metadata": {
        "id": "C2Qx-Z9ysqz-"
      },
      "source": [
        "data_pca= pca.transform(loan)"
      ],
      "execution_count": 37,
      "outputs": []
    },
    {
      "cell_type": "code",
      "metadata": {
        "id": "txWdGmt2sq0E",
        "outputId": "9b02890f-fe15-4ca1-cc9c-56aa4faf9202",
        "colab": {
          "base_uri": "https://localhost:8080/"
        }
      },
      "source": [
        "cumsum=np.cumsum(pca.explained_variance_ratio_)\n",
        "cumsum"
      ],
      "execution_count": 38,
      "outputs": [
        {
          "output_type": "execute_result",
          "data": {
            "text/plain": [
              "array([0.36106899, 0.51696053, 0.61071441, 0.68775447, 0.73900346,\n",
              "       0.78156818, 0.81938597, 0.84976473, 0.87295041, 0.89373728,\n",
              "       0.91086954, 0.92731904, 0.94114312, 0.95060715, 0.95952021,\n",
              "       0.96698043, 0.97387131, 0.9800014 , 0.98589721, 0.99087696,\n",
              "       0.99404692, 0.99660267, 0.99905098, 0.99957184, 0.99970924,\n",
              "       0.99982621, 0.99993411, 0.99998954, 0.99999998, 0.99999999,\n",
              "       1.        , 1.        , 1.        ])"
            ]
          },
          "metadata": {
            "tags": []
          },
          "execution_count": 38
        }
      ]
    },
    {
      "cell_type": "code",
      "metadata": {
        "id": "ivE0Ryx5sq0K",
        "outputId": "06f696fd-2f94-4f4c-88ab-120e53eb510e",
        "colab": {
          "base_uri": "https://localhost:8080/",
          "height": 388
        }
      },
      "source": [
        "plt.figure(figsize=(10,6))\n",
        "\n",
        "plt.plot(range(0,33), cumsum, color='k', lw=2)\n",
        "\n",
        "plt.xlabel('Number of components')\n",
        "plt.ylabel('Total explained variance')\n",
        "\n",
        "plt.axvline(8, c='b')\n",
        "plt.axhline(0.9, c='r')\n",
        "\n",
        "plt.show()\n"
      ],
      "execution_count": 39,
      "outputs": [
        {
          "output_type": "display_data",
          "data": {
            "image/png": "[encoded data removed]",
            "text/plain": [
              "<Figure size 720x432 with 1 Axes>"
            ]
          },
          "metadata": {
            "tags": [],
            "needs_background": "light"
          }
        }
      ]
    },
    {
      "cell_type": "code",
      "metadata": {
        "id": "z1F7Yt_ysq0Q",
        "outputId": "92682fb2-72b6-414b-a8de-f762cb4c2a67",
        "colab": {
          "base_uri": "https://localhost:8080/"
        }
      },
      "source": [
        "cov_matrix = np.cov(loan.T)\n",
        "print('Covariance Matrix \\n%s', cov_matrix)"
      ],
      "execution_count": 40,
      "outputs": [
        {
          "output_type": "stream",
          "text": [
            "Covariance Matrix \n",
            "%s [[ 1.09242643e-01  2.69944709e-04  5.08868517e-02 ...  2.39251438e-03\n",
            "   3.22521218e-02  2.87475043e-02]\n",
            " [ 2.69944709e-04  1.10530498e-04  5.96454189e-04 ... -4.78234527e-06\n",
            "   1.28083927e-04  2.12521954e-04]\n",
            " [ 5.08868517e-02  5.96454189e-04  5.63641611e-01 ... -5.15869914e-03\n",
            "   8.82617731e-02  8.98069755e-02]\n",
            " ...\n",
            " [ 2.39251438e-03 -4.78234527e-06 -5.15869914e-03 ...  9.75001146e-02\n",
            "  -2.13322228e-03  1.83662697e-03]\n",
            " [ 3.22521218e-02  1.28083927e-04  8.82617731e-02 ... -2.13322228e-03\n",
            "   3.82551451e-01  3.02046363e-01]\n",
            " [ 2.87475043e-02  2.12521954e-04  8.98069755e-02 ...  1.83662697e-03\n",
            "   3.02046363e-01  3.81340038e-01]]\n"
          ],
          "name": "stdout"
        }
      ]
    },
    {
      "cell_type": "code",
      "metadata": {
        "id": "LXeByLnksq0V"
      },
      "source": [
        "eig_vals, eig_vecs = np.linalg.eig(cov_matrix)"
      ],
      "execution_count": 41,
      "outputs": []
    },
    {
      "cell_type": "code",
      "metadata": {
        "id": "WX9XgRQtsq0b"
      },
      "source": [
        "eigen_pairs = [(np.abs(eig_vals[i]), eig_vecs[ :, i]) for i in range(len(eig_vals))]\n"
      ],
      "execution_count": 42,
      "outputs": []
    },
    {
      "cell_type": "code",
      "metadata": {
        "id": "h_qhtkZrsq0g",
        "outputId": "bf95c44f-c85e-48f7-9159-b3d5d1b6525c",
        "colab": {
          "base_uri": "https://localhost:8080/"
        }
      },
      "source": [
        "tot = sum(eig_vals)\n",
        "var_exp = [( i /tot ) * 100 for i in sorted(eig_vals, reverse=True)]\n",
        "cum_var_exp = np.cumsum(var_exp)\n",
        "print(\"Cumulative Variance Explained\", cum_var_exp)"
      ],
      "execution_count": 43,
      "outputs": [
        {
          "output_type": "stream",
          "text": [
            "Cumulative Variance Explained [ 36.1068992   51.69605293  61.07144078  68.77544735  73.90034621\n",
            "  78.15681787  81.93859739  84.97647316  87.29504076  89.373728\n",
            "  91.08695446  92.73190416  94.11431174  95.06071525  95.95202097\n",
            "  96.6980435   97.38713067  98.00013994  98.58972082  99.08769628\n",
            "  99.40469188  99.6602671   99.90509834  99.95718414  99.97092401\n",
            "  99.98262146  99.99341135  99.99895399  99.99999841  99.99999936\n",
            "  99.99999973 100.         100.        ]\n"
          ],
          "name": "stdout"
        }
      ]
    },
    {
      "cell_type": "code",
      "metadata": {
        "id": "ZFgRuCqdsq0n",
        "outputId": "34bfd363-1b7a-4c19-86f8-a3594b5d3ba1",
        "colab": {
          "base_uri": "https://localhost:8080/",
          "height": 297
        }
      },
      "source": [
        "plt.figure(figsize=(6 , 4))\n",
        "plt.bar(range(33), var_exp, alpha = 0.5, align = 'center', label = 'Individual explained variance')\n",
        "plt.step(range(33), cum_var_exp, where='mid', label = 'Cumulative explained variance')\n",
        "plt.ylabel('Explained Variance Ratio')\n",
        "plt.xlabel('Principal Components')\n",
        "plt.legend(loc = 'best')\n",
        "plt.tight_layout()\n",
        "plt.show()"
      ],
      "execution_count": 44,
      "outputs": [
        {
          "output_type": "display_data",
          "data": {
            "image/png": "[encoded data removed]",
            "text/plain": [
              "<Figure size 432x288 with 1 Axes>"
            ]
          },
          "metadata": {
            "tags": [],
            "needs_background": "light"
          }
        }
      ]
    },
    {
      "cell_type": "code",
      "metadata": {
        "id": "yDeww0fDsq0w",
        "outputId": "cfb80ef4-ed39-45bd-efa4-cc13157b3a37",
        "colab": {
          "base_uri": "https://localhost:8080/"
        }
      },
      "source": [
        "pca = PCA(n_components=13)\n",
        "pca.fit(loan)\n",
        "data_pca = pd.DataFrame(pca.transform(loan))\n",
        "data_pca.shape"
      ],
      "execution_count": 46,
      "outputs": [
        {
          "output_type": "execute_result",
          "data": {
            "text/plain": [
              "(209593, 13)"
            ]
          },
          "metadata": {
            "tags": []
          },
          "execution_count": 46
        }
      ]
    },
    {
      "cell_type": "code",
      "metadata": {
        "id": "wGyut3WTsq02"
      },
      "source": [
        "x=data_pca\n",
        "y=loan['label']"
      ],
      "execution_count": 47,
      "outputs": []
    },
    {
      "cell_type": "code",
      "metadata": {
        "id": "IqT8tt9Zsq05",
        "outputId": "397483f3-3601-487d-cfc1-bd11b1277b9e",
        "colab": {
          "base_uri": "https://localhost:8080/"
        }
      },
      "source": [
        "from sklearn.model_selection import train_test_split,cross_val_score\n",
        "x_train, x_test, y_train, y_test = train_test_split(x, y, test_size=0.3, random_state=1)\n",
        "\n",
        "print(x_train.shape)\n",
        "print(x_test.shape)\n",
        "print(y_train.shape)\n",
        "print(y_test.shape)"
      ],
      "execution_count": 48,
      "outputs": [
        {
          "output_type": "stream",
          "text": [
            "(146715, 13)\n",
            "(62878, 13)\n",
            "(146715,)\n",
            "(62878,)\n"
          ],
          "name": "stdout"
        }
      ]
    },
    {
      "cell_type": "markdown",
      "metadata": {
        "id": "-Amy1IuFyI-U"
      },
      "source": [
        "# LogisticRegression\n"
      ]
    },
    {
      "cell_type": "code",
      "metadata": {
        "id": "hiQcSamKsq1E",
        "outputId": "054f0e7a-cc3a-4b73-99c2-a0f1a6877134",
        "colab": {
          "base_uri": "https://localhost:8080/"
        }
      },
      "source": [
        "from sklearn.linear_model import LogisticRegression\n",
        "model1 = LogisticRegression()\n",
        "model1.fit(x_train, y_train)"
      ],
      "execution_count": 49,
      "outputs": [
        {
          "output_type": "execute_result",
          "data": {
            "text/plain": [
              "LogisticRegression(C=1.0, class_weight=None, dual=False, fit_intercept=True,\n",
              "                   intercept_scaling=1, l1_ratio=None, max_iter=100,\n",
              "                   multi_class='auto', n_jobs=None, penalty='l2',\n",
              "                   random_state=None, solver='lbfgs', tol=0.0001, verbose=0,\n",
              "                   warm_start=False)"
            ]
          },
          "metadata": {
            "tags": []
          },
          "execution_count": 49
        }
      ]
    },
    {
      "cell_type": "code",
      "metadata": {
        "id": "JXOEZfeQsq1N",
        "outputId": "c3b1fb75-a0e7-4302-e3dc-ffeb4d2a2af7",
        "colab": {
          "base_uri": "https://localhost:8080/"
        }
      },
      "source": [
        "print('Training score =', model1.score(x_train, y_train))\n",
        "print('Test score =', model1.score(x_test, y_test))"
      ],
      "execution_count": 50,
      "outputs": [
        {
          "output_type": "stream",
          "text": [
            "Training score = 0.8861397948403367\n",
            "Test score = 0.8876554597792551\n"
          ],
          "name": "stdout"
        }
      ]
    },
    {
      "cell_type": "code",
      "metadata": {
        "id": "tRPtpPI7sq1S",
        "outputId": "6933bef6-ef2c-4fcb-ff81-14c24c8b3293",
        "colab": {
          "base_uri": "https://localhost:8080/",
          "height": 281
        }
      },
      "source": [
        "from sklearn.metrics import confusion_matrix\n",
        "ypred = model1.predict(x_test)\n",
        "cm = confusion_matrix(y_test, ypred)\n",
        "sns.heatmap(cm, annot=True, fmt='d')\n",
        "plt.title('Confusion Matrix')\n",
        "plt.show()"
      ],
      "execution_count": 51,
      "outputs": [
        {
          "output_type": "display_data",
          "data": {
            "image/png": "[encoded data removed]",
            "text/plain": [
              "<Figure size 432x288 with 2 Axes>"
            ]
          },
          "metadata": {
            "tags": [],
            "needs_background": "light"
          }
        }
      ]
    },
    {
      "cell_type": "code",
      "metadata": {
        "id": "1pyY052Osq1Y",
        "outputId": "988b20eb-87dd-43cb-8e71-2fadd97e9d3d",
        "colab": {
          "base_uri": "https://localhost:8080/"
        }
      },
      "source": [
        "tn = cm[0,0]  #True Negative\n",
        "tp = cm[1,1]  #True Positives\n",
        "fp = cm[0,1]  #False Positives\n",
        "fn = cm[1,0]  #False Negatives\n",
        "\n",
        "accuracy = (tp+tn)/(tp+fn+fp+tn)\n",
        "precision = tp / (tp+fp)\n",
        "recall = tp / (tp+fn)\n",
        "f1 = 2*precision*recall / (precision+recall)\n",
        "\n",
        "print('Accuracy =',accuracy)\n",
        "print('Precision =', precision)\n",
        "print('Recall =', recall)\n",
        "print('F1 Score =', f1)"
      ],
      "execution_count": 52,
      "outputs": [
        {
          "output_type": "stream",
          "text": [
            "Accuracy = 0.8876554597792551\n",
            "Precision = 0.8891697862479135\n",
            "Recall = 0.9959159965875882\n",
            "F1 Score = 0.9395205479452055\n"
          ],
          "name": "stdout"
        }
      ]
    },
    {
      "cell_type": "code",
      "metadata": {
        "id": "FXFKrCTFsq1d",
        "outputId": "fd8a957d-d21e-4b93-ccee-a6fded90e73e",
        "colab": {
          "base_uri": "https://localhost:8080/",
          "height": 312
        }
      },
      "source": [
        "ypred = model1.predict_proba(x_test)\n",
        "fpr,tpr,threshold = roc_curve(y_test,ypred[:,1])\n",
        "roc_auc = roc_auc_score(y_test,ypred[:,1])\n",
        "\n",
        "print('ROC AUC =', roc_auc)\n",
        "plt.figure()\n",
        "lw = 2\n",
        "plt.plot(fpr,tpr,color='darkorange',lw=lw,label='ROC Curve (area = %0.2f)'%roc_auc)\n",
        "plt.plot([0,1],[0,1],color='navy',lw=lw,linestyle='--')\n",
        "plt.xlim([0.0, 1.0])\n",
        "plt.ylim([0.0, 1.05])\n",
        "plt.xlabel('FPR')\n",
        "plt.ylabel('TPR')\n",
        "plt.title('ROC Curve')\n",
        "plt.legend(loc='lower right')\n",
        "plt.show()"
      ],
      "execution_count": 53,
      "outputs": [
        {
          "output_type": "stream",
          "text": [
            "ROC AUC = 0.8665030850328039\n"
          ],
          "name": "stdout"
        },
        {
          "output_type": "display_data",
          "data": {
            "image/png": "[encoded data removed]",
            "text/plain": [
              "<Figure size 432x288 with 1 Axes>"
            ]
          },
          "metadata": {
            "tags": [],
            "needs_background": "light"
          }
        }
      ]
    },
    {
      "cell_type": "markdown",
      "metadata": {
        "id": "ucHC9wtiyr61"
      },
      "source": [
        "From the above results it is observed that all the metrics accuracy, precision, recall and f1-score are good.Different classification algorithms (K-Neighbours Classifier,BaggingClassifier, Decision Tree Classifier, and Gaussian NB, Random Forest) were run on the dataset through K-fold cross validation and the best-performing one was (identified by observing bias and variance errors) and used to build the classification model."
      ]
    },
    {
      "cell_type": "code",
      "metadata": {
        "id": "IY_qTE9Osq1n"
      },
      "source": [
        "from sklearn.neighbors import KNeighborsClassifier\n",
        "from sklearn.tree import DecisionTreeClassifier\n",
        "from sklearn.ensemble import RandomForestClassifier,BaggingClassifier"
      ],
      "execution_count": 54,
      "outputs": []
    },
    {
      "cell_type": "markdown",
      "metadata": {
        "id": "IBFs3jvzy3Fj"
      },
      "source": [
        "#KNN"
      ]
    },
    {
      "cell_type": "code",
      "metadata": {
        "id": "kKEOnzTvsq1w",
        "outputId": "69f02efd-47a0-450a-a248-98417403b463",
        "colab": {
          "base_uri": "https://localhost:8080/"
        }
      },
      "source": [
        "from sklearn.model_selection import RandomizedSearchCV\n",
        "knn=KNeighborsClassifier()\n",
        "param={'n_neighbors':np.arange(5,30),'weights':['uniform','distance']}\n",
        "RS=RandomizedSearchCV(knn,param,cv=3,scoring='f1_weighted',n_jobs=-1)\n",
        "RS.fit(x_train,y_train)\n",
        "print(RS.best_params_)"
      ],
      "execution_count": 55,
      "outputs": [
        {
          "output_type": "stream",
          "text": [
            "{'weights': 'uniform', 'n_neighbors': 6}\n"
          ],
          "name": "stdout"
        }
      ]
    },
    {
      "cell_type": "markdown",
      "metadata": {
        "id": "eylaf9jtzso8"
      },
      "source": [
        "#Decision Tree"
      ]
    },
    {
      "cell_type": "code",
      "metadata": {
        "id": "7g_1UUk1sq14"
      },
      "source": [
        "dt=DecisionTreeClassifier(random_state=0)"
      ],
      "execution_count": 56,
      "outputs": []
    },
    {
      "cell_type": "code",
      "metadata": {
        "id": "0_l5FFqusq18",
        "outputId": "e8e1153d-2a43-4c3f-ace8-4e8e81573c0f",
        "colab": {
          "base_uri": "https://localhost:8080/"
        }
      },
      "source": [
        "param={'max_depth':np.arange(3,50),'criterion':['entropy','gini'],'min_samples_leaf':np.arange(3,20)}\n",
        "RS=RandomizedSearchCV(dt,param,cv=3,scoring='f1_weighted')\n",
        "RS.fit(x_train,y_train)"
      ],
      "execution_count": 57,
      "outputs": [
        {
          "output_type": "execute_result",
          "data": {
            "text/plain": [
              "RandomizedSearchCV(cv=3, error_score=nan,\n",
              "                   estimator=DecisionTreeClassifier(ccp_alpha=0.0,\n",
              "                                                    class_weight=None,\n",
              "                                                    criterion='gini',\n",
              "                                                    max_depth=None,\n",
              "                                                    max_features=None,\n",
              "                                                    max_leaf_nodes=None,\n",
              "                                                    min_impurity_decrease=0.0,\n",
              "                                                    min_impurity_split=None,\n",
              "                                                    min_samples_leaf=1,\n",
              "                                                    min_samples_split=2,\n",
              "                                                    min_weight_fraction_leaf=0.0,\n",
              "                                                    presort='deprecated',\n",
              "                                                    random_state=0,\n",
              "                                                    splitter='best'),\n",
              "                   iid=...\n",
              "                   param_distributions={'criterion': ['entropy', 'gini'],\n",
              "                                        'max_depth': array([ 3,  4,  5,  6,  7,  8,  9, 10, 11, 12, 13, 14, 15, 16, 17, 18, 19,\n",
              "       20, 21, 22, 23, 24, 25, 26, 27, 28, 29, 30, 31, 32, 33, 34, 35, 36,\n",
              "       37, 38, 39, 40, 41, 42, 43, 44, 45, 46, 47, 48, 49]),\n",
              "                                        'min_samples_leaf': array([ 3,  4,  5,  6,  7,  8,  9, 10, 11, 12, 13, 14, 15, 16, 17, 18, 19])},\n",
              "                   pre_dispatch='2*n_jobs', random_state=None, refit=True,\n",
              "                   return_train_score=False, scoring='f1_weighted', verbose=0)"
            ]
          },
          "metadata": {
            "tags": []
          },
          "execution_count": 57
        }
      ]
    },
    {
      "cell_type": "code",
      "metadata": {
        "id": "NdSavbZ5sq2D",
        "outputId": "a2040ba6-0054-448f-dc90-78e27f7a10f6",
        "colab": {
          "base_uri": "https://localhost:8080/"
        }
      },
      "source": [
        "RS.best_params_"
      ],
      "execution_count": 58,
      "outputs": [
        {
          "output_type": "execute_result",
          "data": {
            "text/plain": [
              "{'criterion': 'entropy', 'max_depth': 46, 'min_samples_leaf': 19}"
            ]
          },
          "metadata": {
            "tags": []
          },
          "execution_count": 58
        }
      ]
    },
    {
      "cell_type": "markdown",
      "metadata": {
        "id": "yC5-dkee0B3c"
      },
      "source": [
        "#Random Forest"
      ]
    },
    {
      "cell_type": "code",
      "metadata": {
        "id": "Pfph_C7gsq2M"
      },
      "source": [
        "from sklearn import model_selection\n",
        "\n",
        "RF_var=[]\n",
        "for val in np.arange(1,50):\n",
        "  RF=RandomForestClassifier(criterion='gini',n_estimators=val,random_state=0)\n",
        "  kfold = model_selection.KFold(shuffle=True,n_splits=3,random_state=0)\n",
        "  cv_results = model_selection.cross_val_score(RF, x_train,y_train,cv=kfold, scoring='f1_weighted',n_jobs=-1)\n",
        "  RF_var.append(np.var(cv_results,ddof=1))"
      ],
      "execution_count": 59,
      "outputs": []
    },
    {
      "cell_type": "code",
      "metadata": {
        "id": "aMZVU1FTsq2S",
        "outputId": "b5381aff-4125-4522-e46d-2d94274bc200",
        "colab": {
          "base_uri": "https://localhost:8080/"
        }
      },
      "source": [
        "np.argmin(RF_var)"
      ],
      "execution_count": 60,
      "outputs": [
        {
          "output_type": "execute_result",
          "data": {
            "text/plain": [
              "12"
            ]
          },
          "metadata": {
            "tags": []
          },
          "execution_count": 60
        }
      ]
    },
    {
      "cell_type": "markdown",
      "metadata": {
        "id": "QMsS99Hs0UH8"
      },
      "source": [
        "#Bagging Classifier"
      ]
    },
    {
      "cell_type": "code",
      "metadata": {
        "id": "JYIpCik7sq2b"
      },
      "source": [
        "Bag_var=[]\n",
        "for val in np.arange(1,20):\n",
        "  Bag=BaggingClassifier(n_estimators=val,random_state=0)\n",
        "  kfold = model_selection.KFold(shuffle=True,n_splits=3,random_state=0)\n",
        "  cv_results = model_selection.cross_val_score(Bag, x_train,y_train,cv=kfold, scoring='f1_weighted',n_jobs=-1)\n",
        "  Bag_var.append(np.var(cv_results,ddof=1))"
      ],
      "execution_count": 61,
      "outputs": []
    },
    {
      "cell_type": "code",
      "metadata": {
        "id": "q5LPvTUGsq2g",
        "outputId": "3d329bb8-4e1a-4ee9-a86b-f1c8e5213f20",
        "colab": {
          "base_uri": "https://localhost:8080/"
        }
      },
      "source": [
        "np.argmin(Bag_var)"
      ],
      "execution_count": 62,
      "outputs": [
        {
          "output_type": "execute_result",
          "data": {
            "text/plain": [
              "18"
            ]
          },
          "metadata": {
            "tags": []
          },
          "execution_count": 62
        }
      ]
    },
    {
      "cell_type": "code",
      "metadata": {
        "id": "grkR9D5psq2n"
      },
      "source": [
        "LR=LogisticRegression()\n",
        "NB=GaussianNB()\n",
        "KNN=KNeighborsClassifier(n_neighbors=5,weights='distance')\n",
        "DT=DecisionTreeClassifier(criterion='gini',max_depth=14,min_samples_leaf=19,random_state=0)\n",
        "RF=RandomForestClassifier(criterion='entropy',n_estimators=7,random_state=0)\n",
        "Bag=BaggingClassifier(n_estimators=3,random_state=0)"
      ],
      "execution_count": 63,
      "outputs": []
    },
    {
      "cell_type": "code",
      "metadata": {
        "id": "Rk43jT380v7R"
      },
      "source": [
        "models = []\n",
        "models.append(('Logistic', LR))\n",
        "models.append(('NaiveBayes', NB))\n",
        "models.append(('KNN',KNN))\n",
        "models.append(('DecisionTree',DT))\n",
        "models.append(('RandomForest',RF))\n",
        "models.append(('BaggingClassifier',Bag))"
      ],
      "execution_count": 64,
      "outputs": []
    },
    {
      "cell_type": "code",
      "metadata": {
        "id": "ej9nd_6c0wIB",
        "outputId": "6ce1ecdd-3281-46df-af3b-68e90250bfeb",
        "colab": {
          "base_uri": "https://localhost:8080/",
          "height": 762
        }
      },
      "source": [
        "results = []\n",
        "names = []\n",
        "for name, model in models:\n",
        "\tkfold = model_selection.KFold(shuffle=True,n_splits=3,random_state=0)\n",
        "\tcv_results = model_selection.cross_val_score(model, x_train, y_train,cv=kfold, scoring='f1_weighted',n_jobs=-1)\n",
        "\tresults.append(cv_results)\n",
        "\tnames.append(name)\n",
        "\tprint(\"%s: %f (%f)\" % (name, np.mean(cv_results),np.var(cv_results,ddof=1)))\n",
        "   # boxplot algorithm comparison\n",
        "fig = plt.figure(figsize=(10,9))\n",
        "fig.suptitle('Algorithm Comparison')\n",
        "ax = fig.add_subplot(111)\n",
        "plt.boxplot(results)\n",
        "ax.set_xticklabels(names,rotation=45)\n",
        "plt.show()"
      ],
      "execution_count": 65,
      "outputs": [
        {
          "output_type": "stream",
          "text": [
            "Logistic: 0.847968 (0.000006)\n",
            "NaiveBayes: 0.818116 (0.000001)\n",
            "KNN: 0.950553 (0.000000)\n",
            "DecisionTree: 0.949900 (0.000000)\n",
            "RandomForest: 0.959107 (0.000000)\n",
            "BaggingClassifier: 0.953642 (0.000000)\n"
          ],
          "name": "stdout"
        },
        {
          "output_type": "display_data",
          "data": {
            "image/png": "[encoded data removed]",
            "text/plain": [
              "<Figure size 720x648 with 1 Axes>"
            ]
          },
          "metadata": {
            "tags": [],
            "needs_background": "light"
          }
        }
      ]
    },
    {
      "cell_type": "markdown",
      "metadata": {
        "id": "hHJ9UHkD06K3"
      },
      "source": [
        "From the above results it is observed that Random Forest is the best performing model. By comparing all algorithms bias error and variance error, random forest is observed to be the best so it would be used to predict loan defaulters. The test of random forest with base estimator (Decision Tree (which is default for random forest), n_estimators=7) model successfully achieved a weighted F1_score of 95%, suggesting high level of strength of this model to classify loan defaulter’s."
      ]
    },
    {
      "cell_type": "markdown",
      "metadata": {
        "id": "0LP5PHTH1Dku"
      },
      "source": [
        "# Random Forest"
      ]
    },
    {
      "cell_type": "code",
      "metadata": {
        "id": "R4h5MieC0wLF",
        "outputId": "8ad2301a-6cef-4ceb-ae3d-9328edad7135",
        "colab": {
          "base_uri": "https://localhost:8080/"
        }
      },
      "source": [
        "RF.fit(x_train,y_train)"
      ],
      "execution_count": 66,
      "outputs": [
        {
          "output_type": "execute_result",
          "data": {
            "text/plain": [
              "RandomForestClassifier(bootstrap=True, ccp_alpha=0.0, class_weight=None,\n",
              "                       criterion='entropy', max_depth=None, max_features='auto',\n",
              "                       max_leaf_nodes=None, max_samples=None,\n",
              "                       min_impurity_decrease=0.0, min_impurity_split=None,\n",
              "                       min_samples_leaf=1, min_samples_split=2,\n",
              "                       min_weight_fraction_leaf=0.0, n_estimators=7,\n",
              "                       n_jobs=None, oob_score=False, random_state=0, verbose=0,\n",
              "                       warm_start=False)"
            ]
          },
          "metadata": {
            "tags": []
          },
          "execution_count": 66
        }
      ]
    },
    {
      "cell_type": "code",
      "metadata": {
        "id": "SYGRKDGm_--q"
      },
      "source": [
        "predictions = RF.predict(x_test)"
      ],
      "execution_count": 67,
      "outputs": []
    },
    {
      "cell_type": "code",
      "metadata": {
        "id": "aaYMOOEc__JP",
        "outputId": "b3be42db-efe4-4dfa-bff0-7164da82b3b6",
        "colab": {
          "base_uri": "https://localhost:8080/",
          "height": 281
        }
      },
      "source": [
        "cm = confusion_matrix(y_test, predictions)\n",
        "sns.heatmap(cm, annot=True, fmt='d')\n",
        "plt.title('Confusion Matrix')\n",
        "plt.show()"
      ],
      "execution_count": 68,
      "outputs": [
        {
          "output_type": "display_data",
          "data": {
            "image/png": "[encoded data removed]",
            "text/plain": [
              "<Figure size 432x288 with 2 Axes>"
            ]
          },
          "metadata": {
            "tags": [],
            "needs_background": "light"
          }
        }
      ]
    },
    {
      "cell_type": "code",
      "metadata": {
        "id": "lFbSE5uI__QD",
        "outputId": "b0bca9ca-8e58-4fe5-8cc8-8dd779a54bcf",
        "colab": {
          "base_uri": "https://localhost:8080/"
        }
      },
      "source": [
        "# Classification Report\n",
        "print(classification_report(y_test, predictions))"
      ],
      "execution_count": 69,
      "outputs": [
        {
          "output_type": "stream",
          "text": [
            "              precision    recall  f1-score   support\n",
            "\n",
            "           0       0.97      0.74      0.84      7785\n",
            "           1       0.96      1.00      0.98     55093\n",
            "\n",
            "    accuracy                           0.97     62878\n",
            "   macro avg       0.97      0.87      0.91     62878\n",
            "weighted avg       0.97      0.97      0.96     62878\n",
            "\n"
          ],
          "name": "stdout"
        }
      ]
    },
    {
      "cell_type": "code",
      "metadata": {
        "id": "Vk3WGSNg__TA",
        "outputId": "b338d024-90db-4c1c-c7d2-5683ead9119f",
        "colab": {
          "base_uri": "https://localhost:8080/"
        }
      },
      "source": [
        "tn = cm[0,0]  #True Negative\n",
        "tp = cm[1,1]  #True Positives\n",
        "fp = cm[0,1]  #False Positives\n",
        "fn = cm[1,0]  #False Negatives\n",
        "\n",
        "accuracy = (tp+tn)/(tp+fn+fp+tn)\n",
        "precision = tp / (tp+fp)\n",
        "recall = tp / (tp+fn)\n",
        "f1 = 2*precision*recall / (precision+recall)\n",
        "\n",
        "print('Accuracy =',accuracy)\n",
        "print('Precision =', precision)\n",
        "print('Recall =', recall)\n",
        "print('F1 Score =', f1)"
      ],
      "execution_count": 70,
      "outputs": [
        {
          "output_type": "stream",
          "text": [
            "Accuracy = 0.9650275135977607\n",
            "Precision = 0.9641453141453141\n",
            "Recall = 0.9971684243007278\n",
            "F1 Score = 0.9803788602071865\n"
          ],
          "name": "stdout"
        }
      ]
    },
    {
      "cell_type": "code",
      "metadata": {
        "id": "qBAUSnhjAOIs",
        "outputId": "d84cbcd8-9bae-4ce3-8bf6-546be2a353c7",
        "colab": {
          "base_uri": "https://localhost:8080/",
          "height": 312
        }
      },
      "source": [
        "from sklearn.metrics import roc_curve,roc_auc_score\n",
        "ypred = RF.predict_proba(x_test)\n",
        "fpr,tpr,threshold = roc_curve(y_test,ypred[:,1])\n",
        "roc_auc = roc_auc_score(y_test,ypred[:,1])\n",
        "\n",
        "print('ROC AUC =', roc_auc)\n",
        "plt.figure()\n",
        "lw = 2\n",
        "plt.plot(fpr,tpr,color='darkorange',lw=lw,label='ROC Curve (area = %0.2f)'%roc_auc)\n",
        "plt.plot([0,1],[0,1],color='navy',lw=lw,linestyle='--')\n",
        "plt.xlim([0.0, 1.0])\n",
        "plt.ylim([0.0, 1.05])\n",
        "plt.xlabel('FPR')\n",
        "plt.ylabel('TPR')\n",
        "plt.title('ROC Curve')\n",
        "plt.legend(loc='lower right')\n",
        "plt.show()"
      ],
      "execution_count": 72,
      "outputs": [
        {
          "output_type": "stream",
          "text": [
            "ROC AUC = 0.9281778270854231\n"
          ],
          "name": "stdout"
        },
        {
          "output_type": "display_data",
          "data": {
            "image/png": "[encoded data removed]",
            "text/plain": [
              "<Figure size 432x288 with 1 Axes>"
            ]
          },
          "metadata": {
            "tags": [],
            "needs_background": "light"
          }
        }
      ]
    },
    {
      "cell_type": "markdown",
      "metadata": {
        "id": "zzo9fmNAAe5Q"
      },
      "source": [
        "I choose RandomForestClassifier as my final model because it give good accuracy_score."
      ]
    }
  ]
}